{
 "cells": [
  {
   "cell_type": "markdown",
   "id": "1efffd64",
   "metadata": {},
   "source": [
    "# Prediction of Triton work for \"NL I-9\" and each second TestMuh\n",
    "\n",
    "### target is CHE_FIGN;  is discrete or categorical variable and thus binary classification\n",
    "\n",
    "### what factor affecting target to change\n",
    "\n"
   ]
  },
  {
   "cell_type": "code",
   "execution_count": 1,
   "id": "307dc891",
   "metadata": {},
   "outputs": [],
   "source": [
    "# CHE_FIGN\n",
    "# 0.0    208097\n",
    "# 1.0        14\n",
    "# 9.0         1\n",
    "# Name: CHE_FIGN_1, dtype: int64"
   ]
  },
  {
   "cell_type": "code",
   "execution_count": 2,
   "id": "20bc7ec8",
   "metadata": {},
   "outputs": [],
   "source": [
    "# BLOWRPWM\n",
    "# CHE_FCDV\n",
    "# CHE_BPDV\n",
    "# FLAMETST\n",
    "# FLAME_ON\n",
    "# C_HEALTH\n",
    "# ALARM_01\n",
    "# ALARM_02\n",
    "# ALARM_03\n",
    "# ALARM_04\n",
    "# FLAMECUR\n",
    "# FANSPEED\n",
    "# VLVSTATE\n",
    "# GASVALVE\n",
    "# S3_EXPRS\n",
    "# S2_INPRS\n",
    "# S1_AIRFL\n",
    "# TANKTEMP\n",
    "# CHE_FIGN\n",
    "# CHE_BMIN\n",
    "# INLTTEMP"
   ]
  },
  {
   "cell_type": "code",
   "execution_count": 3,
   "id": "7eb3f946",
   "metadata": {},
   "outputs": [],
   "source": [
    "# Required Imports\n",
    "import glob\n",
    "import pandas as pd\n",
    "import numpy as np\n",
    "import os\n",
    "import matplotlib.pyplot as plt\n",
    "import seaborn as sns"
   ]
  },
  {
   "cell_type": "code",
   "execution_count": 4,
   "id": "95165620",
   "metadata": {},
   "outputs": [
    {
     "name": "stderr",
     "output_type": "stream",
     "text": [
      "C:\\Users\\muhammad.tahir.ctr\\Anaconda3\\lib\\site-packages\\IPython\\core\\interactiveshell.py:3437: DtypeWarning: Columns (2,3,4,5,7) have mixed types.Specify dtype option on import or set low_memory=False.\n",
      "  exec(code_obj, self.user_global_ns, self.user_ns)\n"
     ]
    }
   ],
   "source": [
    "#creating dataframe df1 of \"NL I09\"\n",
    "df1 = pd.concat(map(pd.read_csv, glob.glob('data1/*.csv')))"
   ]
  },
  {
   "cell_type": "code",
   "execution_count": 5,
   "id": "e0e46d90",
   "metadata": {
    "scrolled": false
   },
   "outputs": [
    {
     "data": {
      "text/html": [
       "<div>\n",
       "<style scoped>\n",
       "    .dataframe tbody tr th:only-of-type {\n",
       "        vertical-align: middle;\n",
       "    }\n",
       "\n",
       "    .dataframe tbody tr th {\n",
       "        vertical-align: top;\n",
       "    }\n",
       "\n",
       "    .dataframe thead th {\n",
       "        text-align: right;\n",
       "    }\n",
       "</style>\n",
       "<table border=\"1\" class=\"dataframe\">\n",
       "  <thead>\n",
       "    <tr style=\"text-align: right;\">\n",
       "      <th></th>\n",
       "      <th>Time</th>\n",
       "      <th>Date</th>\n",
       "      <th>BLOWRPWM_1</th>\n",
       "      <th>CHE_FCDV_1</th>\n",
       "      <th>CHE_BPDV_1</th>\n",
       "      <th>FLAMETST_1</th>\n",
       "      <th>FLAME_ON_1</th>\n",
       "      <th>C_HEALTH_1</th>\n",
       "      <th>ALARM_01_1</th>\n",
       "      <th>ALARM_02_1</th>\n",
       "      <th>ALARM_03_1</th>\n",
       "      <th>Unnamed: 11</th>\n",
       "    </tr>\n",
       "  </thead>\n",
       "  <tbody>\n",
       "    <tr>\n",
       "      <th>0</th>\n",
       "      <td>12:57:56 PM</td>\n",
       "      <td>9/10/2021</td>\n",
       "      <td>0.0</td>\n",
       "      <td>0</td>\n",
       "      <td>-1</td>\n",
       "      <td>6.4</td>\n",
       "      <td>No</td>\n",
       "      <td>93.4</td>\n",
       "      <td></td>\n",
       "      <td></td>\n",
       "      <td></td>\n",
       "      <td>NaN</td>\n",
       "    </tr>\n",
       "    <tr>\n",
       "      <th>1</th>\n",
       "      <td>12:57:57 PM</td>\n",
       "      <td>9/10/2021</td>\n",
       "      <td>0.0</td>\n",
       "      <td>0</td>\n",
       "      <td>-1</td>\n",
       "      <td>6.4</td>\n",
       "      <td>No</td>\n",
       "      <td>93.4</td>\n",
       "      <td></td>\n",
       "      <td></td>\n",
       "      <td></td>\n",
       "      <td>NaN</td>\n",
       "    </tr>\n",
       "    <tr>\n",
       "      <th>2</th>\n",
       "      <td>12:57:58 PM</td>\n",
       "      <td>9/10/2021</td>\n",
       "      <td>0.0</td>\n",
       "      <td>0</td>\n",
       "      <td>-1</td>\n",
       "      <td>6.4</td>\n",
       "      <td>No</td>\n",
       "      <td>93.4</td>\n",
       "      <td></td>\n",
       "      <td></td>\n",
       "      <td></td>\n",
       "      <td>NaN</td>\n",
       "    </tr>\n",
       "    <tr>\n",
       "      <th>3</th>\n",
       "      <td>12:57:59 PM</td>\n",
       "      <td>9/10/2021</td>\n",
       "      <td>---</td>\n",
       "      <td>---</td>\n",
       "      <td>---</td>\n",
       "      <td>---</td>\n",
       "      <td>---</td>\n",
       "      <td>---</td>\n",
       "      <td>---</td>\n",
       "      <td>---</td>\n",
       "      <td>---</td>\n",
       "      <td>NaN</td>\n",
       "    </tr>\n",
       "    <tr>\n",
       "      <th>4</th>\n",
       "      <td>12:58:00 PM</td>\n",
       "      <td>9/10/2021</td>\n",
       "      <td>0.0</td>\n",
       "      <td>0</td>\n",
       "      <td>-1</td>\n",
       "      <td>6.4</td>\n",
       "      <td>No</td>\n",
       "      <td>93.4</td>\n",
       "      <td></td>\n",
       "      <td></td>\n",
       "      <td></td>\n",
       "      <td>NaN</td>\n",
       "    </tr>\n",
       "  </tbody>\n",
       "</table>\n",
       "</div>"
      ],
      "text/plain": [
       "          Time       Date BLOWRPWM_1 CHE_FCDV_1 CHE_BPDV_1 FLAMETST_1  \\\n",
       "0  12:57:56 PM  9/10/2021        0.0          0         -1        6.4   \n",
       "1  12:57:57 PM  9/10/2021        0.0          0         -1        6.4   \n",
       "2  12:57:58 PM  9/10/2021        0.0          0         -1        6.4   \n",
       "3  12:57:59 PM  9/10/2021        ---        ---        ---        ---   \n",
       "4  12:58:00 PM  9/10/2021        0.0          0         -1        6.4   \n",
       "\n",
       "  FLAME_ON_1 C_HEALTH_1                                        ALARM_01_1  \\\n",
       "0         No       93.4                                                     \n",
       "1         No       93.4                                                     \n",
       "2         No       93.4                                                     \n",
       "3        ---        ---                                               ---   \n",
       "4         No       93.4                                                     \n",
       "\n",
       "                                         ALARM_02_1  \\\n",
       "0                                                     \n",
       "1                                                     \n",
       "2                                                     \n",
       "3                                               ---   \n",
       "4                                                     \n",
       "\n",
       "                                         ALARM_03_1  Unnamed: 11  \n",
       "0                                                            NaN  \n",
       "1                                                            NaN  \n",
       "2                                                            NaN  \n",
       "3                                               ---          NaN  \n",
       "4                                                            NaN  "
      ]
     },
     "execution_count": 5,
     "metadata": {},
     "output_type": "execute_result"
    }
   ],
   "source": [
    "#readong first 5 rows of \"NL I09\"\n",
    "df1.head()"
   ]
  },
  {
   "cell_type": "code",
   "execution_count": 6,
   "id": "c6a0bfbc",
   "metadata": {
    "scrolled": false
   },
   "outputs": [
    {
     "name": "stdout",
     "output_type": "stream",
     "text": [
      "<class 'pandas.core.frame.DataFrame'>\n",
      "Int64Index: 383286 entries, 0 to 31937\n",
      "Data columns (total 12 columns):\n",
      " #   Column       Non-Null Count   Dtype  \n",
      "---  ------       --------------   -----  \n",
      " 0   Time         383286 non-null  object \n",
      " 1   Date         383286 non-null  object \n",
      " 2   BLOWRPWM_1   383286 non-null  object \n",
      " 3   CHE_FCDV_1   383286 non-null  object \n",
      " 4   CHE_BPDV_1   383286 non-null  object \n",
      " 5   FLAMETST_1   383286 non-null  object \n",
      " 6   FLAME_ON_1   383286 non-null  object \n",
      " 7   C_HEALTH_1   383286 non-null  object \n",
      " 8   ALARM_01_1   383285 non-null  object \n",
      " 9   ALARM_02_1   383286 non-null  object \n",
      " 10  ALARM_03_1   383286 non-null  object \n",
      " 11  Unnamed: 11  0 non-null       float64\n",
      "dtypes: float64(1), object(11)\n",
      "memory usage: 38.0+ MB\n"
     ]
    }
   ],
   "source": [
    "# looking at null values and data types of each column for \"NL I09\"\n",
    "df1.info()"
   ]
  },
  {
   "cell_type": "code",
   "execution_count": 7,
   "id": "e1082700",
   "metadata": {},
   "outputs": [
    {
     "data": {
      "text/plain": [
       "Index(['Time', 'Date', 'BLOWRPWM_1', 'CHE_FCDV_1', 'CHE_BPDV_1', 'FLAMETST_1',\n",
       "       'FLAME_ON_1', 'C_HEALTH_1', 'ALARM_01_1', 'ALARM_02_1', 'ALARM_03_1',\n",
       "       'Unnamed: 11'],\n",
       "      dtype='object')"
      ]
     },
     "execution_count": 7,
     "metadata": {},
     "output_type": "execute_result"
    }
   ],
   "source": [
    "df1.columns"
   ]
  },
  {
   "cell_type": "code",
   "execution_count": 8,
   "id": "d48a8533",
   "metadata": {},
   "outputs": [],
   "source": [
    "df1['date_time'] = df1['Date'] + ' ' + df1['Time']\n",
    "df1 = df1.set_index('date_time')\n",
    "df1 = df1.drop(['Date','Time'], axis=1)\n",
    "df1.index = pd.to_datetime(df1.index, format='%m/%d/%Y %I:%M:%S %p')\n",
    "df1 = df1[df1.index.notnull()]\n",
    "df1 = df1.sort_index()"
   ]
  },
  {
   "cell_type": "code",
   "execution_count": 9,
   "id": "fc02db53",
   "metadata": {},
   "outputs": [],
   "source": [
    "delta_time = df1.index.to_series().diff()"
   ]
  },
  {
   "cell_type": "code",
   "execution_count": 10,
   "id": "e04db943",
   "metadata": {},
   "outputs": [
    {
     "data": {
      "text/plain": [
       "0 days 00:00:01    383283\n",
       "0 days 09:25:16         1\n",
       "0 days 00:01:02         1\n",
       "Name: date_time, dtype: int64"
      ]
     },
     "execution_count": 10,
     "metadata": {},
     "output_type": "execute_result"
    }
   ],
   "source": [
    "delta_time.value_counts().nlargest(10)"
   ]
  },
  {
   "cell_type": "code",
   "execution_count": 11,
   "id": "09f72157",
   "metadata": {},
   "outputs": [
    {
     "data": {
      "text/plain": [
       "date_time\n",
       "2021-09-13 09:25:15   0 days 09:25:16\n",
       "2021-09-13 17:06:23   0 days 00:01:02\n",
       "2021-09-10 12:57:57   0 days 00:00:01\n",
       "2021-09-10 12:57:58   0 days 00:00:01\n",
       "2021-09-10 12:57:59   0 days 00:00:01\n",
       "2021-09-10 12:58:00   0 days 00:00:01\n",
       "2021-09-10 12:58:01   0 days 00:00:01\n",
       "2021-09-10 12:58:02   0 days 00:00:01\n",
       "2021-09-10 12:58:03   0 days 00:00:01\n",
       "2021-09-10 12:58:04   0 days 00:00:01\n",
       "2021-09-10 12:58:05   0 days 00:00:01\n",
       "2021-09-10 12:58:06   0 days 00:00:01\n",
       "2021-09-10 12:58:07   0 days 00:00:01\n",
       "2021-09-10 12:58:08   0 days 00:00:01\n",
       "2021-09-10 12:58:09   0 days 00:00:01\n",
       "2021-09-10 12:58:10   0 days 00:00:01\n",
       "2021-09-10 12:58:11   0 days 00:00:01\n",
       "2021-09-10 12:58:12   0 days 00:00:01\n",
       "2021-09-10 12:58:13   0 days 00:00:01\n",
       "2021-09-10 12:58:14   0 days 00:00:01\n",
       "2021-09-10 12:58:15   0 days 00:00:01\n",
       "2021-09-10 12:58:16   0 days 00:00:01\n",
       "2021-09-10 12:58:17   0 days 00:00:01\n",
       "2021-09-10 12:58:18   0 days 00:00:01\n",
       "2021-09-10 12:58:19   0 days 00:00:01\n",
       "2021-09-10 12:58:20   0 days 00:00:01\n",
       "2021-09-10 12:58:21   0 days 00:00:01\n",
       "2021-09-10 12:58:22   0 days 00:00:01\n",
       "2021-09-10 12:58:23   0 days 00:00:01\n",
       "2021-09-10 12:58:24   0 days 00:00:01\n",
       "Name: date_time, dtype: timedelta64[ns]"
      ]
     },
     "execution_count": 11,
     "metadata": {},
     "output_type": "execute_result"
    }
   ],
   "source": [
    "delta_time.nlargest(30)"
   ]
  },
  {
   "cell_type": "code",
   "execution_count": 12,
   "id": "9fbb3666",
   "metadata": {},
   "outputs": [
    {
     "name": "stdout",
     "output_type": "stream",
     "text": [
      "<class 'pandas.core.frame.DataFrame'>\n",
      "DatetimeIndex: 383286 entries, 2021-09-10 12:57:56 to 2021-09-15 08:52:17\n",
      "Data columns (total 10 columns):\n",
      " #   Column       Non-Null Count   Dtype  \n",
      "---  ------       --------------   -----  \n",
      " 0   BLOWRPWM_1   383286 non-null  object \n",
      " 1   CHE_FCDV_1   383286 non-null  object \n",
      " 2   CHE_BPDV_1   383286 non-null  object \n",
      " 3   FLAMETST_1   383286 non-null  object \n",
      " 4   FLAME_ON_1   383286 non-null  object \n",
      " 5   C_HEALTH_1   383286 non-null  object \n",
      " 6   ALARM_01_1   383285 non-null  object \n",
      " 7   ALARM_02_1   383286 non-null  object \n",
      " 8   ALARM_03_1   383286 non-null  object \n",
      " 9   Unnamed: 11  0 non-null       float64\n",
      "dtypes: float64(1), object(9)\n",
      "memory usage: 32.2+ MB\n"
     ]
    }
   ],
   "source": [
    "df1.info()"
   ]
  },
  {
   "cell_type": "code",
   "execution_count": 13,
   "id": "47574fb5",
   "metadata": {},
   "outputs": [
    {
     "data": {
      "text/html": [
       "<div>\n",
       "<style scoped>\n",
       "    .dataframe tbody tr th:only-of-type {\n",
       "        vertical-align: middle;\n",
       "    }\n",
       "\n",
       "    .dataframe tbody tr th {\n",
       "        vertical-align: top;\n",
       "    }\n",
       "\n",
       "    .dataframe thead th {\n",
       "        text-align: right;\n",
       "    }\n",
       "</style>\n",
       "<table border=\"1\" class=\"dataframe\">\n",
       "  <thead>\n",
       "    <tr style=\"text-align: right;\">\n",
       "      <th></th>\n",
       "      <th>BLOWRPWM_1</th>\n",
       "      <th>CHE_FCDV_1</th>\n",
       "      <th>CHE_BPDV_1</th>\n",
       "      <th>FLAMETST_1</th>\n",
       "      <th>FLAME_ON_1</th>\n",
       "      <th>C_HEALTH_1</th>\n",
       "      <th>ALARM_01_1</th>\n",
       "      <th>ALARM_02_1</th>\n",
       "      <th>ALARM_03_1</th>\n",
       "      <th>Unnamed: 11</th>\n",
       "    </tr>\n",
       "    <tr>\n",
       "      <th>date_time</th>\n",
       "      <th></th>\n",
       "      <th></th>\n",
       "      <th></th>\n",
       "      <th></th>\n",
       "      <th></th>\n",
       "      <th></th>\n",
       "      <th></th>\n",
       "      <th></th>\n",
       "      <th></th>\n",
       "      <th></th>\n",
       "    </tr>\n",
       "  </thead>\n",
       "  <tbody>\n",
       "    <tr>\n",
       "      <th>2021-09-10 12:57:56</th>\n",
       "      <td>0.0</td>\n",
       "      <td>0</td>\n",
       "      <td>-1</td>\n",
       "      <td>6.4</td>\n",
       "      <td>No</td>\n",
       "      <td>93.4</td>\n",
       "      <td></td>\n",
       "      <td></td>\n",
       "      <td></td>\n",
       "      <td>NaN</td>\n",
       "    </tr>\n",
       "    <tr>\n",
       "      <th>2021-09-10 12:57:57</th>\n",
       "      <td>0.0</td>\n",
       "      <td>0</td>\n",
       "      <td>-1</td>\n",
       "      <td>6.4</td>\n",
       "      <td>No</td>\n",
       "      <td>93.4</td>\n",
       "      <td></td>\n",
       "      <td></td>\n",
       "      <td></td>\n",
       "      <td>NaN</td>\n",
       "    </tr>\n",
       "    <tr>\n",
       "      <th>2021-09-10 12:57:58</th>\n",
       "      <td>0.0</td>\n",
       "      <td>0</td>\n",
       "      <td>-1</td>\n",
       "      <td>6.4</td>\n",
       "      <td>No</td>\n",
       "      <td>93.4</td>\n",
       "      <td></td>\n",
       "      <td></td>\n",
       "      <td></td>\n",
       "      <td>NaN</td>\n",
       "    </tr>\n",
       "    <tr>\n",
       "      <th>2021-09-10 12:57:59</th>\n",
       "      <td>---</td>\n",
       "      <td>---</td>\n",
       "      <td>---</td>\n",
       "      <td>---</td>\n",
       "      <td>---</td>\n",
       "      <td>---</td>\n",
       "      <td>---</td>\n",
       "      <td>---</td>\n",
       "      <td>---</td>\n",
       "      <td>NaN</td>\n",
       "    </tr>\n",
       "    <tr>\n",
       "      <th>2021-09-10 12:58:00</th>\n",
       "      <td>0.0</td>\n",
       "      <td>0</td>\n",
       "      <td>-1</td>\n",
       "      <td>6.4</td>\n",
       "      <td>No</td>\n",
       "      <td>93.4</td>\n",
       "      <td></td>\n",
       "      <td></td>\n",
       "      <td></td>\n",
       "      <td>NaN</td>\n",
       "    </tr>\n",
       "  </tbody>\n",
       "</table>\n",
       "</div>"
      ],
      "text/plain": [
       "                    BLOWRPWM_1 CHE_FCDV_1 CHE_BPDV_1 FLAMETST_1 FLAME_ON_1  \\\n",
       "date_time                                                                    \n",
       "2021-09-10 12:57:56        0.0          0         -1        6.4         No   \n",
       "2021-09-10 12:57:57        0.0          0         -1        6.4         No   \n",
       "2021-09-10 12:57:58        0.0          0         -1        6.4         No   \n",
       "2021-09-10 12:57:59        ---        ---        ---        ---        ---   \n",
       "2021-09-10 12:58:00        0.0          0         -1        6.4         No   \n",
       "\n",
       "                    C_HEALTH_1  \\\n",
       "date_time                        \n",
       "2021-09-10 12:57:56       93.4   \n",
       "2021-09-10 12:57:57       93.4   \n",
       "2021-09-10 12:57:58       93.4   \n",
       "2021-09-10 12:57:59        ---   \n",
       "2021-09-10 12:58:00       93.4   \n",
       "\n",
       "                                                           ALARM_01_1  \\\n",
       "date_time                                                               \n",
       "2021-09-10 12:57:56                                                     \n",
       "2021-09-10 12:57:57                                                     \n",
       "2021-09-10 12:57:58                                                     \n",
       "2021-09-10 12:57:59                                               ---   \n",
       "2021-09-10 12:58:00                                                     \n",
       "\n",
       "                                                           ALARM_02_1  \\\n",
       "date_time                                                               \n",
       "2021-09-10 12:57:56                                                     \n",
       "2021-09-10 12:57:57                                                     \n",
       "2021-09-10 12:57:58                                                     \n",
       "2021-09-10 12:57:59                                               ---   \n",
       "2021-09-10 12:58:00                                                     \n",
       "\n",
       "                                                           ALARM_03_1  \\\n",
       "date_time                                                               \n",
       "2021-09-10 12:57:56                                                     \n",
       "2021-09-10 12:57:57                                                     \n",
       "2021-09-10 12:57:58                                                     \n",
       "2021-09-10 12:57:59                                               ---   \n",
       "2021-09-10 12:58:00                                                     \n",
       "\n",
       "                     Unnamed: 11  \n",
       "date_time                         \n",
       "2021-09-10 12:57:56          NaN  \n",
       "2021-09-10 12:57:57          NaN  \n",
       "2021-09-10 12:57:58          NaN  \n",
       "2021-09-10 12:57:59          NaN  \n",
       "2021-09-10 12:58:00          NaN  "
      ]
     },
     "execution_count": 13,
     "metadata": {},
     "output_type": "execute_result"
    }
   ],
   "source": [
    "df1.head()"
   ]
  },
  {
   "cell_type": "code",
   "execution_count": 14,
   "id": "f6e2184b",
   "metadata": {},
   "outputs": [
    {
     "name": "stdout",
     "output_type": "stream",
     "text": [
      "<class 'pandas.core.frame.DataFrame'>\n",
      "DatetimeIndex: 383286 entries, 2021-09-10 12:57:56 to 2021-09-15 08:52:17\n",
      "Data columns (total 9 columns):\n",
      " #   Column      Non-Null Count   Dtype \n",
      "---  ------      --------------   ----- \n",
      " 0   BLOWRPWM_1  383286 non-null  object\n",
      " 1   CHE_FCDV_1  383286 non-null  object\n",
      " 2   CHE_BPDV_1  383286 non-null  object\n",
      " 3   FLAMETST_1  383286 non-null  object\n",
      " 4   FLAME_ON_1  383286 non-null  object\n",
      " 5   C_HEALTH_1  383286 non-null  object\n",
      " 6   ALARM_01_1  383285 non-null  object\n",
      " 7   ALARM_02_1  383286 non-null  object\n",
      " 8   ALARM_03_1  383286 non-null  object\n",
      "dtypes: object(9)\n",
      "memory usage: 29.2+ MB\n"
     ]
    }
   ],
   "source": [
    "df1 = df1.drop(['Unnamed: 11'], axis=1)\n",
    "df1.info()"
   ]
  },
  {
   "cell_type": "code",
   "execution_count": 15,
   "id": "fef55782",
   "metadata": {},
   "outputs": [],
   "source": [
    "#creating dataframe df1 of \"NL I09\"\n",
    "df2 =  pd.concat(map(pd.read_csv, glob.glob('data2/*.csv')))"
   ]
  },
  {
   "cell_type": "code",
   "execution_count": 16,
   "id": "b7065708",
   "metadata": {},
   "outputs": [
    {
     "data": {
      "text/html": [
       "<div>\n",
       "<style scoped>\n",
       "    .dataframe tbody tr th:only-of-type {\n",
       "        vertical-align: middle;\n",
       "    }\n",
       "\n",
       "    .dataframe tbody tr th {\n",
       "        vertical-align: top;\n",
       "    }\n",
       "\n",
       "    .dataframe thead th {\n",
       "        text-align: right;\n",
       "    }\n",
       "</style>\n",
       "<table border=\"1\" class=\"dataframe\">\n",
       "  <thead>\n",
       "    <tr style=\"text-align: right;\">\n",
       "      <th></th>\n",
       "      <th>Time</th>\n",
       "      <th>Date</th>\n",
       "      <th>ALARM_04_1</th>\n",
       "      <th>FLAMECUR_1</th>\n",
       "      <th>FANSPEED_1</th>\n",
       "      <th>VLVSTATE_1</th>\n",
       "      <th>GASVALVE_1</th>\n",
       "      <th>S3_EXPRS_1</th>\n",
       "      <th>S2_INPRS_1</th>\n",
       "      <th>S1_AIRFL_1</th>\n",
       "      <th>TANKTEMP_1</th>\n",
       "      <th>CHE_FIGN_1</th>\n",
       "      <th>CHE_BMIN_1</th>\n",
       "      <th>INLTTEMP_1</th>\n",
       "      <th>Unnamed: 14</th>\n",
       "    </tr>\n",
       "  </thead>\n",
       "  <tbody>\n",
       "    <tr>\n",
       "      <th>0</th>\n",
       "      <td>12:55:55 PM</td>\n",
       "      <td>9/10/2021</td>\n",
       "      <td></td>\n",
       "      <td>0.0</td>\n",
       "      <td>0</td>\n",
       "      <td>Standby</td>\n",
       "      <td>Closed</td>\n",
       "      <td>Closed</td>\n",
       "      <td>Closed</td>\n",
       "      <td>Open</td>\n",
       "      <td>177.9</td>\n",
       "      <td>3230</td>\n",
       "      <td>64151</td>\n",
       "      <td>78.1</td>\n",
       "      <td>NaN</td>\n",
       "    </tr>\n",
       "    <tr>\n",
       "      <th>1</th>\n",
       "      <td>12:55:56 PM</td>\n",
       "      <td>9/10/2021</td>\n",
       "      <td></td>\n",
       "      <td>0.0</td>\n",
       "      <td>0</td>\n",
       "      <td>Standby</td>\n",
       "      <td>Closed</td>\n",
       "      <td>Closed</td>\n",
       "      <td>Closed</td>\n",
       "      <td>Open</td>\n",
       "      <td>177.9</td>\n",
       "      <td>3230</td>\n",
       "      <td>64151</td>\n",
       "      <td>78.1</td>\n",
       "      <td>NaN</td>\n",
       "    </tr>\n",
       "    <tr>\n",
       "      <th>2</th>\n",
       "      <td>12:55:57 PM</td>\n",
       "      <td>9/10/2021</td>\n",
       "      <td></td>\n",
       "      <td>0.0</td>\n",
       "      <td>0</td>\n",
       "      <td>Standby</td>\n",
       "      <td>Closed</td>\n",
       "      <td>Closed</td>\n",
       "      <td>Closed</td>\n",
       "      <td>Open</td>\n",
       "      <td>177.9</td>\n",
       "      <td>3230</td>\n",
       "      <td>64151</td>\n",
       "      <td>78.1</td>\n",
       "      <td>NaN</td>\n",
       "    </tr>\n",
       "    <tr>\n",
       "      <th>3</th>\n",
       "      <td>12:55:58 PM</td>\n",
       "      <td>9/10/2021</td>\n",
       "      <td></td>\n",
       "      <td>0.0</td>\n",
       "      <td>0</td>\n",
       "      <td>Standby</td>\n",
       "      <td>Closed</td>\n",
       "      <td>Closed</td>\n",
       "      <td>Closed</td>\n",
       "      <td>Open</td>\n",
       "      <td>177.9</td>\n",
       "      <td>3230</td>\n",
       "      <td>64151</td>\n",
       "      <td>78.2</td>\n",
       "      <td>NaN</td>\n",
       "    </tr>\n",
       "    <tr>\n",
       "      <th>4</th>\n",
       "      <td>12:55:59 PM</td>\n",
       "      <td>9/10/2021</td>\n",
       "      <td></td>\n",
       "      <td>0.0</td>\n",
       "      <td>0</td>\n",
       "      <td>Standby</td>\n",
       "      <td>Closed</td>\n",
       "      <td>Closed</td>\n",
       "      <td>Closed</td>\n",
       "      <td>Open</td>\n",
       "      <td>177.9</td>\n",
       "      <td>3230</td>\n",
       "      <td>64151</td>\n",
       "      <td>78.2</td>\n",
       "      <td>NaN</td>\n",
       "    </tr>\n",
       "  </tbody>\n",
       "</table>\n",
       "</div>"
      ],
      "text/plain": [
       "          Time       Date                                        ALARM_04_1  \\\n",
       "0  12:55:55 PM  9/10/2021                                                     \n",
       "1  12:55:56 PM  9/10/2021                                                     \n",
       "2  12:55:57 PM  9/10/2021                                                     \n",
       "3  12:55:58 PM  9/10/2021                                                     \n",
       "4  12:55:59 PM  9/10/2021                                                     \n",
       "\n",
       "  FLAMECUR_1 FANSPEED_1 VLVSTATE_1 GASVALVE_1 S3_EXPRS_1 S2_INPRS_1  \\\n",
       "0        0.0          0    Standby     Closed     Closed     Closed   \n",
       "1        0.0          0    Standby     Closed     Closed     Closed   \n",
       "2        0.0          0    Standby     Closed     Closed     Closed   \n",
       "3        0.0          0    Standby     Closed     Closed     Closed   \n",
       "4        0.0          0    Standby     Closed     Closed     Closed   \n",
       "\n",
       "  S1_AIRFL_1 TANKTEMP_1 CHE_FIGN_1 CHE_BMIN_1 INLTTEMP_1  Unnamed: 14  \n",
       "0       Open      177.9       3230      64151       78.1          NaN  \n",
       "1       Open      177.9       3230      64151       78.1          NaN  \n",
       "2       Open      177.9       3230      64151       78.1          NaN  \n",
       "3       Open      177.9       3230      64151       78.2          NaN  \n",
       "4       Open      177.9       3230      64151       78.2          NaN  "
      ]
     },
     "execution_count": 16,
     "metadata": {},
     "output_type": "execute_result"
    }
   ],
   "source": [
    "df2.head()"
   ]
  },
  {
   "cell_type": "code",
   "execution_count": 17,
   "id": "3f840414",
   "metadata": {},
   "outputs": [
    {
     "name": "stdout",
     "output_type": "stream",
     "text": [
      "<class 'pandas.core.frame.DataFrame'>\n",
      "Int64Index: 383636 entries, 0 to 31937\n",
      "Data columns (total 15 columns):\n",
      " #   Column       Non-Null Count   Dtype  \n",
      "---  ------       --------------   -----  \n",
      " 0   Time         383636 non-null  object \n",
      " 1   Date         383636 non-null  object \n",
      " 2   ALARM_04_1   383636 non-null  object \n",
      " 3   FLAMECUR_1   383636 non-null  object \n",
      " 4   FANSPEED_1   383636 non-null  object \n",
      " 5   VLVSTATE_1   383636 non-null  object \n",
      " 6   GASVALVE_1   383636 non-null  object \n",
      " 7   S3_EXPRS_1   383636 non-null  object \n",
      " 8   S2_INPRS_1   383636 non-null  object \n",
      " 9   S1_AIRFL_1   383636 non-null  object \n",
      " 10  TANKTEMP_1   383636 non-null  object \n",
      " 11  CHE_FIGN_1   383636 non-null  object \n",
      " 12  CHE_BMIN_1   383636 non-null  object \n",
      " 13  INLTTEMP_1   383636 non-null  object \n",
      " 14  Unnamed: 14  0 non-null       float64\n",
      "dtypes: float64(1), object(14)\n",
      "memory usage: 46.8+ MB\n"
     ]
    }
   ],
   "source": [
    "df2.info()"
   ]
  },
  {
   "cell_type": "code",
   "execution_count": null,
   "id": "55c540f5",
   "metadata": {},
   "outputs": [],
   "source": []
  },
  {
   "cell_type": "code",
   "execution_count": 18,
   "id": "cdde9dea",
   "metadata": {},
   "outputs": [],
   "source": [
    "#df2['date_time'] = df2['Time'] + ' ' + df2['Date']"
   ]
  },
  {
   "cell_type": "code",
   "execution_count": 19,
   "id": "6f771559",
   "metadata": {},
   "outputs": [],
   "source": [
    "df2['date_time'] = df2['Date'] + ' ' + df2['Time']\n",
    "df2 = df2.set_index('date_time')\n",
    "df2 = df2.drop(['Time'], axis=1)\n",
    "df2.index = pd.to_datetime(df2.index, format='%m/%d/%Y %I:%M:%S %p')\n",
    "df2 = df2[df2.index.notnull()]\n",
    "df2 = df2.sort_index()"
   ]
  },
  {
   "cell_type": "code",
   "execution_count": 20,
   "id": "bfe36af1",
   "metadata": {},
   "outputs": [],
   "source": [
    "delta_time = df2.index.to_series().diff()"
   ]
  },
  {
   "cell_type": "code",
   "execution_count": 21,
   "id": "a97f569d",
   "metadata": {},
   "outputs": [],
   "source": [
    "#delta_time = df.index.to_series().diff()"
   ]
  },
  {
   "cell_type": "code",
   "execution_count": 22,
   "id": "a09f03ab",
   "metadata": {},
   "outputs": [
    {
     "data": {
      "text/plain": [
       "0 days 00:00:01    383634\n",
       "0 days 09:22:28         1\n",
       "Name: date_time, dtype: int64"
      ]
     },
     "execution_count": 22,
     "metadata": {},
     "output_type": "execute_result"
    }
   ],
   "source": [
    "delta_time.value_counts().nlargest(10)"
   ]
  },
  {
   "cell_type": "code",
   "execution_count": 23,
   "id": "d8412192",
   "metadata": {},
   "outputs": [
    {
     "data": {
      "text/plain": [
       "date_time\n",
       "2021-09-13 09:22:27   0 days 09:22:28\n",
       "2021-09-10 12:55:56   0 days 00:00:01\n",
       "2021-09-10 12:55:57   0 days 00:00:01\n",
       "2021-09-10 12:55:58   0 days 00:00:01\n",
       "2021-09-10 12:55:59   0 days 00:00:01\n",
       "2021-09-10 12:56:00   0 days 00:00:01\n",
       "2021-09-10 12:56:01   0 days 00:00:01\n",
       "2021-09-10 12:56:02   0 days 00:00:01\n",
       "2021-09-10 12:56:03   0 days 00:00:01\n",
       "2021-09-10 12:56:04   0 days 00:00:01\n",
       "2021-09-10 12:56:05   0 days 00:00:01\n",
       "2021-09-10 12:56:06   0 days 00:00:01\n",
       "2021-09-10 12:56:07   0 days 00:00:01\n",
       "2021-09-10 12:56:08   0 days 00:00:01\n",
       "2021-09-10 12:56:09   0 days 00:00:01\n",
       "2021-09-10 12:56:10   0 days 00:00:01\n",
       "2021-09-10 12:56:11   0 days 00:00:01\n",
       "2021-09-10 12:56:12   0 days 00:00:01\n",
       "2021-09-10 12:56:13   0 days 00:00:01\n",
       "2021-09-10 12:56:14   0 days 00:00:01\n",
       "2021-09-10 12:56:15   0 days 00:00:01\n",
       "2021-09-10 12:56:16   0 days 00:00:01\n",
       "2021-09-10 12:56:17   0 days 00:00:01\n",
       "2021-09-10 12:56:18   0 days 00:00:01\n",
       "2021-09-10 12:56:19   0 days 00:00:01\n",
       "2021-09-10 12:56:20   0 days 00:00:01\n",
       "2021-09-10 12:56:21   0 days 00:00:01\n",
       "2021-09-10 12:56:22   0 days 00:00:01\n",
       "2021-09-10 12:56:23   0 days 00:00:01\n",
       "2021-09-10 12:56:24   0 days 00:00:01\n",
       "Name: date_time, dtype: timedelta64[ns]"
      ]
     },
     "execution_count": 23,
     "metadata": {},
     "output_type": "execute_result"
    }
   ],
   "source": [
    "delta_time.nlargest(30)"
   ]
  },
  {
   "cell_type": "code",
   "execution_count": 24,
   "id": "e78bae32",
   "metadata": {},
   "outputs": [
    {
     "name": "stdout",
     "output_type": "stream",
     "text": [
      "<class 'pandas.core.frame.DataFrame'>\n",
      "DatetimeIndex: 383636 entries, 2021-09-10 12:55:55 to 2021-09-15 08:52:17\n",
      "Data columns (total 13 columns):\n",
      " #   Column      Non-Null Count   Dtype \n",
      "---  ------      --------------   ----- \n",
      " 0   Date        383636 non-null  object\n",
      " 1   ALARM_04_1  383636 non-null  object\n",
      " 2   FLAMECUR_1  383636 non-null  object\n",
      " 3   FANSPEED_1  383636 non-null  object\n",
      " 4   VLVSTATE_1  383636 non-null  object\n",
      " 5   GASVALVE_1  383636 non-null  object\n",
      " 6   S3_EXPRS_1  383636 non-null  object\n",
      " 7   S2_INPRS_1  383636 non-null  object\n",
      " 8   S1_AIRFL_1  383636 non-null  object\n",
      " 9   TANKTEMP_1  383636 non-null  object\n",
      " 10  CHE_FIGN_1  383636 non-null  object\n",
      " 11  CHE_BMIN_1  383636 non-null  object\n",
      " 12  INLTTEMP_1  383636 non-null  object\n",
      "dtypes: object(13)\n",
      "memory usage: 41.0+ MB\n"
     ]
    }
   ],
   "source": [
    "df2 = df2.drop(['Unnamed: 14'], axis=1)\n",
    "df2.info()"
   ]
  },
  {
   "cell_type": "code",
   "execution_count": 25,
   "id": "f50e5b53",
   "metadata": {},
   "outputs": [],
   "source": [
    "#df2.loc[df2['CHE_FIGN_1']=='9']\n"
   ]
  },
  {
   "cell_type": "code",
   "execution_count": 26,
   "id": "81e5d129",
   "metadata": {},
   "outputs": [],
   "source": [
    "#df2['CHE_FIGN_2'] = df2['CHE_FIGN_1'].astype(int).diff()"
   ]
  },
  {
   "cell_type": "code",
   "execution_count": 27,
   "id": "3667e2eb",
   "metadata": {},
   "outputs": [],
   "source": [
    "# first combine time and date and then merge on date/time"
   ]
  },
  {
   "cell_type": "code",
   "execution_count": 28,
   "id": "798ecae5",
   "metadata": {},
   "outputs": [
    {
     "name": "stdout",
     "output_type": "stream",
     "text": [
      "<class 'pandas.core.frame.DataFrame'>\n",
      "DatetimeIndex: 383286 entries, 2021-09-10 12:57:56 to 2021-09-15 08:52:17\n",
      "Data columns (total 22 columns):\n",
      " #   Column      Non-Null Count   Dtype \n",
      "---  ------      --------------   ----- \n",
      " 0   BLOWRPWM_1  383286 non-null  object\n",
      " 1   CHE_FCDV_1  383286 non-null  object\n",
      " 2   CHE_BPDV_1  383286 non-null  object\n",
      " 3   FLAMETST_1  383286 non-null  object\n",
      " 4   FLAME_ON_1  383286 non-null  object\n",
      " 5   C_HEALTH_1  383286 non-null  object\n",
      " 6   ALARM_01_1  383285 non-null  object\n",
      " 7   ALARM_02_1  383286 non-null  object\n",
      " 8   ALARM_03_1  383286 non-null  object\n",
      " 9   Date        383286 non-null  object\n",
      " 10  ALARM_04_1  383286 non-null  object\n",
      " 11  FLAMECUR_1  383286 non-null  object\n",
      " 12  FANSPEED_1  383286 non-null  object\n",
      " 13  VLVSTATE_1  383286 non-null  object\n",
      " 14  GASVALVE_1  383286 non-null  object\n",
      " 15  S3_EXPRS_1  383286 non-null  object\n",
      " 16  S2_INPRS_1  383286 non-null  object\n",
      " 17  S1_AIRFL_1  383286 non-null  object\n",
      " 18  TANKTEMP_1  383286 non-null  object\n",
      " 19  CHE_FIGN_1  383286 non-null  object\n",
      " 20  CHE_BMIN_1  383286 non-null  object\n",
      " 21  INLTTEMP_1  383286 non-null  object\n",
      "dtypes: object(22)\n",
      "memory usage: 67.3+ MB\n"
     ]
    }
   ],
   "source": [
    "df3 = df1.merge(df2, on='date_time', how='inner')\n",
    "df3.info()"
   ]
  },
  {
   "cell_type": "code",
   "execution_count": 29,
   "id": "ae40de38",
   "metadata": {},
   "outputs": [],
   "source": [
    "#df_final = df3.drop(['Unnamed: 11', 'Unnamed: 14', 'Date_x', 'Date_y'], axis=1)\n",
    "#df_final.info()"
   ]
  },
  {
   "cell_type": "code",
   "execution_count": 30,
   "id": "04843160",
   "metadata": {},
   "outputs": [],
   "source": [
    "df_final = df3"
   ]
  },
  {
   "cell_type": "code",
   "execution_count": 31,
   "id": "538b5677",
   "metadata": {},
   "outputs": [
    {
     "data": {
      "text/plain": [
       "---     175166\n",
       "0.0      88073\n",
       "68.0     40346\n",
       "0.0      29743\n",
       "68.0     13631\n",
       "         ...  \n",
       "21.0        15\n",
       "61.5        11\n",
       "24.5        11\n",
       "20.0        10\n",
       "25.5        10\n",
       "Name: BLOWRPWM_1, Length: 195, dtype: int64"
      ]
     },
     "execution_count": 31,
     "metadata": {},
     "output_type": "execute_result"
    }
   ],
   "source": [
    "df_final['BLOWRPWM_1'].value_counts()"
   ]
  },
  {
   "cell_type": "code",
   "execution_count": 32,
   "id": "19837bfd",
   "metadata": {},
   "outputs": [
    {
     "data": {
      "text/plain": [
       "array(['0.0', '---', '26.0', '34.0', '23.0', '26.5', '27.5', '28.0',\n",
       "       '40.0', '51.0', '62.0', '67.0', '68.0', '68.5', '67.5', '65.0',\n",
       "       '59.5', '56.5', '53.5', '49.5', '45.5', '42.5', '39.0', '37.0',\n",
       "       '35.0', '32.0', '29.0', '24.0', '31.0', '25.0', '30.0', '48.0',\n",
       "       '60.0', '66.5', '61.5', '58.5', '55.0', '52.0', '46.0', '40.5',\n",
       "       '36.5', '28.5', '27.0', '22.5', '39.5', '50.5', '62.5', '63.0',\n",
       "       '57.0', '46.5', '43.5', '41.0', '38.5', '35.5', '33.0', '21.0',\n",
       "       '42.0', '53.0', '64.0', '63.5', '56.0', '52.5', '47.0', '44.0',\n",
       "       '34.5', '32.5', '61.0', '57.5', '54.5', '51.5', '64.5', '48.5',\n",
       "       '45.0', '43.0', '36.0', '29.5', '47.5', '66.0', '60.5', '38.0',\n",
       "       '59.0', '55.5', '22.0', '23.5', '58.0', '54.0', '65.5', '50.0',\n",
       "       '37.5', '25.5', '44.5', '31.5', '24.5', '41.5', '30.5', '20.0',\n",
       "       '33.5', '49.0', 0.0, 20.0, 28.0, 29.0, 24.0, 27.5, 33.0, 45.0,\n",
       "       56.0, 64.0, 67.5, 68.0, 68.5, 66.5, 62.5, 60.5, 57.0, 53.5, 49.5,\n",
       "       46.5, 43.5, 41.0, 38.0, 35.5, 30.5, 28.5, 27.0, 23.0, 26.5, 40.0,\n",
       "       52.0, 67.0, 66.0, 63.0, 59.0, 57.5, 55.0, 51.5, 47.5, 44.5, 42.0,\n",
       "       39.5, 36.5, 33.5, 30.0, 26.0, 25.0, 36.0, 47.0, 58.0, 65.5, 48.5,\n",
       "       45.5, 42.5, 37.5, 34.0, 31.5, 39.0, 50.0, 62.0, 61.5, 43.0, 35.0,\n",
       "       32.0, 49.0, 61.0, 58.5, 54.5, 41.5, 38.5, 32.5, 37.0, 60.0, 63.5,\n",
       "       52.5, 21.0, 46.0, 29.5, 22.0, 51.0, 65.0, 53.0, 34.5, 31.0, 22.5,\n",
       "       44.0, 59.5, 54.0, 48.0, 24.5, 64.5, 55.5, 56.5, 40.5, 50.5, 25.5,\n",
       "       23.5], dtype=object)"
      ]
     },
     "execution_count": 32,
     "metadata": {},
     "output_type": "execute_result"
    }
   ],
   "source": [
    "df_final['BLOWRPWM_1'].unique()"
   ]
  },
  {
   "cell_type": "code",
   "execution_count": 33,
   "id": "82a59e59",
   "metadata": {},
   "outputs": [],
   "source": [
    "df_final.drop(df_final[df_final['BLOWRPWM_1']=='---'].index, inplace = True)"
   ]
  },
  {
   "cell_type": "code",
   "execution_count": 34,
   "id": "b4a1927e",
   "metadata": {},
   "outputs": [],
   "source": [
    "#what about dash and other values ?\n",
    "# remove dashes\n",
    "# combine any string and numbers\n",
    "# these are percentages\n",
    "# higher number means faster speed of the fan"
   ]
  },
  {
   "cell_type": "code",
   "execution_count": 35,
   "id": "55680103",
   "metadata": {},
   "outputs": [],
   "source": [
    "df_final['BLOWRPWM_1'] = df_final['BLOWRPWM_1'].astype(float)"
   ]
  },
  {
   "cell_type": "code",
   "execution_count": 36,
   "id": "3bbdae8e",
   "metadata": {},
   "outputs": [
    {
     "data": {
      "text/plain": [
       "dtype('float64')"
      ]
     },
     "execution_count": 36,
     "metadata": {},
     "output_type": "execute_result"
    }
   ],
   "source": [
    "df_final['BLOWRPWM_1'].dtype"
   ]
  },
  {
   "cell_type": "code",
   "execution_count": 37,
   "id": "7ce5a27a",
   "metadata": {},
   "outputs": [
    {
     "data": {
      "text/plain": [
       "0     154861\n",
       "0      52802\n",
       "54       457\n",
       "Name: CHE_FCDV_1, dtype: int64"
      ]
     },
     "execution_count": 37,
     "metadata": {},
     "output_type": "execute_result"
    }
   ],
   "source": [
    "df_final['CHE_FCDV_1'].value_counts()"
   ]
  },
  {
   "cell_type": "code",
   "execution_count": 38,
   "id": "2679eb51",
   "metadata": {},
   "outputs": [
    {
     "data": {
      "text/plain": [
       "array(['0', '54', 0], dtype=object)"
      ]
     },
     "execution_count": 38,
     "metadata": {},
     "output_type": "execute_result"
    }
   ],
   "source": [
    "df_final['CHE_FCDV_1'].unique()"
   ]
  },
  {
   "cell_type": "code",
   "execution_count": 39,
   "id": "32a2d8dc",
   "metadata": {},
   "outputs": [
    {
     "data": {
      "text/plain": [
       "dtype('O')"
      ]
     },
     "execution_count": 39,
     "metadata": {},
     "output_type": "execute_result"
    }
   ],
   "source": [
    "df_final['CHE_FCDV_1'].dtype"
   ]
  },
  {
   "cell_type": "code",
   "execution_count": 40,
   "id": "009e937d",
   "metadata": {},
   "outputs": [],
   "source": [
    "# to change labels of \"CHE_FCDV_1\"\n",
    "\n",
    "CHE_FCDV_1_dict = {\n",
    "    '0': 0,\n",
    "    0: 0,\n",
    "    '54': 54\n",
    "}\n",
    "\n",
    "df_final[\"CHE_FCDV_1\"] = df_final[\"CHE_FCDV_1\"].map(CHE_FCDV_1_dict)"
   ]
  },
  {
   "cell_type": "code",
   "execution_count": 41,
   "id": "d5946fa0",
   "metadata": {},
   "outputs": [],
   "source": [
    "#what about dash and other values ?\n",
    "# remove dashes\n",
    "# keep zero and 54 , keep betweem 0 and 100"
   ]
  },
  {
   "cell_type": "code",
   "execution_count": 42,
   "id": "c2a14fe5",
   "metadata": {},
   "outputs": [
    {
     "data": {
      "text/plain": [
       "-1    123822\n",
       "-1     43056\n",
       "0      31496\n",
       "0       9746\n",
       "Name: CHE_BPDV_1, dtype: int64"
      ]
     },
     "execution_count": 42,
     "metadata": {},
     "output_type": "execute_result"
    }
   ],
   "source": [
    "df_final['CHE_BPDV_1'].value_counts()"
   ]
  },
  {
   "cell_type": "code",
   "execution_count": 43,
   "id": "ad34cca8",
   "metadata": {},
   "outputs": [
    {
     "data": {
      "text/plain": [
       "array(['-1', '0', -1, 0], dtype=object)"
      ]
     },
     "execution_count": 43,
     "metadata": {},
     "output_type": "execute_result"
    }
   ],
   "source": [
    "df_final['CHE_BPDV_1'].unique()"
   ]
  },
  {
   "cell_type": "code",
   "execution_count": 44,
   "id": "281d8eb2",
   "metadata": {},
   "outputs": [],
   "source": [
    "# to change labels of \"CHE_BPDV_1\"\n",
    "\n",
    "CHE_BPDV_1_dict = {\n",
    "    '-1': -1,\n",
    "    -1: -1,\n",
    "    0: 0,\n",
    "    '0': 0\n",
    "}\n",
    "\n",
    "df_final[\"CHE_BPDV_1\"] = df_final[\"CHE_BPDV_1\"].map(CHE_BPDV_1_dict)"
   ]
  },
  {
   "cell_type": "code",
   "execution_count": 45,
   "id": "4b359139",
   "metadata": {},
   "outputs": [],
   "source": [
    "#what about dash and other values ?\n",
    "# remove dashes\n",
    "# 0 and -1 percentages values\n",
    "# blower deviation"
   ]
  },
  {
   "cell_type": "code",
   "execution_count": 46,
   "id": "d08e4d4f",
   "metadata": {},
   "outputs": [
    {
     "data": {
      "text/plain": [
       "array([-1,  0], dtype=int64)"
      ]
     },
     "execution_count": 46,
     "metadata": {},
     "output_type": "execute_result"
    }
   ],
   "source": [
    "df_final['CHE_BPDV_1'].unique()"
   ]
  },
  {
   "cell_type": "code",
   "execution_count": 47,
   "id": "e5a0683a",
   "metadata": {},
   "outputs": [
    {
     "data": {
      "text/plain": [
       "dtype('int64')"
      ]
     },
     "execution_count": 47,
     "metadata": {},
     "output_type": "execute_result"
    }
   ],
   "source": [
    "df_final['CHE_BPDV_1'].dtype"
   ]
  },
  {
   "cell_type": "code",
   "execution_count": 48,
   "id": "ebd9ac1f",
   "metadata": {},
   "outputs": [
    {
     "data": {
      "text/plain": [
       "6.4    54849\n",
       "6.2    24698\n",
       "6.3    22049\n",
       "6.5    20116\n",
       "6.4    18444\n",
       "6.6    13810\n",
       "6.5    10692\n",
       "6.3     9370\n",
       "6.9     7496\n",
       "6.6     6025\n",
       "6.8     3307\n",
       "6.8     2775\n",
       "6.2     2446\n",
       "7.0     2140\n",
       "6.7     2068\n",
       "7.1     1109\n",
       "7.0     1095\n",
       "6.7     1068\n",
       "7.2     1043\n",
       "0.9      866\n",
       "1.8      450\n",
       "3.1      447\n",
       "1.1      447\n",
       "3.3      444\n",
       "1.0      440\n",
       "3.8      425\n",
       "0.0        1\n",
       "Name: FLAMETST_1, dtype: int64"
      ]
     },
     "execution_count": 48,
     "metadata": {},
     "output_type": "execute_result"
    }
   ],
   "source": [
    "df_final['FLAMETST_1'].value_counts()"
   ]
  },
  {
   "cell_type": "code",
   "execution_count": 49,
   "id": "98044010",
   "metadata": {},
   "outputs": [
    {
     "data": {
      "text/plain": [
       "array(['6.4', '6.5', '6.7', '6.9', '6.6', '3.8', '0.9', '6.2', '0.0',\n",
       "       '7.1', '6.3', '6.8', '3.3', '7.0', '1.1', '1.8', '7.2', 6.8, 6.2,\n",
       "       6.4, 6.3, 6.6, 6.5, 6.7, 7.0, 1.0, 3.1], dtype=object)"
      ]
     },
     "execution_count": 49,
     "metadata": {},
     "output_type": "execute_result"
    }
   ],
   "source": [
    "df_final['FLAMETST_1'].unique()"
   ]
  },
  {
   "cell_type": "code",
   "execution_count": 50,
   "id": "9a0b0946",
   "metadata": {},
   "outputs": [],
   "source": [
    "df_final['FLAMETST_1'] = df_final['FLAMETST_1'].astype(float)"
   ]
  },
  {
   "cell_type": "code",
   "execution_count": 51,
   "id": "2b651154",
   "metadata": {},
   "outputs": [
    {
     "data": {
      "text/plain": [
       "dtype('float64')"
      ]
     },
     "execution_count": 51,
     "metadata": {},
     "output_type": "execute_result"
    }
   ],
   "source": [
    "df_final['FLAMETST_1'].dtype"
   ]
  },
  {
   "cell_type": "code",
   "execution_count": 52,
   "id": "08460bfe",
   "metadata": {},
   "outputs": [],
   "source": [
    "#what about dash and other values ?\n",
    "# remove dashes\n",
    "# others are good between 0 and 10"
   ]
  },
  {
   "cell_type": "code",
   "execution_count": 53,
   "id": "a400b179",
   "metadata": {},
   "outputs": [
    {
     "data": {
      "text/plain": [
       "array(['No', 'Yes', 'Closed'], dtype=object)"
      ]
     },
     "execution_count": 53,
     "metadata": {},
     "output_type": "execute_result"
    }
   ],
   "source": [
    "#FLAME_ON_1\n",
    "df_final['FLAME_ON_1'].unique()"
   ]
  },
  {
   "cell_type": "code",
   "execution_count": 54,
   "id": "a547fab6",
   "metadata": {
    "scrolled": true
   },
   "outputs": [
    {
     "data": {
      "text/plain": [
       "No        125434\n",
       "Yes        82685\n",
       "Closed         1\n",
       "Name: FLAME_ON_1, dtype: int64"
      ]
     },
     "execution_count": 54,
     "metadata": {},
     "output_type": "execute_result"
    }
   ],
   "source": [
    "df_final['FLAME_ON_1'].value_counts()"
   ]
  },
  {
   "cell_type": "code",
   "execution_count": 55,
   "id": "7cb6aa01",
   "metadata": {},
   "outputs": [],
   "source": [
    "# to change labels of \"FLAME_ON_1\"\n",
    "\n",
    "FLAME_ON_1_dict = {\n",
    "    'No': 0,\n",
    "    'Yes': 1\n",
    "}\n",
    "\n",
    "df_final[\"FLAME_ON_1\"] = df_final[\"FLAME_ON_1\"].map(FLAME_ON_1_dict)"
   ]
  },
  {
   "cell_type": "code",
   "execution_count": 56,
   "id": "e78834b3",
   "metadata": {},
   "outputs": [
    {
     "data": {
      "text/plain": [
       "0.0    125434\n",
       "1.0     82685\n",
       "Name: FLAME_ON_1, dtype: int64"
      ]
     },
     "execution_count": 56,
     "metadata": {},
     "output_type": "execute_result"
    }
   ],
   "source": [
    "df_final['FLAME_ON_1'].value_counts()"
   ]
  },
  {
   "cell_type": "code",
   "execution_count": 57,
   "id": "d19901eb",
   "metadata": {},
   "outputs": [],
   "source": [
    "#df.dropna(subset=['assists'])"
   ]
  },
  {
   "cell_type": "code",
   "execution_count": 58,
   "id": "1ef7b981",
   "metadata": {},
   "outputs": [],
   "source": [
    "#df_final.dropna(subset = ['FLAME_ON_1'])"
   ]
  },
  {
   "cell_type": "code",
   "execution_count": 59,
   "id": "99ce2d1e",
   "metadata": {},
   "outputs": [
    {
     "data": {
      "text/plain": [
       "array([ 0.,  1., nan])"
      ]
     },
     "execution_count": 59,
     "metadata": {},
     "output_type": "execute_result"
    }
   ],
   "source": [
    "df_final['FLAME_ON_1'].unique()"
   ]
  },
  {
   "cell_type": "code",
   "execution_count": 60,
   "id": "09c20694",
   "metadata": {},
   "outputs": [],
   "source": [
    "df_final = df_final.loc[df_final['FLAME_ON_1'].notnull()]"
   ]
  },
  {
   "cell_type": "code",
   "execution_count": 61,
   "id": "16bc157d",
   "metadata": {},
   "outputs": [
    {
     "data": {
      "text/plain": [
       "0"
      ]
     },
     "execution_count": 61,
     "metadata": {},
     "output_type": "execute_result"
    }
   ],
   "source": [
    "df_final['FLAME_ON_1'].isnull().sum()"
   ]
  },
  {
   "cell_type": "code",
   "execution_count": 62,
   "id": "da7a2cf2",
   "metadata": {},
   "outputs": [],
   "source": [
    "#what about dash and other values ?\n",
    "# remove dashes\n",
    "# yes is 1 and no is zero\n",
    "# drop close values"
   ]
  },
  {
   "cell_type": "code",
   "execution_count": 63,
   "id": "5e35987c",
   "metadata": {},
   "outputs": [
    {
     "data": {
      "text/plain": [
       "array(['93.4', '94.1', '95.4', '94.6', '94.0', '94.3', '94.9', '95.6',\n",
       "       '93.5', '96.1', '92.8', '92.0', '95.5', '93.6', '93.1', '92.9',\n",
       "       '96.0', '97.6', '96.8', '95.3', '96.4', '94.4', '94.8', '93.0',\n",
       "       '95.0', '93.8', '96.3', '95.9', '96.6', '96.9', '97.4', '96.5',\n",
       "       '98.0', '81.1', 95.4, 94.6, 94.1, 94.4, 95.6, 96.1, 96.3, 96.0,\n",
       "       94.8, 95.3, 94.0, 95.5, 95.0, 94.3], dtype=object)"
      ]
     },
     "execution_count": 63,
     "metadata": {},
     "output_type": "execute_result"
    }
   ],
   "source": [
    "#C_HEALTH_1\n",
    "df_final['C_HEALTH_1'].unique()"
   ]
  },
  {
   "cell_type": "code",
   "execution_count": 64,
   "id": "e6e564a5",
   "metadata": {},
   "outputs": [
    {
     "name": "stderr",
     "output_type": "stream",
     "text": [
      "<ipython-input-64-a08aa713bf85>:1: SettingWithCopyWarning: \n",
      "A value is trying to be set on a copy of a slice from a DataFrame.\n",
      "Try using .loc[row_indexer,col_indexer] = value instead\n",
      "\n",
      "See the caveats in the documentation: https://pandas.pydata.org/pandas-docs/stable/user_guide/indexing.html#returning-a-view-versus-a-copy\n",
      "  df_final['C_HEALTH_1'] = df_final['C_HEALTH_1'].astype(float)\n"
     ]
    }
   ],
   "source": [
    "df_final['C_HEALTH_1'] = df_final['C_HEALTH_1'].astype(float)"
   ]
  },
  {
   "cell_type": "code",
   "execution_count": 65,
   "id": "c53aa206",
   "metadata": {},
   "outputs": [
    {
     "data": {
      "text/plain": [
       "94.6    27447\n",
       "95.4    25543\n",
       "95.9    15082\n",
       "96.0    14983\n",
       "95.3    13646\n",
       "93.5    10393\n",
       "96.1     9766\n",
       "94.1     9545\n",
       "94.8     8632\n",
       "95.5     8420\n",
       "96.6     7639\n",
       "94.0     6504\n",
       "96.3     6501\n",
       "96.9     6443\n",
       "93.4     5747\n",
       "95.6     5432\n",
       "94.9     4208\n",
       "95.0     3244\n",
       "94.3     3231\n",
       "94.4     2140\n",
       "96.8     2119\n",
       "92.0     2093\n",
       "92.8     2082\n",
       "97.4     1089\n",
       "98.0     1085\n",
       "93.0     1058\n",
       "93.6     1043\n",
       "96.5     1042\n",
       "96.4     1032\n",
       "81.1      457\n",
       "97.6      403\n",
       "93.8       39\n",
       "93.1       22\n",
       "92.9        9\n",
       "Name: C_HEALTH_1, dtype: int64"
      ]
     },
     "execution_count": 65,
     "metadata": {},
     "output_type": "execute_result"
    }
   ],
   "source": [
    "df_final['C_HEALTH_1'].value_counts()"
   ]
  },
  {
   "cell_type": "code",
   "execution_count": 66,
   "id": "12b9a251",
   "metadata": {},
   "outputs": [],
   "source": [
    "#what about dash and other values ?\n",
    "# remove dashes\n",
    "# 0 and 100 fine below 70 triger alarm but above 70 is good and no alarm"
   ]
  },
  {
   "cell_type": "code",
   "execution_count": 67,
   "id": "99d02f90",
   "metadata": {},
   "outputs": [
    {
     "data": {
      "text/plain": [
       "array(['                                                ',\n",
       "       'T114 Flame Rod Degraded and Needs Servicing     ',\n",
       "       'T113 Flame Rod Degraded and Needs Servicing     '], dtype=object)"
      ]
     },
     "execution_count": 67,
     "metadata": {},
     "output_type": "execute_result"
    }
   ],
   "source": [
    "df_final['ALARM_01_1'].unique()"
   ]
  },
  {
   "cell_type": "code",
   "execution_count": 68,
   "id": "a4f09045",
   "metadata": {},
   "outputs": [],
   "source": [
    "#what about dash and other values ?\n",
    "# remove dashes"
   ]
  },
  {
   "cell_type": "code",
   "execution_count": 69,
   "id": "f8d37a86",
   "metadata": {},
   "outputs": [
    {
     "name": "stderr",
     "output_type": "stream",
     "text": [
      "<ipython-input-69-020e119ff1ea>:10: SettingWithCopyWarning: \n",
      "A value is trying to be set on a copy of a slice from a DataFrame.\n",
      "Try using .loc[row_indexer,col_indexer] = value instead\n",
      "\n",
      "See the caveats in the documentation: https://pandas.pydata.org/pandas-docs/stable/user_guide/indexing.html#returning-a-view-versus-a-copy\n",
      "  df_final[\"ALARM_01_1\"] = df_final[\"ALARM_01_1\"].map(ALARM_01_dict)\n"
     ]
    }
   ],
   "source": [
    "# to change labels of \"ALARM_01\"\n",
    "\n",
    "ALARM_01_dict = {\n",
    "    'nan': 'nan',\n",
    "    '                                                ': \"no_alarm\",\n",
    "    'T113 Flame Rod Degraded and Needs Servicing     ': 'T113 Flame Rod Degraded and Needs Servicing',\n",
    "    'T114 Flame Rod Degraded and Needs Servicing     ': 'T114 Flame Rod Degraded and Needs Servicing',\n",
    "}\n",
    "\n",
    "df_final[\"ALARM_01_1\"] = df_final[\"ALARM_01_1\"].map(ALARM_01_dict)"
   ]
  },
  {
   "cell_type": "code",
   "execution_count": 70,
   "id": "0dfee9f7",
   "metadata": {},
   "outputs": [
    {
     "data": {
      "text/plain": [
       "no_alarm                                       205918\n",
       "T113 Flame Rod Degraded and Needs Servicing      1335\n",
       "T114 Flame Rod Degraded and Needs Servicing       866\n",
       "Name: ALARM_01_1, dtype: int64"
      ]
     },
     "execution_count": 70,
     "metadata": {},
     "output_type": "execute_result"
    }
   ],
   "source": [
    "df_final['ALARM_01_1'].value_counts()"
   ]
  },
  {
   "cell_type": "code",
   "execution_count": 71,
   "id": "b10e0331",
   "metadata": {},
   "outputs": [
    {
     "data": {
      "text/plain": [
       "array(['                                                '], dtype=object)"
      ]
     },
     "execution_count": 71,
     "metadata": {},
     "output_type": "execute_result"
    }
   ],
   "source": [
    "df_final['ALARM_02_1'].unique()"
   ]
  },
  {
   "cell_type": "code",
   "execution_count": 72,
   "id": "14c99ab9",
   "metadata": {},
   "outputs": [
    {
     "name": "stderr",
     "output_type": "stream",
     "text": [
      "<ipython-input-72-3de0f3d7168a>:7: SettingWithCopyWarning: \n",
      "A value is trying to be set on a copy of a slice from a DataFrame.\n",
      "Try using .loc[row_indexer,col_indexer] = value instead\n",
      "\n",
      "See the caveats in the documentation: https://pandas.pydata.org/pandas-docs/stable/user_guide/indexing.html#returning-a-view-versus-a-copy\n",
      "  df_final[\"ALARM_02_1\"] = df_final[\"ALARM_02_1\"].map(ALARM_02_dict)\n"
     ]
    }
   ],
   "source": [
    "# to change labels of \"ALARM_02\"\n",
    "\n",
    "ALARM_02_dict = {\n",
    "    '                                                ': \"no_alarm\"\n",
    "}\n",
    "\n",
    "df_final[\"ALARM_02_1\"] = df_final[\"ALARM_02_1\"].map(ALARM_02_dict)"
   ]
  },
  {
   "cell_type": "code",
   "execution_count": 73,
   "id": "aa5f8eeb",
   "metadata": {},
   "outputs": [
    {
     "data": {
      "text/plain": [
       "no_alarm    208119\n",
       "Name: ALARM_02_1, dtype: int64"
      ]
     },
     "execution_count": 73,
     "metadata": {},
     "output_type": "execute_result"
    }
   ],
   "source": [
    "df_final['ALARM_02_1'].value_counts()"
   ]
  },
  {
   "cell_type": "code",
   "execution_count": 74,
   "id": "3f081024",
   "metadata": {},
   "outputs": [],
   "source": [
    "# remove dashes\n",
    "# remove 4 values\n",
    "# empty means \"no alarm\""
   ]
  },
  {
   "cell_type": "code",
   "execution_count": 75,
   "id": "54668b3c",
   "metadata": {},
   "outputs": [],
   "source": [
    "# flame on closed and test alarm 2 and 3 if values are in same row\n",
    "# if happen in same row then \n",
    "\n",
    "# what is huge data is coming before "
   ]
  },
  {
   "cell_type": "code",
   "execution_count": 76,
   "id": "42374e83",
   "metadata": {},
   "outputs": [
    {
     "data": {
      "text/plain": [
       "array(['                                                '], dtype=object)"
      ]
     },
     "execution_count": 76,
     "metadata": {},
     "output_type": "execute_result"
    }
   ],
   "source": [
    "df_final['ALARM_03_1'].unique()"
   ]
  },
  {
   "cell_type": "code",
   "execution_count": 77,
   "id": "11fab60f",
   "metadata": {},
   "outputs": [
    {
     "name": "stderr",
     "output_type": "stream",
     "text": [
      "<ipython-input-77-363588ddabc5>:7: SettingWithCopyWarning: \n",
      "A value is trying to be set on a copy of a slice from a DataFrame.\n",
      "Try using .loc[row_indexer,col_indexer] = value instead\n",
      "\n",
      "See the caveats in the documentation: https://pandas.pydata.org/pandas-docs/stable/user_guide/indexing.html#returning-a-view-versus-a-copy\n",
      "  df_final[\"ALARM_03_1\"] = df_final[\"ALARM_03_1\"].map(ALARM_03_dict)\n"
     ]
    }
   ],
   "source": [
    "# to change labels of \"ALARM_03\"\n",
    "\n",
    "ALARM_03_dict = {\n",
    "    '                                                ': \"no_alarm\"\n",
    "}\n",
    "\n",
    "df_final[\"ALARM_03_1\"] = df_final[\"ALARM_03_1\"].map(ALARM_03_dict)"
   ]
  },
  {
   "cell_type": "code",
   "execution_count": 78,
   "id": "953fafb6",
   "metadata": {},
   "outputs": [
    {
     "data": {
      "text/plain": [
       "no_alarm    208119\n",
       "Name: ALARM_03_1, dtype: int64"
      ]
     },
     "execution_count": 78,
     "metadata": {},
     "output_type": "execute_result"
    }
   ],
   "source": [
    "df_final['ALARM_03_1'].value_counts()"
   ]
  },
  {
   "cell_type": "code",
   "execution_count": 79,
   "id": "9133a6a1",
   "metadata": {},
   "outputs": [
    {
     "data": {
      "text/plain": [
       "array(['                                                ', '---'],\n",
       "      dtype=object)"
      ]
     },
     "execution_count": 79,
     "metadata": {},
     "output_type": "execute_result"
    }
   ],
   "source": [
    "df_final['ALARM_04_1'].unique()"
   ]
  },
  {
   "cell_type": "code",
   "execution_count": 80,
   "id": "f829a4e3",
   "metadata": {},
   "outputs": [
    {
     "name": "stderr",
     "output_type": "stream",
     "text": [
      "<ipython-input-80-77608f72e1c4>:7: SettingWithCopyWarning: \n",
      "A value is trying to be set on a copy of a slice from a DataFrame.\n",
      "Try using .loc[row_indexer,col_indexer] = value instead\n",
      "\n",
      "See the caveats in the documentation: https://pandas.pydata.org/pandas-docs/stable/user_guide/indexing.html#returning-a-view-versus-a-copy\n",
      "  df_final[\"ALARM_04_1\"] = df_final[\"ALARM_04_1\"].map(ALARM_04_dict)\n"
     ]
    }
   ],
   "source": [
    "# to change labels of \"ALARM_04\"\n",
    "\n",
    "ALARM_04_dict = {\n",
    "    '                                                ': \"no_alarm\"\n",
    "}\n",
    "\n",
    "df_final[\"ALARM_04_1\"] = df_final[\"ALARM_04_1\"].map(ALARM_04_dict)"
   ]
  },
  {
   "cell_type": "code",
   "execution_count": 81,
   "id": "f5a2a2ca",
   "metadata": {},
   "outputs": [
    {
     "data": {
      "text/plain": [
       "no_alarm    208112\n",
       "Name: ALARM_04_1, dtype: int64"
      ]
     },
     "execution_count": 81,
     "metadata": {},
     "output_type": "execute_result"
    }
   ],
   "source": [
    "df_final['ALARM_04_1'].value_counts()"
   ]
  },
  {
   "cell_type": "code",
   "execution_count": 82,
   "id": "3cda68fa",
   "metadata": {},
   "outputs": [
    {
     "data": {
      "text/plain": [
       "array(['0.0', '4.1', '3.3', '4.8', '5.2', '5.4', '5.5', '5.6', '5.7',\n",
       "       '5.8', '5.9', '6.0', '6.2', '6.1', '6.4', '6.3', '2.9', '3.2',\n",
       "       '3.5', '4.4', '5.0', '5.3', '1.5', '4.0', '1.1', '2.5', '3.4',\n",
       "       '4.3', '6.5', '0.7', '3.6', '3.8', '3.7', '3.9', '3.1', '4.5',\n",
       "       '6.7', '1.0', '4.7', '0.4', '0.5', '0.9', '5.1', '0.3', '0.8',\n",
       "       '6.9', '6.6', '2.3', '2.7', '2.8', '0.6', '2.4', '4.6', '1.7',\n",
       "       '1.4', '4.9', '1.8', '3.0', '4.2', '2.2', '2.1', '---', '1.2',\n",
       "       '1.9', '2.6', '1.3', '7.1', '1.6', '6.8', '7.0', '7.2', 5.7, 5.9,\n",
       "       5.6, 5.8, 6.0, 6.1, 6.2, 6.4, 6.3, 0.9, 0.0, 1.4, 3.8, 2.6, 2.4,\n",
       "       3.7, 4.7, 5.2, 5.4, 5.5, 6.5, 4.1, 3.0, 3.1, 4.0, 4.8, 0.4, 2.8,\n",
       "       3.2, 4.6, 5.1, 6.6, 0.6, 0.7, 1.0, 0.8, 2.5, 2.9, 3.4, 4.2, 0.5,\n",
       "       3.6, 5.3, 1.3, 4.5, 3.5, 4.4, 5.0, 2.7, 3.3, 2.0, 3.9, 4.3, 4.9,\n",
       "       1.7, 1.6, 1.5, 2.1, 6.8], dtype=object)"
      ]
     },
     "execution_count": 82,
     "metadata": {},
     "output_type": "execute_result"
    }
   ],
   "source": [
    "#FLAMECUR_1\n",
    "df_final['FLAMECUR_1'].unique()"
   ]
  },
  {
   "cell_type": "code",
   "execution_count": 83,
   "id": "52d9703c",
   "metadata": {},
   "outputs": [
    {
     "name": "stderr",
     "output_type": "stream",
     "text": [
      "C:\\Users\\muhammad.tahir.ctr\\Anaconda3\\lib\\site-packages\\pandas\\core\\frame.py:4308: SettingWithCopyWarning: \n",
      "A value is trying to be set on a copy of a slice from a DataFrame\n",
      "\n",
      "See the caveats in the documentation: https://pandas.pydata.org/pandas-docs/stable/user_guide/indexing.html#returning-a-view-versus-a-copy\n",
      "  return super().drop(\n"
     ]
    }
   ],
   "source": [
    "# keep any values and keep them for flames current and flame test\n",
    "df_final.drop(df_final[df_final['FLAMECUR_1']=='---'].index, inplace = True)"
   ]
  },
  {
   "cell_type": "code",
   "execution_count": 84,
   "id": "18e3fb1d",
   "metadata": {},
   "outputs": [
    {
     "data": {
      "text/plain": [
       "dtype('O')"
      ]
     },
     "execution_count": 84,
     "metadata": {},
     "output_type": "execute_result"
    }
   ],
   "source": [
    "#FLAMECUR_1\n",
    "df_final['FLAMECUR_1'].dtype"
   ]
  },
  {
   "cell_type": "code",
   "execution_count": 85,
   "id": "9dbc8478",
   "metadata": {},
   "outputs": [
    {
     "name": "stderr",
     "output_type": "stream",
     "text": [
      "<ipython-input-85-699787744c54>:1: SettingWithCopyWarning: \n",
      "A value is trying to be set on a copy of a slice from a DataFrame.\n",
      "Try using .loc[row_indexer,col_indexer] = value instead\n",
      "\n",
      "See the caveats in the documentation: https://pandas.pydata.org/pandas-docs/stable/user_guide/indexing.html#returning-a-view-versus-a-copy\n",
      "  df_final['FLAMECUR_1'] = df_final['FLAMECUR_1'].astype(float)\n"
     ]
    }
   ],
   "source": [
    "df_final['FLAMECUR_1'] = df_final['FLAMECUR_1'].astype(float)"
   ]
  },
  {
   "cell_type": "code",
   "execution_count": 86,
   "id": "08a38fc8",
   "metadata": {},
   "outputs": [],
   "source": [
    "# remove dashes for all\n",
    "# between zero and 10"
   ]
  },
  {
   "cell_type": "code",
   "execution_count": 87,
   "id": "1c153a65",
   "metadata": {},
   "outputs": [
    {
     "data": {
      "text/plain": [
       "array(['0', '1219', '4322', ..., 3650, 3367, 3207], dtype=object)"
      ]
     },
     "execution_count": 87,
     "metadata": {},
     "output_type": "execute_result"
    }
   ],
   "source": [
    "df_final['FANSPEED_1'].unique()"
   ]
  },
  {
   "cell_type": "code",
   "execution_count": 88,
   "id": "e3d3c831",
   "metadata": {},
   "outputs": [],
   "source": [
    "#df_final.drop(df_final[df_final['FANSPEED_1']=='...'].index, inplace = True)"
   ]
  },
  {
   "cell_type": "code",
   "execution_count": 89,
   "id": "07a8e039",
   "metadata": {},
   "outputs": [
    {
     "data": {
      "text/plain": [
       "dtype('O')"
      ]
     },
     "execution_count": 89,
     "metadata": {},
     "output_type": "execute_result"
    }
   ],
   "source": [
    "df_final['FANSPEED_1'].dtype"
   ]
  },
  {
   "cell_type": "code",
   "execution_count": 90,
   "id": "ced03cce",
   "metadata": {},
   "outputs": [
    {
     "name": "stderr",
     "output_type": "stream",
     "text": [
      "<ipython-input-90-97d28349d58f>:1: SettingWithCopyWarning: \n",
      "A value is trying to be set on a copy of a slice from a DataFrame.\n",
      "Try using .loc[row_indexer,col_indexer] = value instead\n",
      "\n",
      "See the caveats in the documentation: https://pandas.pydata.org/pandas-docs/stable/user_guide/indexing.html#returning-a-view-versus-a-copy\n",
      "  df_final['FANSPEED_1'] = df_final['FANSPEED_1'].astype(int)\n"
     ]
    }
   ],
   "source": [
    "df_final['FANSPEED_1'] = df_final['FANSPEED_1'].astype(int)"
   ]
  },
  {
   "cell_type": "code",
   "execution_count": 91,
   "id": "038ee549",
   "metadata": {},
   "outputs": [
    {
     "data": {
      "text/plain": [
       "Standby       117801\n",
       "Heating        81599\n",
       "Pre-Purge       4181\n",
       "Post-Purge      3159\n",
       "Ignition        1132\n",
       "Retry            240\n",
       "Name: VLVSTATE_1, dtype: int64"
      ]
     },
     "execution_count": 91,
     "metadata": {},
     "output_type": "execute_result"
    }
   ],
   "source": [
    "#VLVSTATE_1\n",
    "df_final['VLVSTATE_1'].value_counts()"
   ]
  },
  {
   "cell_type": "code",
   "execution_count": 92,
   "id": "ab8ec7df",
   "metadata": {},
   "outputs": [
    {
     "data": {
      "text/plain": [
       "array(['Standby', 'Pre-Purge', 'Ignition', 'Heating', 'Post-Purge',\n",
       "       'Retry'], dtype=object)"
      ]
     },
     "execution_count": 92,
     "metadata": {},
     "output_type": "execute_result"
    }
   ],
   "source": [
    "df_final['VLVSTATE_1'].unique()"
   ]
  },
  {
   "cell_type": "code",
   "execution_count": 93,
   "id": "1ebe34d6",
   "metadata": {},
   "outputs": [],
   "source": [
    "# Standby       == 2\n",
    "# Heating = 5\n",
    "# Pre-Purge = 3\n",
    "# Post-Purge = 6\n",
    "# Ignition = 4\n",
    "# Retry = 7"
   ]
  },
  {
   "cell_type": "code",
   "execution_count": 94,
   "id": "722de122",
   "metadata": {},
   "outputs": [
    {
     "name": "stderr",
     "output_type": "stream",
     "text": [
      "<ipython-input-94-0baf5f625d4b>:12: SettingWithCopyWarning: \n",
      "A value is trying to be set on a copy of a slice from a DataFrame.\n",
      "Try using .loc[row_indexer,col_indexer] = value instead\n",
      "\n",
      "See the caveats in the documentation: https://pandas.pydata.org/pandas-docs/stable/user_guide/indexing.html#returning-a-view-versus-a-copy\n",
      "  df_final['VLVSTATE_1'] = df_final['VLVSTATE_1'].map(VLVSTATE_1_dict)\n"
     ]
    }
   ],
   "source": [
    "# to change labels of \"GASVALVE_1\"\n",
    "\n",
    "VLVSTATE_1_dict = {\n",
    "    'Standby': 2,\n",
    "    'Pre-Purge': 3,\n",
    "    'Ignition': 4,\n",
    "    'Heating': 5,\n",
    "    'Retry': 7,\n",
    "    'Post-Purge': 6\n",
    "}\n",
    "\n",
    "df_final['VLVSTATE_1'] = df_final['VLVSTATE_1'].map(VLVSTATE_1_dict)"
   ]
  },
  {
   "cell_type": "code",
   "execution_count": 95,
   "id": "41f3fc67",
   "metadata": {},
   "outputs": [
    {
     "data": {
      "text/plain": [
       "Closed    125387\n",
       "Open       82725\n",
       "Name: GASVALVE_1, dtype: int64"
      ]
     },
     "execution_count": 95,
     "metadata": {},
     "output_type": "execute_result"
    }
   ],
   "source": [
    "#GASVALVE_1\n",
    "df_final['GASVALVE_1'].value_counts()"
   ]
  },
  {
   "cell_type": "code",
   "execution_count": 96,
   "id": "232dffb6",
   "metadata": {},
   "outputs": [
    {
     "name": "stderr",
     "output_type": "stream",
     "text": [
      "<ipython-input-96-9cd34ea650d5>:9: SettingWithCopyWarning: \n",
      "A value is trying to be set on a copy of a slice from a DataFrame.\n",
      "Try using .loc[row_indexer,col_indexer] = value instead\n",
      "\n",
      "See the caveats in the documentation: https://pandas.pydata.org/pandas-docs/stable/user_guide/indexing.html#returning-a-view-versus-a-copy\n",
      "  df_final[\"GASVALVE_1\"] = df_final[\"GASVALVE_1\"].map(GASVALVE_dict)\n"
     ]
    }
   ],
   "source": [
    "# to change labels of \"GASVALVE_1\"\n",
    "\n",
    "GASVALVE_dict = {\n",
    "    'Closed': 0,\n",
    "    \n",
    "    'Open': 1\n",
    "}\n",
    "\n",
    "df_final[\"GASVALVE_1\"] = df_final[\"GASVALVE_1\"].map(GASVALVE_dict)"
   ]
  },
  {
   "cell_type": "code",
   "execution_count": 97,
   "id": "edcf4d10",
   "metadata": {},
   "outputs": [],
   "source": [
    "# remove dashes\n",
    "# open close means 0 and 1"
   ]
  },
  {
   "cell_type": "code",
   "execution_count": 98,
   "id": "e030e07b",
   "metadata": {},
   "outputs": [
    {
     "data": {
      "text/plain": [
       "Closed    208110\n",
       "Open           2\n",
       "Name: S3_EXPRS_1, dtype: int64"
      ]
     },
     "execution_count": 98,
     "metadata": {},
     "output_type": "execute_result"
    }
   ],
   "source": [
    "#S3_EXPRS_1\n",
    "df_final['S3_EXPRS_1'].value_counts()"
   ]
  },
  {
   "cell_type": "code",
   "execution_count": 99,
   "id": "2b82c0d1",
   "metadata": {},
   "outputs": [
    {
     "name": "stderr",
     "output_type": "stream",
     "text": [
      "<ipython-input-99-93fcbf34a9fc>:9: SettingWithCopyWarning: \n",
      "A value is trying to be set on a copy of a slice from a DataFrame.\n",
      "Try using .loc[row_indexer,col_indexer] = value instead\n",
      "\n",
      "See the caveats in the documentation: https://pandas.pydata.org/pandas-docs/stable/user_guide/indexing.html#returning-a-view-versus-a-copy\n",
      "  df_final[\"S3_EXPRS_1\"] = df_final[\"S3_EXPRS_1\"].map(S3_EXPRS_dict)\n"
     ]
    }
   ],
   "source": [
    "# to change labels of \"S2_INPRS\"\n",
    "\n",
    "S3_EXPRS_dict = {\n",
    "    'Closed': 0,\n",
    "    \n",
    "    'Open': 1\n",
    "}\n",
    "\n",
    "df_final[\"S3_EXPRS_1\"] = df_final[\"S3_EXPRS_1\"].map(S3_EXPRS_dict)"
   ]
  },
  {
   "cell_type": "code",
   "execution_count": 100,
   "id": "08902edc",
   "metadata": {},
   "outputs": [
    {
     "data": {
      "text/plain": [
       "Closed    208110\n",
       "Open           2\n",
       "Name: S2_INPRS_1, dtype: int64"
      ]
     },
     "execution_count": 100,
     "metadata": {},
     "output_type": "execute_result"
    }
   ],
   "source": [
    "#S2_INPRS_1\n",
    "df_final['S2_INPRS_1'].value_counts()"
   ]
  },
  {
   "cell_type": "code",
   "execution_count": 101,
   "id": "dee9825f",
   "metadata": {},
   "outputs": [
    {
     "name": "stderr",
     "output_type": "stream",
     "text": [
      "<ipython-input-101-435be4d9c3e0>:9: SettingWithCopyWarning: \n",
      "A value is trying to be set on a copy of a slice from a DataFrame.\n",
      "Try using .loc[row_indexer,col_indexer] = value instead\n",
      "\n",
      "See the caveats in the documentation: https://pandas.pydata.org/pandas-docs/stable/user_guide/indexing.html#returning-a-view-versus-a-copy\n",
      "  df_final[\"S2_INPRS_1\"] = df_final[\"S2_INPRS_1\"].map(S2_INPRS_dict)\n"
     ]
    }
   ],
   "source": [
    "# to change labels of \"S2_INPRS\"\n",
    "\n",
    "S2_INPRS_dict = {\n",
    "    'Closed': 0,\n",
    "    \n",
    "    'Open': 1\n",
    "}\n",
    "\n",
    "df_final[\"S2_INPRS_1\"] = df_final[\"S2_INPRS_1\"].map(S2_INPRS_dict)"
   ]
  },
  {
   "cell_type": "code",
   "execution_count": 102,
   "id": "4d674d41",
   "metadata": {},
   "outputs": [
    {
     "data": {
      "text/plain": [
       "Open      118027\n",
       "Closed     90085\n",
       "Name: S1_AIRFL_1, dtype: int64"
      ]
     },
     "execution_count": 102,
     "metadata": {},
     "output_type": "execute_result"
    }
   ],
   "source": [
    "#S1_AIRFL_1\n",
    "df_final['S1_AIRFL_1'].value_counts()"
   ]
  },
  {
   "cell_type": "code",
   "execution_count": 103,
   "id": "f08aeb1f",
   "metadata": {},
   "outputs": [
    {
     "name": "stderr",
     "output_type": "stream",
     "text": [
      "<ipython-input-103-4e1e0786befb>:8: SettingWithCopyWarning: \n",
      "A value is trying to be set on a copy of a slice from a DataFrame.\n",
      "Try using .loc[row_indexer,col_indexer] = value instead\n",
      "\n",
      "See the caveats in the documentation: https://pandas.pydata.org/pandas-docs/stable/user_guide/indexing.html#returning-a-view-versus-a-copy\n",
      "  df_final[\"S1_AIRFL_1\"] = df_final[\"S1_AIRFL_1\"].map(S1_AIRFL_dict)\n"
     ]
    }
   ],
   "source": [
    "# to change labels of \"S1_AIRFL\"\n",
    "\n",
    "S1_AIRFL_dict = {\n",
    "    'Closed': 0,\n",
    "    'Open': 1\n",
    "}\n",
    "\n",
    "df_final[\"S1_AIRFL_1\"] = df_final[\"S1_AIRFL_1\"].map(S1_AIRFL_dict)"
   ]
  },
  {
   "cell_type": "code",
   "execution_count": 104,
   "id": "0cbc2b4d",
   "metadata": {},
   "outputs": [
    {
     "data": {
      "text/plain": [
       "1    118027\n",
       "0     90085\n",
       "Name: S1_AIRFL_1, dtype: int64"
      ]
     },
     "execution_count": 104,
     "metadata": {},
     "output_type": "execute_result"
    }
   ],
   "source": [
    "df_final['S1_AIRFL_1'].value_counts()"
   ]
  },
  {
   "cell_type": "code",
   "execution_count": 105,
   "id": "5424bafb",
   "metadata": {},
   "outputs": [
    {
     "data": {
      "text/plain": [
       "183.4    2078\n",
       "183.5    2035\n",
       "183.3    2013\n",
       "183.8    1994\n",
       "183.9    1988\n",
       "         ... \n",
       "165.7      10\n",
       "167.3      10\n",
       "143.1       9\n",
       "184.8       4\n",
       "184.7       3\n",
       "Name: TANKTEMP_1, Length: 846, dtype: int64"
      ]
     },
     "execution_count": 105,
     "metadata": {},
     "output_type": "execute_result"
    }
   ],
   "source": [
    "#TANKTEMP_1\n",
    "df_final['TANKTEMP_1'].value_counts()"
   ]
  },
  {
   "cell_type": "code",
   "execution_count": 106,
   "id": "7358c37c",
   "metadata": {},
   "outputs": [],
   "source": [
    "#df_final.drop(df_final[df_final['TANKTEMP_1']=='---'].index, inplace = True)"
   ]
  },
  {
   "cell_type": "code",
   "execution_count": 107,
   "id": "54173b9b",
   "metadata": {},
   "outputs": [
    {
     "name": "stderr",
     "output_type": "stream",
     "text": [
      "<ipython-input-107-0284e37c62a9>:1: SettingWithCopyWarning: \n",
      "A value is trying to be set on a copy of a slice from a DataFrame.\n",
      "Try using .loc[row_indexer,col_indexer] = value instead\n",
      "\n",
      "See the caveats in the documentation: https://pandas.pydata.org/pandas-docs/stable/user_guide/indexing.html#returning-a-view-versus-a-copy\n",
      "  df_final['TANKTEMP_1'] = df_final['TANKTEMP_1'].astype(float)\n"
     ]
    }
   ],
   "source": [
    "df_final['TANKTEMP_1'] = df_final['TANKTEMP_1'].astype(float)"
   ]
  },
  {
   "cell_type": "code",
   "execution_count": 108,
   "id": "74df88f4",
   "metadata": {},
   "outputs": [],
   "source": [
    "# df_final['TANKTEMP_1'].min()"
   ]
  },
  {
   "cell_type": "code",
   "execution_count": 109,
   "id": "29966b03",
   "metadata": {},
   "outputs": [
    {
     "data": {
      "text/plain": [
       "3248    44287\n",
       "3247    40630\n",
       "3251    27158\n",
       "3253    18023\n",
       "3234    15674\n",
       "3252     9734\n",
       "3232     9391\n",
       "3250     6475\n",
       "3245     6424\n",
       "3246     6409\n",
       "3233     5224\n",
       "3244     4221\n",
       "3231     4188\n",
       "3251     4181\n",
       "3230     3524\n",
       "3249     2166\n",
       "3243      403\n",
       "Name: CHE_FIGN_1, dtype: int64"
      ]
     },
     "execution_count": 109,
     "metadata": {},
     "output_type": "execute_result"
    }
   ],
   "source": [
    "#CHE_FIGN_1\n",
    "df_final['CHE_FIGN_1'].value_counts()"
   ]
  },
  {
   "cell_type": "code",
   "execution_count": 110,
   "id": "52c0733a",
   "metadata": {},
   "outputs": [],
   "source": [
    "#df_final.drop(df_final[df_final['CHE_FIGN_1']=='---'].index, inplace = True)"
   ]
  },
  {
   "cell_type": "code",
   "execution_count": 111,
   "id": "e9aabf65",
   "metadata": {},
   "outputs": [
    {
     "name": "stderr",
     "output_type": "stream",
     "text": [
      "<ipython-input-111-53401e33f921>:1: SettingWithCopyWarning: \n",
      "A value is trying to be set on a copy of a slice from a DataFrame.\n",
      "Try using .loc[row_indexer,col_indexer] = value instead\n",
      "\n",
      "See the caveats in the documentation: https://pandas.pydata.org/pandas-docs/stable/user_guide/indexing.html#returning-a-view-versus-a-copy\n",
      "  df_final['CHE_FIGN_1'] = df_final['CHE_FIGN_1'].astype(int)\n"
     ]
    }
   ],
   "source": [
    "df_final['CHE_FIGN_1'] = df_final['CHE_FIGN_1'].astype(int)"
   ]
  },
  {
   "cell_type": "code",
   "execution_count": 112,
   "id": "48da7ec0",
   "metadata": {},
   "outputs": [
    {
     "data": {
      "text/plain": [
       "array([3230, 3231, 3232, 3233, 3234, 3243, 3244, 3245, 3246, 3247, 3248,\n",
       "       3249, 3250, 3251, 3252, 3253])"
      ]
     },
     "execution_count": 112,
     "metadata": {},
     "output_type": "execute_result"
    }
   ],
   "source": [
    "df_final['CHE_FIGN_1'].unique()"
   ]
  },
  {
   "cell_type": "code",
   "execution_count": 113,
   "id": "e25934a5",
   "metadata": {},
   "outputs": [
    {
     "data": {
      "text/plain": [
       "3248    44287\n",
       "3247    40630\n",
       "3251    31339\n",
       "3253    18023\n",
       "3234    15674\n",
       "3252     9734\n",
       "3232     9391\n",
       "3250     6475\n",
       "3245     6424\n",
       "3246     6409\n",
       "3233     5224\n",
       "3244     4221\n",
       "3231     4188\n",
       "3230     3524\n",
       "3249     2166\n",
       "3243      403\n",
       "Name: CHE_FIGN_1, dtype: int64"
      ]
     },
     "execution_count": 113,
     "metadata": {},
     "output_type": "execute_result"
    }
   ],
   "source": [
    "df_final['CHE_FIGN_1'].value_counts()"
   ]
  },
  {
   "cell_type": "code",
   "execution_count": 114,
   "id": "37f5ce6c",
   "metadata": {},
   "outputs": [
    {
     "data": {
      "text/plain": [
       "0"
      ]
     },
     "execution_count": 114,
     "metadata": {},
     "output_type": "execute_result"
    }
   ],
   "source": [
    "df_final['CHE_FIGN_1'].isnull().sum()"
   ]
  },
  {
   "cell_type": "code",
   "execution_count": 115,
   "id": "c9f0e7c3",
   "metadata": {},
   "outputs": [],
   "source": [
    "# what is 9 == "
   ]
  },
  {
   "cell_type": "code",
   "execution_count": 116,
   "id": "ae0987cf",
   "metadata": {},
   "outputs": [
    {
     "data": {
      "text/plain": [
       "65864    761\n",
       "66476    759\n",
       "66434    754\n",
       "65823    753\n",
       "65878    749\n",
       "        ... \n",
       "64279     55\n",
       "65932     36\n",
       "66656     36\n",
       "65931     25\n",
       "66656     23\n",
       "Name: CHE_BMIN_1, Length: 1368, dtype: int64"
      ]
     },
     "execution_count": 116,
     "metadata": {},
     "output_type": "execute_result"
    }
   ],
   "source": [
    "#CHE_BMIN_1\n",
    "df_final['CHE_BMIN_1'].value_counts()"
   ]
  },
  {
   "cell_type": "code",
   "execution_count": 117,
   "id": "7c90866c",
   "metadata": {},
   "outputs": [],
   "source": [
    "#df_final.drop(df_final[df_final['CHE_BMIN_1']=='---'].index, inplace = True)"
   ]
  },
  {
   "cell_type": "code",
   "execution_count": 118,
   "id": "9b75b517",
   "metadata": {},
   "outputs": [
    {
     "name": "stderr",
     "output_type": "stream",
     "text": [
      "<ipython-input-118-a99d5ce91b3b>:1: SettingWithCopyWarning: \n",
      "A value is trying to be set on a copy of a slice from a DataFrame.\n",
      "Try using .loc[row_indexer,col_indexer] = value instead\n",
      "\n",
      "See the caveats in the documentation: https://pandas.pydata.org/pandas-docs/stable/user_guide/indexing.html#returning-a-view-versus-a-copy\n",
      "  df_final['CHE_BMIN_1'] = df_final['CHE_BMIN_1'].astype(int)\n"
     ]
    }
   ],
   "source": [
    "df_final['CHE_BMIN_1'] = df_final['CHE_BMIN_1'].astype(int)"
   ]
  },
  {
   "cell_type": "code",
   "execution_count": 119,
   "id": "ab634afc",
   "metadata": {},
   "outputs": [
    {
     "data": {
      "text/plain": [
       "0"
      ]
     },
     "execution_count": 119,
     "metadata": {},
     "output_type": "execute_result"
    }
   ],
   "source": [
    "df_final['CHE_BMIN_1'].isnull().sum()"
   ]
  },
  {
   "cell_type": "code",
   "execution_count": 120,
   "id": "1986d21a",
   "metadata": {},
   "outputs": [
    {
     "data": {
      "text/plain": [
       "79.2    3096\n",
       "80.2    2986\n",
       "79.3    2731\n",
       "79.1    2691\n",
       "80.3    2679\n",
       "        ... \n",
       "50.4       7\n",
       "65.2       7\n",
       "50.6       6\n",
       "50.6       4\n",
       "50.5       3\n",
       "Name: INLTTEMP_1, Length: 652, dtype: int64"
      ]
     },
     "execution_count": 120,
     "metadata": {},
     "output_type": "execute_result"
    }
   ],
   "source": [
    "# INLTTEMP_1\n",
    "df_final['INLTTEMP_1'].value_counts()"
   ]
  },
  {
   "cell_type": "code",
   "execution_count": 121,
   "id": "cabe460a",
   "metadata": {},
   "outputs": [],
   "source": [
    "#df_final.drop(df_final[df_final['INLTTEMP_1']=='---'].index, inplace = True)"
   ]
  },
  {
   "cell_type": "code",
   "execution_count": 122,
   "id": "eca5ceac",
   "metadata": {},
   "outputs": [
    {
     "name": "stderr",
     "output_type": "stream",
     "text": [
      "<ipython-input-122-f10ac9188436>:1: SettingWithCopyWarning: \n",
      "A value is trying to be set on a copy of a slice from a DataFrame.\n",
      "Try using .loc[row_indexer,col_indexer] = value instead\n",
      "\n",
      "See the caveats in the documentation: https://pandas.pydata.org/pandas-docs/stable/user_guide/indexing.html#returning-a-view-versus-a-copy\n",
      "  df_final['INLTTEMP_1'] = df_final['INLTTEMP_1'].astype(float)\n"
     ]
    }
   ],
   "source": [
    "df_final['INLTTEMP_1'] = df_final['INLTTEMP_1'].astype(float)"
   ]
  },
  {
   "cell_type": "code",
   "execution_count": 123,
   "id": "e47e9df4",
   "metadata": {},
   "outputs": [
    {
     "name": "stderr",
     "output_type": "stream",
     "text": [
      "<ipython-input-123-f973ef1a27db>:1: SettingWithCopyWarning: \n",
      "A value is trying to be set on a copy of a slice from a DataFrame.\n",
      "Try using .loc[row_indexer,col_indexer] = value instead\n",
      "\n",
      "See the caveats in the documentation: https://pandas.pydata.org/pandas-docs/stable/user_guide/indexing.html#returning-a-view-versus-a-copy\n",
      "  df_final['CHE_FIGN_1'] = df_final['CHE_FIGN_1'].diff()\n"
     ]
    }
   ],
   "source": [
    "df_final['CHE_FIGN_1'] = df_final['CHE_FIGN_1'].diff()"
   ]
  },
  {
   "cell_type": "code",
   "execution_count": 124,
   "id": "506fc82c",
   "metadata": {},
   "outputs": [
    {
     "data": {
      "text/plain": [
       "array([nan,  0.,  1.,  9.])"
      ]
     },
     "execution_count": 124,
     "metadata": {},
     "output_type": "execute_result"
    }
   ],
   "source": [
    "df_final['CHE_FIGN_1'].unique()"
   ]
  },
  {
   "cell_type": "code",
   "execution_count": 125,
   "id": "10b126ae",
   "metadata": {},
   "outputs": [
    {
     "data": {
      "text/html": [
       "<div>\n",
       "<style scoped>\n",
       "    .dataframe tbody tr th:only-of-type {\n",
       "        vertical-align: middle;\n",
       "    }\n",
       "\n",
       "    .dataframe tbody tr th {\n",
       "        vertical-align: top;\n",
       "    }\n",
       "\n",
       "    .dataframe thead th {\n",
       "        text-align: right;\n",
       "    }\n",
       "</style>\n",
       "<table border=\"1\" class=\"dataframe\">\n",
       "  <thead>\n",
       "    <tr style=\"text-align: right;\">\n",
       "      <th></th>\n",
       "      <th>BLOWRPWM_1</th>\n",
       "      <th>CHE_FCDV_1</th>\n",
       "      <th>CHE_BPDV_1</th>\n",
       "      <th>FLAMETST_1</th>\n",
       "      <th>FLAME_ON_1</th>\n",
       "      <th>C_HEALTH_1</th>\n",
       "      <th>ALARM_01_1</th>\n",
       "      <th>ALARM_02_1</th>\n",
       "      <th>ALARM_03_1</th>\n",
       "      <th>Date</th>\n",
       "      <th>...</th>\n",
       "      <th>FANSPEED_1</th>\n",
       "      <th>VLVSTATE_1</th>\n",
       "      <th>GASVALVE_1</th>\n",
       "      <th>S3_EXPRS_1</th>\n",
       "      <th>S2_INPRS_1</th>\n",
       "      <th>S1_AIRFL_1</th>\n",
       "      <th>TANKTEMP_1</th>\n",
       "      <th>CHE_FIGN_1</th>\n",
       "      <th>CHE_BMIN_1</th>\n",
       "      <th>INLTTEMP_1</th>\n",
       "    </tr>\n",
       "    <tr>\n",
       "      <th>date_time</th>\n",
       "      <th></th>\n",
       "      <th></th>\n",
       "      <th></th>\n",
       "      <th></th>\n",
       "      <th></th>\n",
       "      <th></th>\n",
       "      <th></th>\n",
       "      <th></th>\n",
       "      <th></th>\n",
       "      <th></th>\n",
       "      <th></th>\n",
       "      <th></th>\n",
       "      <th></th>\n",
       "      <th></th>\n",
       "      <th></th>\n",
       "      <th></th>\n",
       "      <th></th>\n",
       "      <th></th>\n",
       "      <th></th>\n",
       "      <th></th>\n",
       "      <th></th>\n",
       "    </tr>\n",
       "  </thead>\n",
       "  <tbody>\n",
       "    <tr>\n",
       "      <th>2021-09-13 09:25:15</th>\n",
       "      <td>0.0</td>\n",
       "      <td>0</td>\n",
       "      <td>0</td>\n",
       "      <td>6.2</td>\n",
       "      <td>0.0</td>\n",
       "      <td>97.6</td>\n",
       "      <td>no_alarm</td>\n",
       "      <td>no_alarm</td>\n",
       "      <td>no_alarm</td>\n",
       "      <td>9/13/2021</td>\n",
       "      <td>...</td>\n",
       "      <td>0</td>\n",
       "      <td>2</td>\n",
       "      <td>0</td>\n",
       "      <td>0</td>\n",
       "      <td>0</td>\n",
       "      <td>1</td>\n",
       "      <td>181.1</td>\n",
       "      <td>9.0</td>\n",
       "      <td>65753</td>\n",
       "      <td>80.4</td>\n",
       "    </tr>\n",
       "  </tbody>\n",
       "</table>\n",
       "<p>1 rows × 22 columns</p>\n",
       "</div>"
      ],
      "text/plain": [
       "                     BLOWRPWM_1  CHE_FCDV_1  CHE_BPDV_1  FLAMETST_1  \\\n",
       "date_time                                                             \n",
       "2021-09-13 09:25:15         0.0           0           0         6.2   \n",
       "\n",
       "                     FLAME_ON_1  C_HEALTH_1 ALARM_01_1 ALARM_02_1 ALARM_03_1  \\\n",
       "date_time                                                                      \n",
       "2021-09-13 09:25:15         0.0        97.6   no_alarm   no_alarm   no_alarm   \n",
       "\n",
       "                          Date  ... FANSPEED_1  VLVSTATE_1  GASVALVE_1  \\\n",
       "date_time                       ...                                      \n",
       "2021-09-13 09:25:15  9/13/2021  ...          0           2           0   \n",
       "\n",
       "                     S3_EXPRS_1  S2_INPRS_1  S1_AIRFL_1  TANKTEMP_1  \\\n",
       "date_time                                                             \n",
       "2021-09-13 09:25:15           0           0           1       181.1   \n",
       "\n",
       "                     CHE_FIGN_1  CHE_BMIN_1  INLTTEMP_1  \n",
       "date_time                                                \n",
       "2021-09-13 09:25:15         9.0       65753        80.4  \n",
       "\n",
       "[1 rows x 22 columns]"
      ]
     },
     "execution_count": 125,
     "metadata": {},
     "output_type": "execute_result"
    }
   ],
   "source": [
    "df_final.loc[df_final['CHE_FIGN_1']==9]"
   ]
  },
  {
   "cell_type": "code",
   "execution_count": 126,
   "id": "f48dae5a",
   "metadata": {},
   "outputs": [
    {
     "name": "stderr",
     "output_type": "stream",
     "text": [
      "C:\\Users\\muhammad.tahir.ctr\\Anaconda3\\lib\\site-packages\\pandas\\core\\indexing.py:1637: SettingWithCopyWarning: \n",
      "A value is trying to be set on a copy of a slice from a DataFrame\n",
      "\n",
      "See the caveats in the documentation: https://pandas.pydata.org/pandas-docs/stable/user_guide/indexing.html#returning-a-view-versus-a-copy\n",
      "  self._setitem_single_block(indexer, value, name)\n",
      "C:\\Users\\muhammad.tahir.ctr\\Anaconda3\\lib\\site-packages\\pandas\\core\\indexing.py:692: SettingWithCopyWarning: \n",
      "A value is trying to be set on a copy of a slice from a DataFrame\n",
      "\n",
      "See the caveats in the documentation: https://pandas.pydata.org/pandas-docs/stable/user_guide/indexing.html#returning-a-view-versus-a-copy\n",
      "  iloc._setitem_with_indexer(indexer, value, self.name)\n"
     ]
    }
   ],
   "source": [
    "df_final['CHE_FIGN_1'].iloc[0]=0"
   ]
  },
  {
   "cell_type": "code",
   "execution_count": 127,
   "id": "1fbdf9ef",
   "metadata": {},
   "outputs": [
    {
     "data": {
      "text/html": [
       "<div>\n",
       "<style scoped>\n",
       "    .dataframe tbody tr th:only-of-type {\n",
       "        vertical-align: middle;\n",
       "    }\n",
       "\n",
       "    .dataframe tbody tr th {\n",
       "        vertical-align: top;\n",
       "    }\n",
       "\n",
       "    .dataframe thead th {\n",
       "        text-align: right;\n",
       "    }\n",
       "</style>\n",
       "<table border=\"1\" class=\"dataframe\">\n",
       "  <thead>\n",
       "    <tr style=\"text-align: right;\">\n",
       "      <th></th>\n",
       "      <th>BLOWRPWM_1</th>\n",
       "      <th>CHE_FCDV_1</th>\n",
       "      <th>CHE_BPDV_1</th>\n",
       "      <th>FLAMETST_1</th>\n",
       "      <th>FLAME_ON_1</th>\n",
       "      <th>C_HEALTH_1</th>\n",
       "      <th>ALARM_01_1</th>\n",
       "      <th>ALARM_02_1</th>\n",
       "      <th>ALARM_03_1</th>\n",
       "      <th>Date</th>\n",
       "      <th>...</th>\n",
       "      <th>FANSPEED_1</th>\n",
       "      <th>VLVSTATE_1</th>\n",
       "      <th>GASVALVE_1</th>\n",
       "      <th>S3_EXPRS_1</th>\n",
       "      <th>S2_INPRS_1</th>\n",
       "      <th>S1_AIRFL_1</th>\n",
       "      <th>TANKTEMP_1</th>\n",
       "      <th>CHE_FIGN_1</th>\n",
       "      <th>CHE_BMIN_1</th>\n",
       "      <th>INLTTEMP_1</th>\n",
       "    </tr>\n",
       "    <tr>\n",
       "      <th>date_time</th>\n",
       "      <th></th>\n",
       "      <th></th>\n",
       "      <th></th>\n",
       "      <th></th>\n",
       "      <th></th>\n",
       "      <th></th>\n",
       "      <th></th>\n",
       "      <th></th>\n",
       "      <th></th>\n",
       "      <th></th>\n",
       "      <th></th>\n",
       "      <th></th>\n",
       "      <th></th>\n",
       "      <th></th>\n",
       "      <th></th>\n",
       "      <th></th>\n",
       "      <th></th>\n",
       "      <th></th>\n",
       "      <th></th>\n",
       "      <th></th>\n",
       "      <th></th>\n",
       "    </tr>\n",
       "  </thead>\n",
       "  <tbody>\n",
       "    <tr>\n",
       "      <th>2021-09-10 12:57:56</th>\n",
       "      <td>0.0</td>\n",
       "      <td>0</td>\n",
       "      <td>-1</td>\n",
       "      <td>6.4</td>\n",
       "      <td>0.0</td>\n",
       "      <td>93.4</td>\n",
       "      <td>no_alarm</td>\n",
       "      <td>no_alarm</td>\n",
       "      <td>no_alarm</td>\n",
       "      <td>9/10/2021</td>\n",
       "      <td>...</td>\n",
       "      <td>0</td>\n",
       "      <td>2</td>\n",
       "      <td>0</td>\n",
       "      <td>0</td>\n",
       "      <td>0</td>\n",
       "      <td>1</td>\n",
       "      <td>180.6</td>\n",
       "      <td>0.0</td>\n",
       "      <td>64151</td>\n",
       "      <td>78.4</td>\n",
       "    </tr>\n",
       "    <tr>\n",
       "      <th>2021-09-10 12:57:57</th>\n",
       "      <td>0.0</td>\n",
       "      <td>0</td>\n",
       "      <td>-1</td>\n",
       "      <td>6.4</td>\n",
       "      <td>0.0</td>\n",
       "      <td>93.4</td>\n",
       "      <td>no_alarm</td>\n",
       "      <td>no_alarm</td>\n",
       "      <td>no_alarm</td>\n",
       "      <td>9/10/2021</td>\n",
       "      <td>...</td>\n",
       "      <td>0</td>\n",
       "      <td>2</td>\n",
       "      <td>0</td>\n",
       "      <td>0</td>\n",
       "      <td>0</td>\n",
       "      <td>1</td>\n",
       "      <td>180.6</td>\n",
       "      <td>0.0</td>\n",
       "      <td>64151</td>\n",
       "      <td>78.4</td>\n",
       "    </tr>\n",
       "    <tr>\n",
       "      <th>2021-09-10 12:57:58</th>\n",
       "      <td>0.0</td>\n",
       "      <td>0</td>\n",
       "      <td>-1</td>\n",
       "      <td>6.4</td>\n",
       "      <td>0.0</td>\n",
       "      <td>93.4</td>\n",
       "      <td>no_alarm</td>\n",
       "      <td>no_alarm</td>\n",
       "      <td>no_alarm</td>\n",
       "      <td>9/10/2021</td>\n",
       "      <td>...</td>\n",
       "      <td>0</td>\n",
       "      <td>2</td>\n",
       "      <td>0</td>\n",
       "      <td>0</td>\n",
       "      <td>0</td>\n",
       "      <td>1</td>\n",
       "      <td>180.8</td>\n",
       "      <td>0.0</td>\n",
       "      <td>64151</td>\n",
       "      <td>78.4</td>\n",
       "    </tr>\n",
       "    <tr>\n",
       "      <th>2021-09-10 12:58:00</th>\n",
       "      <td>0.0</td>\n",
       "      <td>0</td>\n",
       "      <td>-1</td>\n",
       "      <td>6.4</td>\n",
       "      <td>0.0</td>\n",
       "      <td>93.4</td>\n",
       "      <td>no_alarm</td>\n",
       "      <td>no_alarm</td>\n",
       "      <td>no_alarm</td>\n",
       "      <td>9/10/2021</td>\n",
       "      <td>...</td>\n",
       "      <td>0</td>\n",
       "      <td>2</td>\n",
       "      <td>0</td>\n",
       "      <td>0</td>\n",
       "      <td>0</td>\n",
       "      <td>1</td>\n",
       "      <td>180.8</td>\n",
       "      <td>0.0</td>\n",
       "      <td>64151</td>\n",
       "      <td>78.4</td>\n",
       "    </tr>\n",
       "    <tr>\n",
       "      <th>2021-09-10 12:58:01</th>\n",
       "      <td>0.0</td>\n",
       "      <td>0</td>\n",
       "      <td>-1</td>\n",
       "      <td>6.4</td>\n",
       "      <td>0.0</td>\n",
       "      <td>93.4</td>\n",
       "      <td>no_alarm</td>\n",
       "      <td>no_alarm</td>\n",
       "      <td>no_alarm</td>\n",
       "      <td>9/10/2021</td>\n",
       "      <td>...</td>\n",
       "      <td>0</td>\n",
       "      <td>2</td>\n",
       "      <td>0</td>\n",
       "      <td>0</td>\n",
       "      <td>0</td>\n",
       "      <td>1</td>\n",
       "      <td>180.9</td>\n",
       "      <td>0.0</td>\n",
       "      <td>64151</td>\n",
       "      <td>78.4</td>\n",
       "    </tr>\n",
       "  </tbody>\n",
       "</table>\n",
       "<p>5 rows × 22 columns</p>\n",
       "</div>"
      ],
      "text/plain": [
       "                     BLOWRPWM_1  CHE_FCDV_1  CHE_BPDV_1  FLAMETST_1  \\\n",
       "date_time                                                             \n",
       "2021-09-10 12:57:56         0.0           0          -1         6.4   \n",
       "2021-09-10 12:57:57         0.0           0          -1         6.4   \n",
       "2021-09-10 12:57:58         0.0           0          -1         6.4   \n",
       "2021-09-10 12:58:00         0.0           0          -1         6.4   \n",
       "2021-09-10 12:58:01         0.0           0          -1         6.4   \n",
       "\n",
       "                     FLAME_ON_1  C_HEALTH_1 ALARM_01_1 ALARM_02_1 ALARM_03_1  \\\n",
       "date_time                                                                      \n",
       "2021-09-10 12:57:56         0.0        93.4   no_alarm   no_alarm   no_alarm   \n",
       "2021-09-10 12:57:57         0.0        93.4   no_alarm   no_alarm   no_alarm   \n",
       "2021-09-10 12:57:58         0.0        93.4   no_alarm   no_alarm   no_alarm   \n",
       "2021-09-10 12:58:00         0.0        93.4   no_alarm   no_alarm   no_alarm   \n",
       "2021-09-10 12:58:01         0.0        93.4   no_alarm   no_alarm   no_alarm   \n",
       "\n",
       "                          Date  ... FANSPEED_1  VLVSTATE_1  GASVALVE_1  \\\n",
       "date_time                       ...                                      \n",
       "2021-09-10 12:57:56  9/10/2021  ...          0           2           0   \n",
       "2021-09-10 12:57:57  9/10/2021  ...          0           2           0   \n",
       "2021-09-10 12:57:58  9/10/2021  ...          0           2           0   \n",
       "2021-09-10 12:58:00  9/10/2021  ...          0           2           0   \n",
       "2021-09-10 12:58:01  9/10/2021  ...          0           2           0   \n",
       "\n",
       "                     S3_EXPRS_1  S2_INPRS_1  S1_AIRFL_1  TANKTEMP_1  \\\n",
       "date_time                                                             \n",
       "2021-09-10 12:57:56           0           0           1       180.6   \n",
       "2021-09-10 12:57:57           0           0           1       180.6   \n",
       "2021-09-10 12:57:58           0           0           1       180.8   \n",
       "2021-09-10 12:58:00           0           0           1       180.8   \n",
       "2021-09-10 12:58:01           0           0           1       180.9   \n",
       "\n",
       "                     CHE_FIGN_1  CHE_BMIN_1  INLTTEMP_1  \n",
       "date_time                                                \n",
       "2021-09-10 12:57:56         0.0       64151        78.4  \n",
       "2021-09-10 12:57:57         0.0       64151        78.4  \n",
       "2021-09-10 12:57:58         0.0       64151        78.4  \n",
       "2021-09-10 12:58:00         0.0       64151        78.4  \n",
       "2021-09-10 12:58:01         0.0       64151        78.4  \n",
       "\n",
       "[5 rows x 22 columns]"
      ]
     },
     "execution_count": 127,
     "metadata": {},
     "output_type": "execute_result"
    }
   ],
   "source": [
    "df_final.head()"
   ]
  },
  {
   "cell_type": "code",
   "execution_count": 128,
   "id": "c4f49425",
   "metadata": {},
   "outputs": [],
   "source": [
    "# what is nine then ???????"
   ]
  },
  {
   "cell_type": "code",
   "execution_count": 129,
   "id": "85e3ffde",
   "metadata": {},
   "outputs": [
    {
     "data": {
      "text/plain": [
       "0.0    208097\n",
       "1.0        14\n",
       "9.0         1\n",
       "Name: CHE_FIGN_1, dtype: int64"
      ]
     },
     "execution_count": 129,
     "metadata": {},
     "output_type": "execute_result"
    }
   ],
   "source": [
    "df_final['CHE_FIGN_1'].value_counts()"
   ]
  },
  {
   "cell_type": "code",
   "execution_count": 130,
   "id": "e3aaac22",
   "metadata": {},
   "outputs": [],
   "source": [
    "#df_final['CHE_FIGN_1']"
   ]
  },
  {
   "cell_type": "code",
   "execution_count": 131,
   "id": "10eabda0",
   "metadata": {},
   "outputs": [
    {
     "data": {
      "text/plain": [
       "array([0., 1., 9.])"
      ]
     },
     "execution_count": 131,
     "metadata": {},
     "output_type": "execute_result"
    }
   ],
   "source": [
    "df_final['CHE_FIGN_1'].unique()"
   ]
  },
  {
   "cell_type": "code",
   "execution_count": 132,
   "id": "252f216a",
   "metadata": {},
   "outputs": [],
   "source": [
    "df_final = df_final[df_final.CHE_FIGN_1 != 9.0]"
   ]
  },
  {
   "cell_type": "code",
   "execution_count": 133,
   "id": "2583f10a",
   "metadata": {},
   "outputs": [],
   "source": [
    "df_final['CHE_BMIN_1'] = df_final['CHE_BMIN_1'].diff()"
   ]
  },
  {
   "cell_type": "code",
   "execution_count": 134,
   "id": "8329c5b4",
   "metadata": {},
   "outputs": [
    {
     "data": {
      "text/plain": [
       "array([      nan, 0.000e+00, 1.000e+00, 1.349e+03])"
      ]
     },
     "execution_count": 134,
     "metadata": {},
     "output_type": "execute_result"
    }
   ],
   "source": [
    "df_final['CHE_BMIN_1'].unique()"
   ]
  },
  {
   "cell_type": "code",
   "execution_count": 135,
   "id": "4568a19f",
   "metadata": {},
   "outputs": [
    {
     "data": {
      "text/plain": [
       "0.0       206744\n",
       "1.0         1365\n",
       "1349.0         1\n",
       "Name: CHE_BMIN_1, dtype: int64"
      ]
     },
     "execution_count": 135,
     "metadata": {},
     "output_type": "execute_result"
    }
   ],
   "source": [
    "df_final['CHE_BMIN_1'].value_counts()"
   ]
  },
  {
   "cell_type": "code",
   "execution_count": 136,
   "id": "0a1483b8",
   "metadata": {},
   "outputs": [],
   "source": [
    "df_final = df_final[df_final.CHE_BMIN_1 != 1349.0]"
   ]
  },
  {
   "cell_type": "code",
   "execution_count": 137,
   "id": "fc41b61d",
   "metadata": {},
   "outputs": [],
   "source": [
    "df_final = df_final[df_final.CHE_BMIN_1.notnull()]"
   ]
  },
  {
   "cell_type": "code",
   "execution_count": 138,
   "id": "066d5a5f",
   "metadata": {},
   "outputs": [
    {
     "name": "stdout",
     "output_type": "stream",
     "text": [
      "<class 'pandas.core.frame.DataFrame'>\n",
      "DatetimeIndex: 208109 entries, 2021-09-10 12:57:57 to 2021-09-15 08:52:17\n",
      "Data columns (total 22 columns):\n",
      " #   Column      Non-Null Count   Dtype  \n",
      "---  ------      --------------   -----  \n",
      " 0   BLOWRPWM_1  208109 non-null  float64\n",
      " 1   CHE_FCDV_1  208109 non-null  int64  \n",
      " 2   CHE_BPDV_1  208109 non-null  int64  \n",
      " 3   FLAMETST_1  208109 non-null  float64\n",
      " 4   FLAME_ON_1  208109 non-null  float64\n",
      " 5   C_HEALTH_1  208109 non-null  float64\n",
      " 6   ALARM_01_1  208109 non-null  object \n",
      " 7   ALARM_02_1  208109 non-null  object \n",
      " 8   ALARM_03_1  208109 non-null  object \n",
      " 9   Date        208109 non-null  object \n",
      " 10  ALARM_04_1  208109 non-null  object \n",
      " 11  FLAMECUR_1  208109 non-null  float64\n",
      " 12  FANSPEED_1  208109 non-null  int32  \n",
      " 13  VLVSTATE_1  208109 non-null  int64  \n",
      " 14  GASVALVE_1  208109 non-null  int64  \n",
      " 15  S3_EXPRS_1  208109 non-null  int64  \n",
      " 16  S2_INPRS_1  208109 non-null  int64  \n",
      " 17  S1_AIRFL_1  208109 non-null  int64  \n",
      " 18  TANKTEMP_1  208109 non-null  float64\n",
      " 19  CHE_FIGN_1  208109 non-null  float64\n",
      " 20  CHE_BMIN_1  208109 non-null  float64\n",
      " 21  INLTTEMP_1  208109 non-null  float64\n",
      "dtypes: float64(9), int32(1), int64(7), object(5)\n",
      "memory usage: 35.7+ MB\n"
     ]
    }
   ],
   "source": [
    "df_final.info()"
   ]
  },
  {
   "cell_type": "code",
   "execution_count": 139,
   "id": "84036256",
   "metadata": {},
   "outputs": [
    {
     "data": {
      "text/plain": [
       "BLOWRPWM_1    0\n",
       "CHE_FCDV_1    0\n",
       "CHE_BPDV_1    0\n",
       "FLAMETST_1    0\n",
       "FLAME_ON_1    0\n",
       "C_HEALTH_1    0\n",
       "ALARM_01_1    0\n",
       "ALARM_02_1    0\n",
       "ALARM_03_1    0\n",
       "Date          0\n",
       "ALARM_04_1    0\n",
       "FLAMECUR_1    0\n",
       "FANSPEED_1    0\n",
       "VLVSTATE_1    0\n",
       "GASVALVE_1    0\n",
       "S3_EXPRS_1    0\n",
       "S2_INPRS_1    0\n",
       "S1_AIRFL_1    0\n",
       "TANKTEMP_1    0\n",
       "CHE_FIGN_1    0\n",
       "CHE_BMIN_1    0\n",
       "INLTTEMP_1    0\n",
       "dtype: int64"
      ]
     },
     "execution_count": 139,
     "metadata": {},
     "output_type": "execute_result"
    }
   ],
   "source": [
    "df_final.isnull().sum()"
   ]
  },
  {
   "cell_type": "code",
   "execution_count": 140,
   "id": "f74f468a",
   "metadata": {},
   "outputs": [],
   "source": [
    "# to change labels of \"S1_AIRFL\"\n",
    "\n",
    "#CHE_FIGN_1_dict = {\n",
    "#    0.0: 0,\n",
    "#    1: 1\n",
    "#}\n",
    "\n",
    "#df_final[\"CHE_FIGN_1\"] = df_final[\"CHE_FIGN_1\"].map(CHE_FIGN_1_dict)"
   ]
  },
  {
   "cell_type": "code",
   "execution_count": 141,
   "id": "94701c4a",
   "metadata": {},
   "outputs": [],
   "source": [
    "#df_final.dropna(how='all')"
   ]
  },
  {
   "cell_type": "code",
   "execution_count": 142,
   "id": "251fdd3e",
   "metadata": {},
   "outputs": [],
   "source": [
    "#dtypes(df_final)"
   ]
  },
  {
   "cell_type": "code",
   "execution_count": 143,
   "id": "3014d546",
   "metadata": {},
   "outputs": [
    {
     "data": {
      "image/png": "[encoded data removed]",
      "text/plain": [
       "<Figure size 576x576 with 1 Axes>"
      ]
     },
     "metadata": {
      "needs_background": "light"
     },
     "output_type": "display_data"
    }
   ],
   "source": [
    "# bar chart to see missing visual in df_data\n",
    "plt.figure(figsize = (8,8))\n",
    "\n",
    "df_final.isnull().sum().plot(kind = 'barh')\n",
    "plt.title('Number of Missing Values by Column', size = 25)\n",
    "plt.xlabel('Count', size = 25);"
   ]
  },
  {
   "cell_type": "code",
   "execution_count": 144,
   "id": "53c25064",
   "metadata": {},
   "outputs": [
    {
     "data": {
      "image/png": "[encoded data removed]",
      "text/plain": [
       "<Figure size 720x720 with 2 Axes>"
      ]
     },
     "metadata": {
      "needs_background": "light"
     },
     "output_type": "display_data"
    }
   ],
   "source": [
    "#visual of correlation between fields or columns\n",
    "plt.figure(figsize=(10, 10))\n",
    "mask = np.zeros_like(df_final.corr())\n",
    "mask[np.triu_indices_from(mask)] = True\n",
    "sns.heatmap(df_final.corr(), mask = mask, square = True, cmap = 'viridis', annot = True, vmin=-1, vmax=1);\n",
    "#sns.heatmap(df_final.corr(), annot = True, vmin=-1, vmax=1, center= 0);"
   ]
  },
  {
   "cell_type": "code",
   "execution_count": 145,
   "id": "280d6525",
   "metadata": {},
   "outputs": [
    {
     "data": {
      "image/png": "[encoded data removed]",
      "text/plain": [
       "<Figure size 576x576 with 2 Axes>"
      ]
     },
     "metadata": {
      "needs_background": "light"
     },
     "output_type": "display_data"
    }
   ],
   "source": [
    "#visual of correlation between fields or columns\n",
    "plt.figure(figsize=(8,8))\n",
    "\n",
    "sns.heatmap(df_final.corr()[['FLAMECUR_1']].sort_values('FLAMECUR_1', ascending=False), annot=True, cmap='viridis');"
   ]
  },
  {
   "cell_type": "code",
   "execution_count": 146,
   "id": "0aadb6de",
   "metadata": {},
   "outputs": [
    {
     "data": {
      "image/png": "[encoded data removed]",
      "text/plain": [
       "<Figure size 576x576 with 2 Axes>"
      ]
     },
     "metadata": {
      "needs_background": "light"
     },
     "output_type": "display_data"
    }
   ],
   "source": [
    "#visual of correlation between fields or columns\n",
    "plt.figure(figsize=(8,8))\n",
    "\n",
    "sns.heatmap(df_final.corr()[['CHE_FIGN_1']].sort_values('CHE_FIGN_1', ascending=False), annot=True, cmap='viridis');"
   ]
  },
  {
   "cell_type": "code",
   "execution_count": 147,
   "id": "8f6abe39",
   "metadata": {},
   "outputs": [],
   "source": [
    "#numeric data from df_data\n",
    "df_numeric = df_final._get_numeric_data()"
   ]
  },
  {
   "cell_type": "code",
   "execution_count": 148,
   "id": "8033283d",
   "metadata": {},
   "outputs": [
    {
     "data": {
      "image/png": "[encoded data removed]",
      "text/plain": [
       "<Figure size 864x864 with 2 Axes>"
      ]
     },
     "metadata": {
      "needs_background": "light"
     },
     "output_type": "display_data"
    }
   ],
   "source": [
    "plt.figure(figsize=(12, 12))\n",
    "mask = np.zeros_like(df_numeric.corr())\n",
    "mask[np.triu_indices_from(mask)] = True\n",
    "sns.heatmap(df_numeric.corr(), mask = mask, square = True, cmap = 'viridis', annot = True, vmin=-1, vmax=1);\n"
   ]
  },
  {
   "cell_type": "code",
   "execution_count": 149,
   "id": "23e7dcd3",
   "metadata": {},
   "outputs": [
    {
     "data": {
      "image/png": "[encoded data removed]",
      "text/plain": [
       "<Figure size 864x864 with 2 Axes>"
      ]
     },
     "metadata": {
      "needs_background": "light"
     },
     "output_type": "display_data"
    }
   ],
   "source": [
    "plt.figure(figsize=(12,12))\n",
    "\n",
    "sns.heatmap(df_numeric.corr(), annot=True, cmap='viridis');"
   ]
  },
  {
   "cell_type": "code",
   "execution_count": 150,
   "id": "70f3e0f0",
   "metadata": {},
   "outputs": [
    {
     "data": {
      "image/png": "[encoded data removed]",
      "text/plain": [
       "<Figure size 720x576 with 2 Axes>"
      ]
     },
     "metadata": {
      "needs_background": "light"
     },
     "output_type": "display_data"
    }
   ],
   "source": [
    "#visual of correlation between fields or columns\n",
    "plt.figure(figsize=(10,8))\n",
    "\n",
    "sns.heatmap(df_numeric.corr()[['FLAME_ON_1']].sort_values('FLAME_ON_1', ascending=False), annot=True, cmap='viridis');"
   ]
  },
  {
   "cell_type": "code",
   "execution_count": 151,
   "id": "cc931bbe",
   "metadata": {},
   "outputs": [
    {
     "data": {
      "image/png": "[encoded data removed]",
      "text/plain": [
       "<Figure size 432x288 with 1 Axes>"
      ]
     },
     "metadata": {
      "needs_background": "light"
     },
     "output_type": "display_data"
    }
   ],
   "source": [
    "#Scatter plot to see relation between CHE_FIGN and FLAMECUR\n",
    "df_final.plot(kind='scatter', x = 'CHE_FIGN_1', y='FLAMECUR_1');"
   ]
  },
  {
   "cell_type": "code",
   "execution_count": 152,
   "id": "1e6cd7bb",
   "metadata": {},
   "outputs": [
    {
     "data": {
      "image/png": "[encoded data removed]",
      "text/plain": [
       "<Figure size 432x288 with 1 Axes>"
      ]
     },
     "metadata": {
      "needs_background": "light"
     },
     "output_type": "display_data"
    }
   ],
   "source": [
    "#Scatter plot to see relation between CHE_FIGN and CHE_BMIN\n",
    "df_final.plot(kind='scatter', x = 'CHE_FIGN_1', y='CHE_BMIN_1');"
   ]
  },
  {
   "cell_type": "markdown",
   "id": "d00e09bb",
   "metadata": {},
   "source": [
    "## Feature selection"
   ]
  },
  {
   "cell_type": "code",
   "execution_count": 153,
   "id": "ae270f59",
   "metadata": {},
   "outputs": [
    {
     "data": {
      "text/plain": [
       "BLOWRPWM_1    0\n",
       "CHE_FCDV_1    0\n",
       "CHE_BPDV_1    0\n",
       "FLAMETST_1    0\n",
       "FLAME_ON_1    0\n",
       "C_HEALTH_1    0\n",
       "ALARM_01_1    0\n",
       "ALARM_02_1    0\n",
       "ALARM_03_1    0\n",
       "Date          0\n",
       "ALARM_04_1    0\n",
       "FLAMECUR_1    0\n",
       "FANSPEED_1    0\n",
       "VLVSTATE_1    0\n",
       "GASVALVE_1    0\n",
       "S3_EXPRS_1    0\n",
       "S2_INPRS_1    0\n",
       "S1_AIRFL_1    0\n",
       "TANKTEMP_1    0\n",
       "CHE_FIGN_1    0\n",
       "CHE_BMIN_1    0\n",
       "INLTTEMP_1    0\n",
       "dtype: int64"
      ]
     },
     "execution_count": 153,
     "metadata": {},
     "output_type": "execute_result"
    }
   ],
   "source": [
    "df_final.isnull().sum()"
   ]
  },
  {
   "cell_type": "code",
   "execution_count": 154,
   "id": "7838eb39",
   "metadata": {},
   "outputs": [
    {
     "data": {
      "image/png": "[encoded data removed]",
      "text/plain": [
       "<Figure size 576x576 with 2 Axes>"
      ]
     },
     "metadata": {
      "needs_background": "light"
     },
     "output_type": "display_data"
    }
   ],
   "source": [
    "#visual of correlation between fields or columns\n",
    "plt.figure(figsize=(8,8))\n",
    "\n",
    "sns.heatmap(df_final.corr()[['FLAMECUR_1']].sort_values('FLAMECUR_1', ascending=False), annot=True, cmap='viridis');"
   ]
  },
  {
   "cell_type": "code",
   "execution_count": 155,
   "id": "b8da8523",
   "metadata": {},
   "outputs": [
    {
     "data": {
      "text/plain": [
       "Index(['BLOWRPWM_1', 'CHE_FCDV_1', 'CHE_BPDV_1', 'FLAMETST_1', 'FLAME_ON_1',\n",
       "       'C_HEALTH_1', 'ALARM_01_1', 'ALARM_02_1', 'ALARM_03_1', 'Date',\n",
       "       'ALARM_04_1', 'FLAMECUR_1', 'FANSPEED_1', 'VLVSTATE_1', 'GASVALVE_1',\n",
       "       'S3_EXPRS_1', 'S2_INPRS_1', 'S1_AIRFL_1', 'TANKTEMP_1', 'CHE_FIGN_1',\n",
       "       'CHE_BMIN_1', 'INLTTEMP_1'],\n",
       "      dtype='object')"
      ]
     },
     "execution_count": 155,
     "metadata": {},
     "output_type": "execute_result"
    }
   ],
   "source": [
    "df_final.columns"
   ]
  },
  {
   "cell_type": "code",
   "execution_count": 156,
   "id": "c4af596b",
   "metadata": {},
   "outputs": [],
   "source": [
    "selected_features = df_final[['FLAMECUR_1', 'FLAME_ON_1', 'GASVALVE_1', 'FANSPEED_1',\n",
    "                              'BLOWRPWM_1', 'VLVSTATE_1', 'CHE_BMIN_1',\n",
    "                              \n",
    "                              'FLAMETST_1', 'INLTTEMP_1', 'TANKTEMP_1', 'S1_AIRFL_1']]"
   ]
  },
  {
   "cell_type": "code",
   "execution_count": 157,
   "id": "004da8f2",
   "metadata": {},
   "outputs": [
    {
     "name": "stdout",
     "output_type": "stream",
     "text": [
      "<class 'pandas.core.frame.DataFrame'>\n",
      "DatetimeIndex: 208109 entries, 2021-09-10 12:57:57 to 2021-09-15 08:52:17\n",
      "Data columns (total 11 columns):\n",
      " #   Column      Non-Null Count   Dtype  \n",
      "---  ------      --------------   -----  \n",
      " 0   FLAMECUR_1  208109 non-null  float64\n",
      " 1   FLAME_ON_1  208109 non-null  float64\n",
      " 2   GASVALVE_1  208109 non-null  int64  \n",
      " 3   FANSPEED_1  208109 non-null  int32  \n",
      " 4   BLOWRPWM_1  208109 non-null  float64\n",
      " 5   VLVSTATE_1  208109 non-null  int64  \n",
      " 6   CHE_BMIN_1  208109 non-null  float64\n",
      " 7   FLAMETST_1  208109 non-null  float64\n",
      " 8   INLTTEMP_1  208109 non-null  float64\n",
      " 9   TANKTEMP_1  208109 non-null  float64\n",
      " 10  S1_AIRFL_1  208109 non-null  int64  \n",
      "dtypes: float64(7), int32(1), int64(3)\n",
      "memory usage: 18.3 MB\n"
     ]
    }
   ],
   "source": [
    "selected_features.info()"
   ]
  },
  {
   "cell_type": "code",
   "execution_count": 158,
   "id": "b9c17f2e",
   "metadata": {},
   "outputs": [
    {
     "data": {
      "text/plain": [
       "FLAMECUR_1    0\n",
       "FLAME_ON_1    0\n",
       "GASVALVE_1    0\n",
       "FANSPEED_1    0\n",
       "BLOWRPWM_1    0\n",
       "VLVSTATE_1    0\n",
       "CHE_BMIN_1    0\n",
       "FLAMETST_1    0\n",
       "INLTTEMP_1    0\n",
       "TANKTEMP_1    0\n",
       "S1_AIRFL_1    0\n",
       "dtype: int64"
      ]
     },
     "execution_count": 158,
     "metadata": {},
     "output_type": "execute_result"
    }
   ],
   "source": [
    "selected_features.isnull().sum()"
   ]
  },
  {
   "cell_type": "code",
   "execution_count": 159,
   "id": "62ccf2ac",
   "metadata": {},
   "outputs": [
    {
     "name": "stderr",
     "output_type": "stream",
     "text": [
      "C:\\Users\\muhammad.tahir.ctr\\Anaconda3\\lib\\site-packages\\seaborn\\_decorators.py:36: FutureWarning: Pass the following variable as a keyword arg: x. From version 0.12, the only valid positional argument will be `data`, and passing other arguments without an explicit keyword will result in an error or misinterpretation.\n",
      "  warnings.warn(\n"
     ]
    },
    {
     "data": {
      "image/png": "[encoded data removed]",
      "text/plain": [
       "<Figure size 432x288 with 1 Axes>"
      ]
     },
     "metadata": {
      "needs_background": "light"
     },
     "output_type": "display_data"
    }
   ],
   "source": [
    "sns.countplot(df_final['CHE_FIGN_1'])\n",
    "\n",
    "plt.title('countplot of target')\n",
    "plt.xlabel('target')\n",
    "plt.ylabel('CHE_FIGN_1')\n",
    "plt.show()"
   ]
  },
  {
   "cell_type": "code",
   "execution_count": 200,
   "id": "0e206984",
   "metadata": {},
   "outputs": [
    {
     "data": {
      "text/plain": [
       "0.0    0.999933\n",
       "1.0    0.000067\n",
       "Name: CHE_FIGN_1, dtype: float64"
      ]
     },
     "execution_count": 200,
     "metadata": {},
     "output_type": "execute_result"
    }
   ],
   "source": [
    "df_final['CHE_FIGN_1'].value_counts(normalize=True)"
   ]
  },
  {
   "cell_type": "code",
   "execution_count": 160,
   "id": "0c270a8c",
   "metadata": {},
   "outputs": [],
   "source": [
    "y = df_final['CHE_FIGN_1']\n",
    "X = selected_features"
   ]
  },
  {
   "cell_type": "code",
   "execution_count": 161,
   "id": "ea91600f",
   "metadata": {},
   "outputs": [],
   "source": [
    "# Import train_test_split.\n",
    "from sklearn.model_selection import train_test_split, cross_val_score\n",
    "X_train, X_test, y_train, y_test = train_test_split(X, y, random_state=42)"
   ]
  },
  {
   "cell_type": "code",
   "execution_count": 162,
   "id": "c4901977",
   "metadata": {},
   "outputs": [],
   "source": [
    "# Import logistic regression\n",
    "from sklearn.linear_model import LogisticRegression\n",
    "\n",
    "# Import metrics.\n",
    "from sklearn.metrics import (confusion_matrix, plot_confusion_matrix,\n",
    "    accuracy_score, plot_roc_curve, roc_auc_score, recall_score,\n",
    "    precision_score, f1_score)"
   ]
  },
  {
   "cell_type": "code",
   "execution_count": 163,
   "id": "f300df11",
   "metadata": {},
   "outputs": [
    {
     "data": {
      "text/plain": [
       "(0.9999295237729128, 0.9999423387406781)"
      ]
     },
     "execution_count": 163,
     "metadata": {},
     "output_type": "execute_result"
    }
   ],
   "source": [
    "logreg = LogisticRegression(solver='liblinear')#, class_weight={0:1, 1:8})\n",
    "\n",
    "# Step 3: Fit our model.\n",
    "# Fit model.\n",
    "logreg.fit(X_train, y_train)\n",
    "logreg.score(X_train, y_train),logreg.score(X_test, y_test)"
   ]
  },
  {
   "cell_type": "code",
   "execution_count": 164,
   "id": "814f222f",
   "metadata": {},
   "outputs": [],
   "source": [
    "preds = logreg.predict(X_test)"
   ]
  },
  {
   "cell_type": "code",
   "execution_count": 165,
   "id": "bf7163aa",
   "metadata": {},
   "outputs": [
    {
     "data": {
      "text/plain": [
       "array([[52025,     0],\n",
       "       [    3,     0]], dtype=int64)"
      ]
     },
     "execution_count": 165,
     "metadata": {},
     "output_type": "execute_result"
    }
   ],
   "source": [
    "confusion_matrix(y_test, preds)"
   ]
  },
  {
   "cell_type": "code",
   "execution_count": 166,
   "id": "e3eee83a",
   "metadata": {},
   "outputs": [
    {
     "data": {
      "text/plain": [
       "0.0    208095\n",
       "1.0        14\n",
       "Name: CHE_FIGN_1, dtype: int64"
      ]
     },
     "execution_count": 166,
     "metadata": {},
     "output_type": "execute_result"
    }
   ],
   "source": [
    "df_final['CHE_FIGN_1'].value_counts()"
   ]
  },
  {
   "cell_type": "code",
   "execution_count": 167,
   "id": "8f0470fc",
   "metadata": {},
   "outputs": [
    {
     "data": {
      "text/plain": [
       "array([0., 1.])"
      ]
     },
     "execution_count": 167,
     "metadata": {},
     "output_type": "execute_result"
    }
   ],
   "source": [
    "df_final['CHE_FIGN_1'].unique()"
   ]
  },
  {
   "cell_type": "code",
   "execution_count": 196,
   "id": "4324deed",
   "metadata": {},
   "outputs": [
    {
     "data": {
      "text/plain": [
       "(208112, 52027.25)"
      ]
     },
     "execution_count": 196,
     "metadata": {},
     "output_type": "execute_result"
    }
   ],
   "source": [
    "52028*4, (208095+14)/4"
   ]
  },
  {
   "cell_type": "markdown",
   "id": "9a104593",
   "metadata": {},
   "source": [
    "## Logistic Regression; Binary classification"
   ]
  },
  {
   "cell_type": "code",
   "execution_count": 168,
   "id": "e50cb75b",
   "metadata": {},
   "outputs": [],
   "source": [
    "from sklearn.preprocessing import StandardScaler\n",
    "ss = StandardScaler()"
   ]
  },
  {
   "cell_type": "code",
   "execution_count": 169,
   "id": "e14c6655",
   "metadata": {},
   "outputs": [],
   "source": [
    "X_train_ss = ss.fit_transform(X_train)\n",
    "X_test_ss = ss.transform(X_test)"
   ]
  },
  {
   "cell_type": "code",
   "execution_count": 170,
   "id": "41567dc2",
   "metadata": {},
   "outputs": [
    {
     "data": {
      "text/plain": [
       "(0.9978344577495019, 0.570596601829784)"
      ]
     },
     "execution_count": 170,
     "metadata": {},
     "output_type": "execute_result"
    }
   ],
   "source": [
    "# Step 2: Instantiate our model.\n",
    "logregs = LogisticRegression(solver='liblinear', class_weight={0:1, 1:1000})\n",
    "\n",
    "# Step 3: Fit our model.\n",
    "# Fit model.\n",
    "logregs.fit(X_train_ss, y_train)\n",
    "logregs.score(X_train_ss, y_train),logreg.score(X_test_ss, y_test)"
   ]
  },
  {
   "cell_type": "code",
   "execution_count": 171,
   "id": "7d5c5bb7",
   "metadata": {},
   "outputs": [
    {
     "name": "stdout",
     "output_type": "stream",
     "text": [
      "Cross val score: 0.9979113418911323\n"
     ]
    }
   ],
   "source": [
    "# Get our scores\n",
    "print('Cross val score:', cross_val_score(logregs, X_train_ss, y_train, cv=5).mean())"
   ]
  },
  {
   "cell_type": "code",
   "execution_count": 172,
   "id": "d0b150d7",
   "metadata": {},
   "outputs": [],
   "source": [
    "# Step 4 (part 1): Generate predicted values.\n",
    "preds_lr = logregs.predict(X_test_ss)"
   ]
  },
  {
   "cell_type": "code",
   "execution_count": 173,
   "id": "73540cd3",
   "metadata": {},
   "outputs": [
    {
     "data": {
      "text/plain": [
       "0.0    0.999933\n",
       "1.0    0.000067\n",
       "Name: CHE_FIGN_1, dtype: float64"
      ]
     },
     "execution_count": 173,
     "metadata": {},
     "output_type": "execute_result"
    }
   ],
   "source": [
    "y.value_counts(normalize=True)"
   ]
  },
  {
   "cell_type": "code",
   "execution_count": 174,
   "id": "eca807ff",
   "metadata": {},
   "outputs": [
    {
     "data": {
      "text/plain": [
       "0.9978344577495019"
      ]
     },
     "execution_count": 174,
     "metadata": {},
     "output_type": "execute_result"
    }
   ],
   "source": [
    "# Step 5: Evaluate model.\n",
    "logregs.score(X_train_ss, y_train) # Training Accuracy score"
   ]
  },
  {
   "cell_type": "code",
   "execution_count": 175,
   "id": "e664c7f3",
   "metadata": {},
   "outputs": [
    {
     "data": {
      "text/plain": [
       "0.9980971784423772"
      ]
     },
     "execution_count": 175,
     "metadata": {},
     "output_type": "execute_result"
    }
   ],
   "source": [
    "# Step 5: Evaluate model (on testing).\n",
    "logregs.score(X_test_ss, y_test) # Testing Accuracy score"
   ]
  },
  {
   "cell_type": "code",
   "execution_count": 176,
   "id": "d4d7e600",
   "metadata": {},
   "outputs": [
    {
     "data": {
      "text/plain": [
       "array([[51926,    99],\n",
       "       [    0,     3]], dtype=int64)"
      ]
     },
     "execution_count": 176,
     "metadata": {},
     "output_type": "execute_result"
    }
   ],
   "source": [
    "confusion_matrix(y_test, preds_lr)"
   ]
  },
  {
   "cell_type": "code",
   "execution_count": 177,
   "id": "fd533d86",
   "metadata": {},
   "outputs": [
    {
     "data": {
      "image/png": "[encoded data removed]",
      "text/plain": [
       "<Figure size 432x288 with 2 Axes>"
      ]
     },
     "metadata": {
      "needs_background": "light"
     },
     "output_type": "display_data"
    }
   ],
   "source": [
    "plot_confusion_matrix(logregs, X_test_ss, y_test, cmap='Blues', \n",
    "                      values_format='d', display_labels=['0', '1']);"
   ]
  },
  {
   "cell_type": "code",
   "execution_count": 188,
   "id": "401927bc",
   "metadata": {},
   "outputs": [
    {
     "data": {
      "text/html": [
       "<div>\n",
       "<style scoped>\n",
       "    .dataframe tbody tr th:only-of-type {\n",
       "        vertical-align: middle;\n",
       "    }\n",
       "\n",
       "    .dataframe tbody tr th {\n",
       "        vertical-align: top;\n",
       "    }\n",
       "\n",
       "    .dataframe thead th {\n",
       "        text-align: right;\n",
       "    }\n",
       "</style>\n",
       "<table border=\"1\" class=\"dataframe\">\n",
       "  <thead>\n",
       "    <tr style=\"text-align: right;\">\n",
       "      <th>Predicted</th>\n",
       "      <th>0.0</th>\n",
       "      <th>1.0</th>\n",
       "      <th>All</th>\n",
       "    </tr>\n",
       "    <tr>\n",
       "      <th>Actual</th>\n",
       "      <th></th>\n",
       "      <th></th>\n",
       "      <th></th>\n",
       "    </tr>\n",
       "  </thead>\n",
       "  <tbody>\n",
       "    <tr>\n",
       "      <th>0.0</th>\n",
       "      <td>51926</td>\n",
       "      <td>99</td>\n",
       "      <td>52025</td>\n",
       "    </tr>\n",
       "    <tr>\n",
       "      <th>1.0</th>\n",
       "      <td>0</td>\n",
       "      <td>3</td>\n",
       "      <td>3</td>\n",
       "    </tr>\n",
       "    <tr>\n",
       "      <th>All</th>\n",
       "      <td>51926</td>\n",
       "      <td>102</td>\n",
       "      <td>52028</td>\n",
       "    </tr>\n",
       "  </tbody>\n",
       "</table>\n",
       "</div>"
      ],
      "text/plain": [
       "Predicted    0.0  1.0    All\n",
       "Actual                      \n",
       "0.0        51926   99  52025\n",
       "1.0            0    3      3\n",
       "All        51926  102  52028"
      ]
     },
     "execution_count": 188,
     "metadata": {},
     "output_type": "execute_result"
    }
   ],
   "source": [
    "confusion_matrix(y_test,preds_lr)\n",
    "pd.crosstab(y_test, preds_lr, rownames = ['Actual'], colnames =['Predicted'], margins = True)"
   ]
  },
  {
   "cell_type": "code",
   "execution_count": 178,
   "id": "8fb2ab14",
   "metadata": {},
   "outputs": [],
   "source": [
    "# 0 means no failed and 1 mean1 yes one failed ignition"
   ]
  },
  {
   "cell_type": "code",
   "execution_count": null,
   "id": "d8a9defa",
   "metadata": {},
   "outputs": [],
   "source": [
    "# TN     FP\n",
    "\n",
    "# FN     TP"
   ]
  },
  {
   "cell_type": "code",
   "execution_count": 187,
   "id": "e6eef12a",
   "metadata": {},
   "outputs": [
    {
     "data": {
      "text/plain": [
       "0.9980971784423772"
      ]
     },
     "execution_count": 187,
     "metadata": {},
     "output_type": "execute_result"
    }
   ],
   "source": [
    "# Accuracy, how often is the classifier correct?\n",
    "#TP+TN)/total\n",
    "(51926+3)/(51926+102)"
   ]
  },
  {
   "cell_type": "code",
   "execution_count": 189,
   "id": "b679b174",
   "metadata": {},
   "outputs": [
    {
     "data": {
      "text/plain": [
       "0.0019028215576228184"
      ]
     },
     "execution_count": 189,
     "metadata": {},
     "output_type": "execute_result"
    }
   ],
   "source": [
    "# misclassification rate, how often is it wrong ?\n",
    "# also known as error rate\n",
    "# (FP+FN)total  # equal to accuracy-1\n",
    "(99+0)/(51926+102)"
   ]
  },
  {
   "cell_type": "code",
   "execution_count": 190,
   "id": "30d8092a",
   "metadata": {},
   "outputs": [
    {
     "data": {
      "text/plain": [
       "1.0"
      ]
     },
     "execution_count": 190,
     "metadata": {},
     "output_type": "execute_result"
    }
   ],
   "source": [
    "# True positive Rate\n",
    "# also known as sensitivity or recall\n",
    "# when yes==1 is actually ignition failed then predict yes\n",
    "# TP/actual yes == TP/(FN+TP)\n",
    "3/(3+0)"
   ]
  },
  {
   "cell_type": "code",
   "execution_count": 191,
   "id": "6e21e36b",
   "metadata": {},
   "outputs": [
    {
     "data": {
      "text/plain": [
       "0.0019029312830370015"
      ]
     },
     "execution_count": 191,
     "metadata": {},
     "output_type": "execute_result"
    }
   ],
   "source": [
    "# False positive rate, when it's actually no how often it predict yes\n",
    "#  FP/actual no == FP/(TN+FP)\n",
    "#  \n",
    "99/(51926+99)"
   ]
  },
  {
   "cell_type": "code",
   "execution_count": 192,
   "id": "14e9b2b7",
   "metadata": {},
   "outputs": [
    {
     "data": {
      "text/plain": [
       "0.998097068716963"
      ]
     },
     "execution_count": 192,
     "metadata": {},
     "output_type": "execute_result"
    }
   ],
   "source": [
    "# True Negative Rate, specificity\n",
    "# 1 minus false positive rate\n",
    "# TN/(TN+FP)\n",
    "51926/(51926+99)"
   ]
  },
  {
   "cell_type": "code",
   "execution_count": 193,
   "id": "cf3b5ad4",
   "metadata": {},
   "outputs": [
    {
     "data": {
      "text/plain": [
       "0.029411764705882353"
      ]
     },
     "execution_count": 193,
     "metadata": {},
     "output_type": "execute_result"
    }
   ],
   "source": [
    "# when predict yes, how often is it correct ?\n",
    "# TP/(FP+TP)\n",
    "3/(99+3)"
   ]
  },
  {
   "cell_type": "code",
   "execution_count": 197,
   "id": "e6d25b30",
   "metadata": {},
   "outputs": [
    {
     "data": {
      "text/plain": [
       "5.766125932190359e-05"
      ]
     },
     "execution_count": 197,
     "metadata": {},
     "output_type": "execute_result"
    }
   ],
   "source": [
    "# prevalence, how often does the yes condition actually occur in our sample\n",
    "# actual yes / total == (FN+TP)/(total)\n",
    "(0+3)/(51926+102)"
   ]
  },
  {
   "cell_type": "code",
   "execution_count": 179,
   "id": "0c2b65b2",
   "metadata": {},
   "outputs": [
    {
     "name": "stdout",
     "output_type": "stream",
     "text": [
      "              precision    recall  f1-score   support\n",
      "\n",
      "         0.0       1.00      1.00      1.00     52025\n",
      "         1.0       0.03      1.00      0.06         3\n",
      "\n",
      "    accuracy                           1.00     52028\n",
      "   macro avg       0.51      1.00      0.53     52028\n",
      "weighted avg       1.00      1.00      1.00     52028\n",
      "\n"
     ]
    }
   ],
   "source": [
    "from sklearn.metrics import classification_report\n",
    "\n",
    "print(classification_report(y_test, preds_lr))"
   ]
  },
  {
   "cell_type": "markdown",
   "id": "4c6060b2",
   "metadata": {},
   "source": [
    "## Discussion of Results"
   ]
  },
  {
   "cell_type": "code",
   "execution_count": 180,
   "id": "f1ef8423",
   "metadata": {},
   "outputs": [],
   "source": [
    "# Class imbalance means 0 and 1, so we can use class weight"
   ]
  },
  {
   "cell_type": "code",
   "execution_count": 181,
   "id": "7112670a",
   "metadata": {},
   "outputs": [],
   "source": [
    "# which one we need TP, TN, FP or FN, then we can tune accordingly"
   ]
  },
  {
   "cell_type": "code",
   "execution_count": 182,
   "id": "2a5ead6b",
   "metadata": {},
   "outputs": [],
   "source": [
    "# we can do parameter tuning accordingly"
   ]
  },
  {
   "cell_type": "code",
   "execution_count": 183,
   "id": "0912dcb1",
   "metadata": {},
   "outputs": [],
   "source": [
    "# is this what we need or we need time series prediction"
   ]
  },
  {
   "cell_type": "code",
   "execution_count": 184,
   "id": "08319678",
   "metadata": {},
   "outputs": [],
   "source": [
    "# data is very good in sense of time sequence"
   ]
  },
  {
   "cell_type": "code",
   "execution_count": 185,
   "id": "cf1ff115",
   "metadata": {},
   "outputs": [],
   "source": [
    "# we can include alarm one and any other variable if important"
   ]
  },
  {
   "cell_type": "code",
   "execution_count": 186,
   "id": "5d809192",
   "metadata": {},
   "outputs": [],
   "source": [
    "# In between 10 to 13 , 9 failed happen and we have no data"
   ]
  }
 ],
 "metadata": {
  "kernelspec": {
   "display_name": "Python 3",
   "language": "python",
   "name": "python3"
  },
  "language_info": {
   "codemirror_mode": {
    "name": "ipython",
    "version": 3
   },
   "file_extension": ".py",
   "mimetype": "text/x-python",
   "name": "python",
   "nbconvert_exporter": "python",
   "pygments_lexer": "ipython3",
   "version": "3.8.8"
  }
 },
 "nbformat": 4,
 "nbformat_minor": 5
}
