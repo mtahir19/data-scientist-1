{
 "cells": [
  {
   "cell_type": "markdown",
   "id": "1efffd64",
   "metadata": {},
   "source": []
  },
  {
   "cell_type": "markdown",
   "id": "fbcd9d90",
   "metadata": {},
   "source": [
    "# Triton work for \"NL I09\" and each second TestMuh\n",
    "### target is CHE_FIGN;  is continuos\n",
    "### is target categorical or conitunuous variable ?????\n",
    "### what factor affecting target to change\n",
    "### which object column we need to convert to numbers\n",
    "### which column we can drop from experience from object or numbers\n",
    "### we can drop time column\n",
    "### we have to drop or impute (replace missing values with mean or median) or normalize same as we are doing in our dashboard\n",
    "### we can drop may be only 5% to 10% data if data set is very large"
   ]
  },
  {
   "cell_type": "code",
   "execution_count": null,
   "id": "9197d258",
   "metadata": {},
   "outputs": [],
   "source": [
    "# CHE_FIGN\n",
    "# 0.0    208097\n",
    "# 1.0        14\n",
    "# 9.0         1\n",
    "# Name: CHE_FIGN_1, dtype: int64"
   ]
  },
  {
   "cell_type": "code",
   "execution_count": null,
   "id": "20bc7ec8",
   "metadata": {},
   "outputs": [],
   "source": [
    "# BLOWRPWM\n",
    "# CHE_FCDV\n",
    "# CHE_BPDV\n",
    "# FLAMETST\n",
    "# FLAME_ON\n",
    "# C_HEALTH\n",
    "# ALARM_01\n",
    "# ALARM_02\n",
    "# ALARM_03\n",
    "# ALARM_04\n",
    "# FLAMECUR\n",
    "# FANSPEED\n",
    "# VLVSTATE\n",
    "# GASVALVE\n",
    "# S3_EXPRS\n",
    "# S2_INPRS\n",
    "# S1_AIRFL\n",
    "# TANKTEMP\n",
    "# CHE_FIGN\n",
    "# CHE_BMIN\n",
    "# INLTTEMP"
   ]
  },
  {
   "cell_type": "code",
   "execution_count": 1,
   "id": "7eb3f946",
   "metadata": {},
   "outputs": [],
   "source": [
    "# Required Imports\n",
    "import glob\n",
    "import pandas as pd\n",
    "import numpy as np\n",
    "import os\n",
    "import matplotlib.pyplot as plt\n",
    "import seaborn as sns"
   ]
  },
  {
   "cell_type": "code",
   "execution_count": 2,
   "id": "95165620",
   "metadata": {},
   "outputs": [
    {
     "name": "stderr",
     "output_type": "stream",
     "text": [
      "C:\\Users\\muhammad.tahir.ctr\\Anaconda3\\lib\\site-packages\\IPython\\core\\interactiveshell.py:3437: DtypeWarning: Columns (2,3,4,5,7) have mixed types.Specify dtype option on import or set low_memory=False.\n",
      "  exec(code_obj, self.user_global_ns, self.user_ns)\n"
     ]
    }
   ],
   "source": [
    "#creating dataframe df1 of \"NL I09\"\n",
    "df1 = pd.concat(map(pd.read_csv, glob.glob('data1/*.csv')))"
   ]
  },
  {
   "cell_type": "code",
   "execution_count": 3,
   "id": "e0e46d90",
   "metadata": {
    "scrolled": false
   },
   "outputs": [
    {
     "data": {
      "text/html": [
       "<div>\n",
       "<style scoped>\n",
       "    .dataframe tbody tr th:only-of-type {\n",
       "        vertical-align: middle;\n",
       "    }\n",
       "\n",
       "    .dataframe tbody tr th {\n",
       "        vertical-align: top;\n",
       "    }\n",
       "\n",
       "    .dataframe thead th {\n",
       "        text-align: right;\n",
       "    }\n",
       "</style>\n",
       "<table border=\"1\" class=\"dataframe\">\n",
       "  <thead>\n",
       "    <tr style=\"text-align: right;\">\n",
       "      <th></th>\n",
       "      <th>Time</th>\n",
       "      <th>Date</th>\n",
       "      <th>BLOWRPWM_1</th>\n",
       "      <th>CHE_FCDV_1</th>\n",
       "      <th>CHE_BPDV_1</th>\n",
       "      <th>FLAMETST_1</th>\n",
       "      <th>FLAME_ON_1</th>\n",
       "      <th>C_HEALTH_1</th>\n",
       "      <th>ALARM_01_1</th>\n",
       "      <th>ALARM_02_1</th>\n",
       "      <th>ALARM_03_1</th>\n",
       "      <th>Unnamed: 11</th>\n",
       "    </tr>\n",
       "  </thead>\n",
       "  <tbody>\n",
       "    <tr>\n",
       "      <th>0</th>\n",
       "      <td>12:57:56 PM</td>\n",
       "      <td>9/10/2021</td>\n",
       "      <td>0.0</td>\n",
       "      <td>0</td>\n",
       "      <td>-1</td>\n",
       "      <td>6.4</td>\n",
       "      <td>No</td>\n",
       "      <td>93.4</td>\n",
       "      <td></td>\n",
       "      <td></td>\n",
       "      <td></td>\n",
       "      <td>NaN</td>\n",
       "    </tr>\n",
       "    <tr>\n",
       "      <th>1</th>\n",
       "      <td>12:57:57 PM</td>\n",
       "      <td>9/10/2021</td>\n",
       "      <td>0.0</td>\n",
       "      <td>0</td>\n",
       "      <td>-1</td>\n",
       "      <td>6.4</td>\n",
       "      <td>No</td>\n",
       "      <td>93.4</td>\n",
       "      <td></td>\n",
       "      <td></td>\n",
       "      <td></td>\n",
       "      <td>NaN</td>\n",
       "    </tr>\n",
       "    <tr>\n",
       "      <th>2</th>\n",
       "      <td>12:57:58 PM</td>\n",
       "      <td>9/10/2021</td>\n",
       "      <td>0.0</td>\n",
       "      <td>0</td>\n",
       "      <td>-1</td>\n",
       "      <td>6.4</td>\n",
       "      <td>No</td>\n",
       "      <td>93.4</td>\n",
       "      <td></td>\n",
       "      <td></td>\n",
       "      <td></td>\n",
       "      <td>NaN</td>\n",
       "    </tr>\n",
       "    <tr>\n",
       "      <th>3</th>\n",
       "      <td>12:57:59 PM</td>\n",
       "      <td>9/10/2021</td>\n",
       "      <td>---</td>\n",
       "      <td>---</td>\n",
       "      <td>---</td>\n",
       "      <td>---</td>\n",
       "      <td>---</td>\n",
       "      <td>---</td>\n",
       "      <td>---</td>\n",
       "      <td>---</td>\n",
       "      <td>---</td>\n",
       "      <td>NaN</td>\n",
       "    </tr>\n",
       "    <tr>\n",
       "      <th>4</th>\n",
       "      <td>12:58:00 PM</td>\n",
       "      <td>9/10/2021</td>\n",
       "      <td>0.0</td>\n",
       "      <td>0</td>\n",
       "      <td>-1</td>\n",
       "      <td>6.4</td>\n",
       "      <td>No</td>\n",
       "      <td>93.4</td>\n",
       "      <td></td>\n",
       "      <td></td>\n",
       "      <td></td>\n",
       "      <td>NaN</td>\n",
       "    </tr>\n",
       "  </tbody>\n",
       "</table>\n",
       "</div>"
      ],
      "text/plain": [
       "          Time       Date BLOWRPWM_1 CHE_FCDV_1 CHE_BPDV_1 FLAMETST_1  \\\n",
       "0  12:57:56 PM  9/10/2021        0.0          0         -1        6.4   \n",
       "1  12:57:57 PM  9/10/2021        0.0          0         -1        6.4   \n",
       "2  12:57:58 PM  9/10/2021        0.0          0         -1        6.4   \n",
       "3  12:57:59 PM  9/10/2021        ---        ---        ---        ---   \n",
       "4  12:58:00 PM  9/10/2021        0.0          0         -1        6.4   \n",
       "\n",
       "  FLAME_ON_1 C_HEALTH_1                                        ALARM_01_1  \\\n",
       "0         No       93.4                                                     \n",
       "1         No       93.4                                                     \n",
       "2         No       93.4                                                     \n",
       "3        ---        ---                                               ---   \n",
       "4         No       93.4                                                     \n",
       "\n",
       "                                         ALARM_02_1  \\\n",
       "0                                                     \n",
       "1                                                     \n",
       "2                                                     \n",
       "3                                               ---   \n",
       "4                                                     \n",
       "\n",
       "                                         ALARM_03_1  Unnamed: 11  \n",
       "0                                                            NaN  \n",
       "1                                                            NaN  \n",
       "2                                                            NaN  \n",
       "3                                               ---          NaN  \n",
       "4                                                            NaN  "
      ]
     },
     "execution_count": 3,
     "metadata": {},
     "output_type": "execute_result"
    }
   ],
   "source": [
    "#readong first 5 rows of \"NL I09\"\n",
    "df1.head()"
   ]
  },
  {
   "cell_type": "code",
   "execution_count": 4,
   "id": "c6a0bfbc",
   "metadata": {
    "scrolled": false
   },
   "outputs": [
    {
     "name": "stdout",
     "output_type": "stream",
     "text": [
      "<class 'pandas.core.frame.DataFrame'>\n",
      "Int64Index: 383286 entries, 0 to 31937\n",
      "Data columns (total 12 columns):\n",
      " #   Column       Non-Null Count   Dtype  \n",
      "---  ------       --------------   -----  \n",
      " 0   Time         383286 non-null  object \n",
      " 1   Date         383286 non-null  object \n",
      " 2   BLOWRPWM_1   383286 non-null  object \n",
      " 3   CHE_FCDV_1   383286 non-null  object \n",
      " 4   CHE_BPDV_1   383286 non-null  object \n",
      " 5   FLAMETST_1   383286 non-null  object \n",
      " 6   FLAME_ON_1   383286 non-null  object \n",
      " 7   C_HEALTH_1   383286 non-null  object \n",
      " 8   ALARM_01_1   383285 non-null  object \n",
      " 9   ALARM_02_1   383286 non-null  object \n",
      " 10  ALARM_03_1   383286 non-null  object \n",
      " 11  Unnamed: 11  0 non-null       float64\n",
      "dtypes: float64(1), object(11)\n",
      "memory usage: 38.0+ MB\n"
     ]
    }
   ],
   "source": [
    "# looking at null values and data types of each column for \"NL I09\"\n",
    "df1.info()"
   ]
  },
  {
   "cell_type": "code",
   "execution_count": 5,
   "id": "e1082700",
   "metadata": {},
   "outputs": [
    {
     "data": {
      "text/plain": [
       "Index(['Time', 'Date', 'BLOWRPWM_1', 'CHE_FCDV_1', 'CHE_BPDV_1', 'FLAMETST_1',\n",
       "       'FLAME_ON_1', 'C_HEALTH_1', 'ALARM_01_1', 'ALARM_02_1', 'ALARM_03_1',\n",
       "       'Unnamed: 11'],\n",
       "      dtype='object')"
      ]
     },
     "execution_count": 5,
     "metadata": {},
     "output_type": "execute_result"
    }
   ],
   "source": [
    "df1.columns"
   ]
  },
  {
   "cell_type": "code",
   "execution_count": 6,
   "id": "982ce1d8",
   "metadata": {},
   "outputs": [],
   "source": [
    "df1['date_time'] = df1['Time'] + ' ' + df1['Date']"
   ]
  },
  {
   "cell_type": "code",
   "execution_count": 7,
   "id": "9977b745",
   "metadata": {},
   "outputs": [
    {
     "name": "stdout",
     "output_type": "stream",
     "text": [
      "<class 'pandas.core.frame.DataFrame'>\n",
      "Int64Index: 383286 entries, 0 to 31937\n",
      "Data columns (total 13 columns):\n",
      " #   Column       Non-Null Count   Dtype  \n",
      "---  ------       --------------   -----  \n",
      " 0   Time         383286 non-null  object \n",
      " 1   Date         383286 non-null  object \n",
      " 2   BLOWRPWM_1   383286 non-null  object \n",
      " 3   CHE_FCDV_1   383286 non-null  object \n",
      " 4   CHE_BPDV_1   383286 non-null  object \n",
      " 5   FLAMETST_1   383286 non-null  object \n",
      " 6   FLAME_ON_1   383286 non-null  object \n",
      " 7   C_HEALTH_1   383286 non-null  object \n",
      " 8   ALARM_01_1   383285 non-null  object \n",
      " 9   ALARM_02_1   383286 non-null  object \n",
      " 10  ALARM_03_1   383286 non-null  object \n",
      " 11  Unnamed: 11  0 non-null       float64\n",
      " 12  date_time    383286 non-null  object \n",
      "dtypes: float64(1), object(12)\n",
      "memory usage: 40.9+ MB\n"
     ]
    }
   ],
   "source": [
    "df1.info()"
   ]
  },
  {
   "cell_type": "code",
   "execution_count": 8,
   "id": "b0916e1e",
   "metadata": {},
   "outputs": [
    {
     "data": {
      "text/html": [
       "<div>\n",
       "<style scoped>\n",
       "    .dataframe tbody tr th:only-of-type {\n",
       "        vertical-align: middle;\n",
       "    }\n",
       "\n",
       "    .dataframe tbody tr th {\n",
       "        vertical-align: top;\n",
       "    }\n",
       "\n",
       "    .dataframe thead th {\n",
       "        text-align: right;\n",
       "    }\n",
       "</style>\n",
       "<table border=\"1\" class=\"dataframe\">\n",
       "  <thead>\n",
       "    <tr style=\"text-align: right;\">\n",
       "      <th></th>\n",
       "      <th>Time</th>\n",
       "      <th>Date</th>\n",
       "      <th>BLOWRPWM_1</th>\n",
       "      <th>CHE_FCDV_1</th>\n",
       "      <th>CHE_BPDV_1</th>\n",
       "      <th>FLAMETST_1</th>\n",
       "      <th>FLAME_ON_1</th>\n",
       "      <th>C_HEALTH_1</th>\n",
       "      <th>ALARM_01_1</th>\n",
       "      <th>ALARM_02_1</th>\n",
       "      <th>ALARM_03_1</th>\n",
       "      <th>Unnamed: 11</th>\n",
       "      <th>date_time</th>\n",
       "    </tr>\n",
       "  </thead>\n",
       "  <tbody>\n",
       "    <tr>\n",
       "      <th>0</th>\n",
       "      <td>12:57:56 PM</td>\n",
       "      <td>9/10/2021</td>\n",
       "      <td>0.0</td>\n",
       "      <td>0</td>\n",
       "      <td>-1</td>\n",
       "      <td>6.4</td>\n",
       "      <td>No</td>\n",
       "      <td>93.4</td>\n",
       "      <td></td>\n",
       "      <td></td>\n",
       "      <td></td>\n",
       "      <td>NaN</td>\n",
       "      <td>12:57:56 PM 9/10/2021</td>\n",
       "    </tr>\n",
       "    <tr>\n",
       "      <th>1</th>\n",
       "      <td>12:57:57 PM</td>\n",
       "      <td>9/10/2021</td>\n",
       "      <td>0.0</td>\n",
       "      <td>0</td>\n",
       "      <td>-1</td>\n",
       "      <td>6.4</td>\n",
       "      <td>No</td>\n",
       "      <td>93.4</td>\n",
       "      <td></td>\n",
       "      <td></td>\n",
       "      <td></td>\n",
       "      <td>NaN</td>\n",
       "      <td>12:57:57 PM 9/10/2021</td>\n",
       "    </tr>\n",
       "    <tr>\n",
       "      <th>2</th>\n",
       "      <td>12:57:58 PM</td>\n",
       "      <td>9/10/2021</td>\n",
       "      <td>0.0</td>\n",
       "      <td>0</td>\n",
       "      <td>-1</td>\n",
       "      <td>6.4</td>\n",
       "      <td>No</td>\n",
       "      <td>93.4</td>\n",
       "      <td></td>\n",
       "      <td></td>\n",
       "      <td></td>\n",
       "      <td>NaN</td>\n",
       "      <td>12:57:58 PM 9/10/2021</td>\n",
       "    </tr>\n",
       "    <tr>\n",
       "      <th>3</th>\n",
       "      <td>12:57:59 PM</td>\n",
       "      <td>9/10/2021</td>\n",
       "      <td>---</td>\n",
       "      <td>---</td>\n",
       "      <td>---</td>\n",
       "      <td>---</td>\n",
       "      <td>---</td>\n",
       "      <td>---</td>\n",
       "      <td>---</td>\n",
       "      <td>---</td>\n",
       "      <td>---</td>\n",
       "      <td>NaN</td>\n",
       "      <td>12:57:59 PM 9/10/2021</td>\n",
       "    </tr>\n",
       "    <tr>\n",
       "      <th>4</th>\n",
       "      <td>12:58:00 PM</td>\n",
       "      <td>9/10/2021</td>\n",
       "      <td>0.0</td>\n",
       "      <td>0</td>\n",
       "      <td>-1</td>\n",
       "      <td>6.4</td>\n",
       "      <td>No</td>\n",
       "      <td>93.4</td>\n",
       "      <td></td>\n",
       "      <td></td>\n",
       "      <td></td>\n",
       "      <td>NaN</td>\n",
       "      <td>12:58:00 PM 9/10/2021</td>\n",
       "    </tr>\n",
       "  </tbody>\n",
       "</table>\n",
       "</div>"
      ],
      "text/plain": [
       "          Time       Date BLOWRPWM_1 CHE_FCDV_1 CHE_BPDV_1 FLAMETST_1  \\\n",
       "0  12:57:56 PM  9/10/2021        0.0          0         -1        6.4   \n",
       "1  12:57:57 PM  9/10/2021        0.0          0         -1        6.4   \n",
       "2  12:57:58 PM  9/10/2021        0.0          0         -1        6.4   \n",
       "3  12:57:59 PM  9/10/2021        ---        ---        ---        ---   \n",
       "4  12:58:00 PM  9/10/2021        0.0          0         -1        6.4   \n",
       "\n",
       "  FLAME_ON_1 C_HEALTH_1                                        ALARM_01_1  \\\n",
       "0         No       93.4                                                     \n",
       "1         No       93.4                                                     \n",
       "2         No       93.4                                                     \n",
       "3        ---        ---                                               ---   \n",
       "4         No       93.4                                                     \n",
       "\n",
       "                                         ALARM_02_1  \\\n",
       "0                                                     \n",
       "1                                                     \n",
       "2                                                     \n",
       "3                                               ---   \n",
       "4                                                     \n",
       "\n",
       "                                         ALARM_03_1  Unnamed: 11  \\\n",
       "0                                                            NaN   \n",
       "1                                                            NaN   \n",
       "2                                                            NaN   \n",
       "3                                               ---          NaN   \n",
       "4                                                            NaN   \n",
       "\n",
       "               date_time  \n",
       "0  12:57:56 PM 9/10/2021  \n",
       "1  12:57:57 PM 9/10/2021  \n",
       "2  12:57:58 PM 9/10/2021  \n",
       "3  12:57:59 PM 9/10/2021  \n",
       "4  12:58:00 PM 9/10/2021  "
      ]
     },
     "execution_count": 8,
     "metadata": {},
     "output_type": "execute_result"
    }
   ],
   "source": [
    "df1.head()"
   ]
  },
  {
   "cell_type": "code",
   "execution_count": 9,
   "id": "f20e45af",
   "metadata": {},
   "outputs": [
    {
     "name": "stdout",
     "output_type": "stream",
     "text": [
      "<class 'pandas.core.frame.DataFrame'>\n",
      "Int64Index: 383286 entries, 0 to 31937\n",
      "Data columns (total 10 columns):\n",
      " #   Column      Non-Null Count   Dtype \n",
      "---  ------      --------------   ----- \n",
      " 0   BLOWRPWM_1  383286 non-null  object\n",
      " 1   CHE_FCDV_1  383286 non-null  object\n",
      " 2   CHE_BPDV_1  383286 non-null  object\n",
      " 3   FLAMETST_1  383286 non-null  object\n",
      " 4   FLAME_ON_1  383286 non-null  object\n",
      " 5   C_HEALTH_1  383286 non-null  object\n",
      " 6   ALARM_01_1  383285 non-null  object\n",
      " 7   ALARM_02_1  383286 non-null  object\n",
      " 8   ALARM_03_1  383286 non-null  object\n",
      " 9   date_time   383286 non-null  object\n",
      "dtypes: object(10)\n",
      "memory usage: 32.2+ MB\n"
     ]
    }
   ],
   "source": [
    "df1 = df1.drop(['Time', 'Date', 'Unnamed: 11'], axis=1)\n",
    "df1.info()"
   ]
  },
  {
   "cell_type": "code",
   "execution_count": 10,
   "id": "fef55782",
   "metadata": {},
   "outputs": [],
   "source": [
    "#creating dataframe df1 of \"NL I09\"\n",
    "df2 =  pd.concat(map(pd.read_csv, glob.glob('data2/*.csv')))"
   ]
  },
  {
   "cell_type": "code",
   "execution_count": 11,
   "id": "b7065708",
   "metadata": {},
   "outputs": [
    {
     "data": {
      "text/html": [
       "<div>\n",
       "<style scoped>\n",
       "    .dataframe tbody tr th:only-of-type {\n",
       "        vertical-align: middle;\n",
       "    }\n",
       "\n",
       "    .dataframe tbody tr th {\n",
       "        vertical-align: top;\n",
       "    }\n",
       "\n",
       "    .dataframe thead th {\n",
       "        text-align: right;\n",
       "    }\n",
       "</style>\n",
       "<table border=\"1\" class=\"dataframe\">\n",
       "  <thead>\n",
       "    <tr style=\"text-align: right;\">\n",
       "      <th></th>\n",
       "      <th>Time</th>\n",
       "      <th>Date</th>\n",
       "      <th>ALARM_04_1</th>\n",
       "      <th>FLAMECUR_1</th>\n",
       "      <th>FANSPEED_1</th>\n",
       "      <th>VLVSTATE_1</th>\n",
       "      <th>GASVALVE_1</th>\n",
       "      <th>S3_EXPRS_1</th>\n",
       "      <th>S2_INPRS_1</th>\n",
       "      <th>S1_AIRFL_1</th>\n",
       "      <th>TANKTEMP_1</th>\n",
       "      <th>CHE_FIGN_1</th>\n",
       "      <th>CHE_BMIN_1</th>\n",
       "      <th>INLTTEMP_1</th>\n",
       "      <th>Unnamed: 14</th>\n",
       "    </tr>\n",
       "  </thead>\n",
       "  <tbody>\n",
       "    <tr>\n",
       "      <th>0</th>\n",
       "      <td>12:55:55 PM</td>\n",
       "      <td>9/10/2021</td>\n",
       "      <td></td>\n",
       "      <td>0.0</td>\n",
       "      <td>0</td>\n",
       "      <td>Standby</td>\n",
       "      <td>Closed</td>\n",
       "      <td>Closed</td>\n",
       "      <td>Closed</td>\n",
       "      <td>Open</td>\n",
       "      <td>177.9</td>\n",
       "      <td>3230</td>\n",
       "      <td>64151</td>\n",
       "      <td>78.1</td>\n",
       "      <td>NaN</td>\n",
       "    </tr>\n",
       "    <tr>\n",
       "      <th>1</th>\n",
       "      <td>12:55:56 PM</td>\n",
       "      <td>9/10/2021</td>\n",
       "      <td></td>\n",
       "      <td>0.0</td>\n",
       "      <td>0</td>\n",
       "      <td>Standby</td>\n",
       "      <td>Closed</td>\n",
       "      <td>Closed</td>\n",
       "      <td>Closed</td>\n",
       "      <td>Open</td>\n",
       "      <td>177.9</td>\n",
       "      <td>3230</td>\n",
       "      <td>64151</td>\n",
       "      <td>78.1</td>\n",
       "      <td>NaN</td>\n",
       "    </tr>\n",
       "    <tr>\n",
       "      <th>2</th>\n",
       "      <td>12:55:57 PM</td>\n",
       "      <td>9/10/2021</td>\n",
       "      <td></td>\n",
       "      <td>0.0</td>\n",
       "      <td>0</td>\n",
       "      <td>Standby</td>\n",
       "      <td>Closed</td>\n",
       "      <td>Closed</td>\n",
       "      <td>Closed</td>\n",
       "      <td>Open</td>\n",
       "      <td>177.9</td>\n",
       "      <td>3230</td>\n",
       "      <td>64151</td>\n",
       "      <td>78.1</td>\n",
       "      <td>NaN</td>\n",
       "    </tr>\n",
       "    <tr>\n",
       "      <th>3</th>\n",
       "      <td>12:55:58 PM</td>\n",
       "      <td>9/10/2021</td>\n",
       "      <td></td>\n",
       "      <td>0.0</td>\n",
       "      <td>0</td>\n",
       "      <td>Standby</td>\n",
       "      <td>Closed</td>\n",
       "      <td>Closed</td>\n",
       "      <td>Closed</td>\n",
       "      <td>Open</td>\n",
       "      <td>177.9</td>\n",
       "      <td>3230</td>\n",
       "      <td>64151</td>\n",
       "      <td>78.2</td>\n",
       "      <td>NaN</td>\n",
       "    </tr>\n",
       "    <tr>\n",
       "      <th>4</th>\n",
       "      <td>12:55:59 PM</td>\n",
       "      <td>9/10/2021</td>\n",
       "      <td></td>\n",
       "      <td>0.0</td>\n",
       "      <td>0</td>\n",
       "      <td>Standby</td>\n",
       "      <td>Closed</td>\n",
       "      <td>Closed</td>\n",
       "      <td>Closed</td>\n",
       "      <td>Open</td>\n",
       "      <td>177.9</td>\n",
       "      <td>3230</td>\n",
       "      <td>64151</td>\n",
       "      <td>78.2</td>\n",
       "      <td>NaN</td>\n",
       "    </tr>\n",
       "  </tbody>\n",
       "</table>\n",
       "</div>"
      ],
      "text/plain": [
       "          Time       Date                                        ALARM_04_1  \\\n",
       "0  12:55:55 PM  9/10/2021                                                     \n",
       "1  12:55:56 PM  9/10/2021                                                     \n",
       "2  12:55:57 PM  9/10/2021                                                     \n",
       "3  12:55:58 PM  9/10/2021                                                     \n",
       "4  12:55:59 PM  9/10/2021                                                     \n",
       "\n",
       "  FLAMECUR_1 FANSPEED_1 VLVSTATE_1 GASVALVE_1 S3_EXPRS_1 S2_INPRS_1  \\\n",
       "0        0.0          0    Standby     Closed     Closed     Closed   \n",
       "1        0.0          0    Standby     Closed     Closed     Closed   \n",
       "2        0.0          0    Standby     Closed     Closed     Closed   \n",
       "3        0.0          0    Standby     Closed     Closed     Closed   \n",
       "4        0.0          0    Standby     Closed     Closed     Closed   \n",
       "\n",
       "  S1_AIRFL_1 TANKTEMP_1 CHE_FIGN_1 CHE_BMIN_1 INLTTEMP_1  Unnamed: 14  \n",
       "0       Open      177.9       3230      64151       78.1          NaN  \n",
       "1       Open      177.9       3230      64151       78.1          NaN  \n",
       "2       Open      177.9       3230      64151       78.1          NaN  \n",
       "3       Open      177.9       3230      64151       78.2          NaN  \n",
       "4       Open      177.9       3230      64151       78.2          NaN  "
      ]
     },
     "execution_count": 11,
     "metadata": {},
     "output_type": "execute_result"
    }
   ],
   "source": [
    "df2.head()"
   ]
  },
  {
   "cell_type": "code",
   "execution_count": 12,
   "id": "3f840414",
   "metadata": {},
   "outputs": [
    {
     "name": "stdout",
     "output_type": "stream",
     "text": [
      "<class 'pandas.core.frame.DataFrame'>\n",
      "Int64Index: 383636 entries, 0 to 31937\n",
      "Data columns (total 15 columns):\n",
      " #   Column       Non-Null Count   Dtype  \n",
      "---  ------       --------------   -----  \n",
      " 0   Time         383636 non-null  object \n",
      " 1   Date         383636 non-null  object \n",
      " 2   ALARM_04_1   383636 non-null  object \n",
      " 3   FLAMECUR_1   383636 non-null  object \n",
      " 4   FANSPEED_1   383636 non-null  object \n",
      " 5   VLVSTATE_1   383636 non-null  object \n",
      " 6   GASVALVE_1   383636 non-null  object \n",
      " 7   S3_EXPRS_1   383636 non-null  object \n",
      " 8   S2_INPRS_1   383636 non-null  object \n",
      " 9   S1_AIRFL_1   383636 non-null  object \n",
      " 10  TANKTEMP_1   383636 non-null  object \n",
      " 11  CHE_FIGN_1   383636 non-null  object \n",
      " 12  CHE_BMIN_1   383636 non-null  object \n",
      " 13  INLTTEMP_1   383636 non-null  object \n",
      " 14  Unnamed: 14  0 non-null       float64\n",
      "dtypes: float64(1), object(14)\n",
      "memory usage: 46.8+ MB\n"
     ]
    }
   ],
   "source": [
    "df2.info()"
   ]
  },
  {
   "cell_type": "code",
   "execution_count": 13,
   "id": "de0551c1",
   "metadata": {},
   "outputs": [],
   "source": [
    "df2['date_time'] = df2['Time'] + ' ' + df2['Date']"
   ]
  },
  {
   "cell_type": "code",
   "execution_count": 14,
   "id": "001812d7",
   "metadata": {},
   "outputs": [
    {
     "name": "stdout",
     "output_type": "stream",
     "text": [
      "<class 'pandas.core.frame.DataFrame'>\n",
      "Int64Index: 383636 entries, 0 to 31937\n",
      "Data columns (total 13 columns):\n",
      " #   Column      Non-Null Count   Dtype \n",
      "---  ------      --------------   ----- \n",
      " 0   ALARM_04_1  383636 non-null  object\n",
      " 1   FLAMECUR_1  383636 non-null  object\n",
      " 2   FANSPEED_1  383636 non-null  object\n",
      " 3   VLVSTATE_1  383636 non-null  object\n",
      " 4   GASVALVE_1  383636 non-null  object\n",
      " 5   S3_EXPRS_1  383636 non-null  object\n",
      " 6   S2_INPRS_1  383636 non-null  object\n",
      " 7   S1_AIRFL_1  383636 non-null  object\n",
      " 8   TANKTEMP_1  383636 non-null  object\n",
      " 9   CHE_FIGN_1  383636 non-null  object\n",
      " 10  CHE_BMIN_1  383636 non-null  object\n",
      " 11  INLTTEMP_1  383636 non-null  object\n",
      " 12  date_time   383636 non-null  object\n",
      "dtypes: object(13)\n",
      "memory usage: 41.0+ MB\n"
     ]
    }
   ],
   "source": [
    "df2 = df2.drop(['Time', 'Date', 'Unnamed: 14'], axis=1)\n",
    "df2.info()"
   ]
  },
  {
   "cell_type": "code",
   "execution_count": null,
   "id": "3667e2eb",
   "metadata": {},
   "outputs": [],
   "source": [
    "# first combine time and date and then merge on date/time"
   ]
  },
  {
   "cell_type": "code",
   "execution_count": 15,
   "id": "798ecae5",
   "metadata": {},
   "outputs": [
    {
     "name": "stdout",
     "output_type": "stream",
     "text": [
      "<class 'pandas.core.frame.DataFrame'>\n",
      "Int64Index: 383286 entries, 0 to 383285\n",
      "Data columns (total 22 columns):\n",
      " #   Column      Non-Null Count   Dtype \n",
      "---  ------      --------------   ----- \n",
      " 0   BLOWRPWM_1  383286 non-null  object\n",
      " 1   CHE_FCDV_1  383286 non-null  object\n",
      " 2   CHE_BPDV_1  383286 non-null  object\n",
      " 3   FLAMETST_1  383286 non-null  object\n",
      " 4   FLAME_ON_1  383286 non-null  object\n",
      " 5   C_HEALTH_1  383286 non-null  object\n",
      " 6   ALARM_01_1  383285 non-null  object\n",
      " 7   ALARM_02_1  383286 non-null  object\n",
      " 8   ALARM_03_1  383286 non-null  object\n",
      " 9   date_time   383286 non-null  object\n",
      " 10  ALARM_04_1  383286 non-null  object\n",
      " 11  FLAMECUR_1  383286 non-null  object\n",
      " 12  FANSPEED_1  383286 non-null  object\n",
      " 13  VLVSTATE_1  383286 non-null  object\n",
      " 14  GASVALVE_1  383286 non-null  object\n",
      " 15  S3_EXPRS_1  383286 non-null  object\n",
      " 16  S2_INPRS_1  383286 non-null  object\n",
      " 17  S1_AIRFL_1  383286 non-null  object\n",
      " 18  TANKTEMP_1  383286 non-null  object\n",
      " 19  CHE_FIGN_1  383286 non-null  object\n",
      " 20  CHE_BMIN_1  383286 non-null  object\n",
      " 21  INLTTEMP_1  383286 non-null  object\n",
      "dtypes: object(22)\n",
      "memory usage: 67.3+ MB\n"
     ]
    }
   ],
   "source": [
    "df3 = df1.merge(df2, on='date_time', how='inner')\n",
    "df3.info()"
   ]
  },
  {
   "cell_type": "code",
   "execution_count": null,
   "id": "ae40de38",
   "metadata": {},
   "outputs": [],
   "source": [
    "#df_final = df3.drop(['Unnamed: 11', 'Unnamed: 14', 'Date_x', 'Date_y'], axis=1)\n",
    "#df_final.info()"
   ]
  },
  {
   "cell_type": "code",
   "execution_count": 16,
   "id": "62701aa6",
   "metadata": {},
   "outputs": [],
   "source": [
    "df_final = df3"
   ]
  },
  {
   "cell_type": "code",
   "execution_count": 17,
   "id": "538b5677",
   "metadata": {},
   "outputs": [
    {
     "data": {
      "text/plain": [
       "---     175166\n",
       "0.0      88073\n",
       "68.0     40346\n",
       "0.0      29743\n",
       "68.0     13631\n",
       "         ...  \n",
       "23.5        15\n",
       "61.5        11\n",
       "24.5        11\n",
       "25.5        10\n",
       "20.0        10\n",
       "Name: BLOWRPWM_1, Length: 195, dtype: int64"
      ]
     },
     "execution_count": 17,
     "metadata": {},
     "output_type": "execute_result"
    }
   ],
   "source": [
    "df_final['BLOWRPWM_1'].value_counts()"
   ]
  },
  {
   "cell_type": "code",
   "execution_count": 18,
   "id": "19837bfd",
   "metadata": {},
   "outputs": [
    {
     "data": {
      "text/plain": [
       "array(['0.0', '---', '26.0', '34.0', '23.0', '26.5', '27.5', '28.0',\n",
       "       '40.0', '51.0', '62.0', '67.0', '68.0', '68.5', '67.5', '65.0',\n",
       "       '59.5', '56.5', '53.5', '49.5', '45.5', '42.5', '39.0', '37.0',\n",
       "       '35.0', '32.0', '29.0', '24.0', '31.0', '25.0', '30.0', '48.0',\n",
       "       '60.0', '66.5', '61.5', '58.5', '55.0', '52.0', '46.0', '40.5',\n",
       "       '36.5', '28.5', '27.0', '22.5', '39.5', '50.5', '62.5', '63.0',\n",
       "       '57.0', '46.5', '43.5', '41.0', '38.5', '35.5', '33.0', '21.0',\n",
       "       '42.0', '53.0', '64.0', '63.5', '56.0', '52.5', '47.0', '44.0',\n",
       "       '34.5', '32.5', '61.0', '57.5', '54.5', '51.5', '64.5', '48.5',\n",
       "       '45.0', '43.0', '36.0', '29.5', '47.5', '66.0', '60.5', '38.0',\n",
       "       '59.0', '55.5', '22.0', '23.5', '58.0', '54.0', '65.5', '50.0',\n",
       "       '37.5', '25.5', '44.5', '31.5', '24.5', '41.5', '30.5', '20.0',\n",
       "       '33.5', '49.0', 0.0, 20.0, 28.0, 29.0, 24.0, 27.5, 33.0, 45.0,\n",
       "       56.0, 64.0, 67.5, 68.0, 68.5, 66.5, 62.5, 60.5, 57.0, 53.5, 49.5,\n",
       "       46.5, 43.5, 41.0, 38.0, 35.5, 30.5, 28.5, 27.0, 23.0, 26.5, 40.0,\n",
       "       52.0, 67.0, 66.0, 63.0, 59.0, 57.5, 55.0, 51.5, 47.5, 44.5, 42.0,\n",
       "       39.5, 36.5, 33.5, 30.0, 26.0, 25.0, 36.0, 47.0, 58.0, 65.5, 48.5,\n",
       "       45.5, 42.5, 37.5, 34.0, 31.5, 39.0, 50.0, 62.0, 61.5, 43.0, 35.0,\n",
       "       32.0, 49.0, 61.0, 58.5, 54.5, 41.5, 38.5, 32.5, 37.0, 60.0, 63.5,\n",
       "       52.5, 21.0, 46.0, 29.5, 22.0, 51.0, 65.0, 53.0, 34.5, 31.0, 22.5,\n",
       "       44.0, 59.5, 54.0, 48.0, 24.5, 64.5, 55.5, 56.5, 40.5, 50.5, 25.5,\n",
       "       23.5], dtype=object)"
      ]
     },
     "execution_count": 18,
     "metadata": {},
     "output_type": "execute_result"
    }
   ],
   "source": [
    "df_final['BLOWRPWM_1'].unique()"
   ]
  },
  {
   "cell_type": "code",
   "execution_count": 19,
   "id": "970ef859",
   "metadata": {},
   "outputs": [],
   "source": [
    "df_final.drop(df_final[df_final['BLOWRPWM_1']=='---'].index, inplace = True)"
   ]
  },
  {
   "cell_type": "code",
   "execution_count": 20,
   "id": "b4a1927e",
   "metadata": {},
   "outputs": [],
   "source": [
    "#what about dash and other values ?\n",
    "# remove dashes\n",
    "# combine any string and numbers\n",
    "# these are percentages\n",
    "# higher number means faster speed of the fan"
   ]
  },
  {
   "cell_type": "code",
   "execution_count": 44,
   "id": "72e59ffe",
   "metadata": {},
   "outputs": [],
   "source": [
    "df_final['BLOWRPWM_1'] = df_final['BLOWRPWM_1'].astype(float)"
   ]
  },
  {
   "cell_type": "code",
   "execution_count": 45,
   "id": "4d47836c",
   "metadata": {},
   "outputs": [
    {
     "data": {
      "text/plain": [
       "dtype('float64')"
      ]
     },
     "execution_count": 45,
     "metadata": {},
     "output_type": "execute_result"
    }
   ],
   "source": [
    "df_final['BLOWRPWM_1'].dtype"
   ]
  },
  {
   "cell_type": "code",
   "execution_count": 46,
   "id": "7ce5a27a",
   "metadata": {},
   "outputs": [
    {
     "data": {
      "text/plain": [
       "0     207663\n",
       "54       457\n",
       "Name: CHE_FCDV_1, dtype: int64"
      ]
     },
     "execution_count": 46,
     "metadata": {},
     "output_type": "execute_result"
    }
   ],
   "source": [
    "df_final['CHE_FCDV_1'].value_counts()"
   ]
  },
  {
   "cell_type": "code",
   "execution_count": 47,
   "id": "2679eb51",
   "metadata": {},
   "outputs": [
    {
     "data": {
      "text/plain": [
       "array([ 0, 54], dtype=int64)"
      ]
     },
     "execution_count": 47,
     "metadata": {},
     "output_type": "execute_result"
    }
   ],
   "source": [
    "df_final['CHE_FCDV_1'].unique()"
   ]
  },
  {
   "cell_type": "code",
   "execution_count": 48,
   "id": "70f4a360",
   "metadata": {},
   "outputs": [
    {
     "data": {
      "text/plain": [
       "dtype('int64')"
      ]
     },
     "execution_count": 48,
     "metadata": {},
     "output_type": "execute_result"
    }
   ],
   "source": [
    "df_final['CHE_FCDV_1'].dtype"
   ]
  },
  {
   "cell_type": "code",
   "execution_count": 23,
   "id": "6c0c9703",
   "metadata": {},
   "outputs": [],
   "source": [
    "# to change labels of \"CHE_FCDV_1\"\n",
    "\n",
    "CHE_FCDV_1_dict = {\n",
    "    '0': 0,\n",
    "    0: 0,\n",
    "    '54': 54\n",
    "}\n",
    "\n",
    "df_final[\"CHE_FCDV_1\"] = df_final[\"CHE_FCDV_1\"].map(CHE_FCDV_1_dict)"
   ]
  },
  {
   "cell_type": "code",
   "execution_count": null,
   "id": "d5946fa0",
   "metadata": {},
   "outputs": [],
   "source": [
    "#what about dash and other values ?\n",
    "# remove dashes\n",
    "# keep zero and 54 , keep betweem 0 and 100"
   ]
  },
  {
   "cell_type": "code",
   "execution_count": 24,
   "id": "c2a14fe5",
   "metadata": {},
   "outputs": [
    {
     "data": {
      "text/plain": [
       "-1    123822\n",
       "-1     43056\n",
       "0      31496\n",
       "0       9746\n",
       "Name: CHE_BPDV_1, dtype: int64"
      ]
     },
     "execution_count": 24,
     "metadata": {},
     "output_type": "execute_result"
    }
   ],
   "source": [
    "df_final['CHE_BPDV_1'].value_counts()"
   ]
  },
  {
   "cell_type": "code",
   "execution_count": 25,
   "id": "114f7fbb",
   "metadata": {},
   "outputs": [
    {
     "data": {
      "text/plain": [
       "array(['-1', '0', -1, 0], dtype=object)"
      ]
     },
     "execution_count": 25,
     "metadata": {},
     "output_type": "execute_result"
    }
   ],
   "source": [
    "df_final['CHE_BPDV_1'].unique()"
   ]
  },
  {
   "cell_type": "code",
   "execution_count": 26,
   "id": "fd3ceba8",
   "metadata": {},
   "outputs": [],
   "source": [
    "# to change labels of \"CHE_BPDV_1\"\n",
    "\n",
    "CHE_BPDV_1_dict = {\n",
    "    '-1': -1,\n",
    "    -1: -1,\n",
    "    0: 0,\n",
    "    '0': 0\n",
    "}\n",
    "\n",
    "df_final[\"CHE_BPDV_1\"] = df_final[\"CHE_BPDV_1\"].map(CHE_BPDV_1_dict)"
   ]
  },
  {
   "cell_type": "code",
   "execution_count": 27,
   "id": "4b359139",
   "metadata": {},
   "outputs": [],
   "source": [
    "#what about dash and other values ?\n",
    "# remove dashes\n",
    "# 0 and -1 percentages values\n",
    "# blower deviation"
   ]
  },
  {
   "cell_type": "code",
   "execution_count": 28,
   "id": "d08e4d4f",
   "metadata": {},
   "outputs": [
    {
     "data": {
      "text/plain": [
       "array([-1,  0], dtype=int64)"
      ]
     },
     "execution_count": 28,
     "metadata": {},
     "output_type": "execute_result"
    }
   ],
   "source": [
    "df_final['CHE_BPDV_1'].unique()"
   ]
  },
  {
   "cell_type": "code",
   "execution_count": 49,
   "id": "e5a0683a",
   "metadata": {},
   "outputs": [
    {
     "data": {
      "text/plain": [
       "dtype('int64')"
      ]
     },
     "execution_count": 49,
     "metadata": {},
     "output_type": "execute_result"
    }
   ],
   "source": [
    "df_final['CHE_BPDV_1'].dtype"
   ]
  },
  {
   "cell_type": "code",
   "execution_count": 30,
   "id": "ebd9ac1f",
   "metadata": {},
   "outputs": [
    {
     "data": {
      "text/plain": [
       "6.4    54849\n",
       "6.2    24698\n",
       "6.3    22049\n",
       "6.5    20116\n",
       "6.4    18444\n",
       "6.6    13810\n",
       "6.5    10692\n",
       "6.3     9370\n",
       "6.9     7496\n",
       "6.6     6025\n",
       "6.8     3307\n",
       "6.8     2775\n",
       "6.2     2446\n",
       "7.0     2140\n",
       "6.7     2068\n",
       "7.1     1109\n",
       "7.0     1095\n",
       "6.7     1068\n",
       "7.2     1043\n",
       "0.9      866\n",
       "1.8      450\n",
       "1.1      447\n",
       "3.1      447\n",
       "3.3      444\n",
       "1.0      440\n",
       "3.8      425\n",
       "0.0        1\n",
       "Name: FLAMETST_1, dtype: int64"
      ]
     },
     "execution_count": 30,
     "metadata": {},
     "output_type": "execute_result"
    }
   ],
   "source": [
    "df_final['FLAMETST_1'].value_counts()"
   ]
  },
  {
   "cell_type": "code",
   "execution_count": 31,
   "id": "98044010",
   "metadata": {},
   "outputs": [
    {
     "data": {
      "text/plain": [
       "array(['6.4', '6.5', '6.7', '6.9', '6.6', '3.8', '0.9', '6.2', '0.0',\n",
       "       '7.1', '6.3', '6.8', '3.3', '7.0', '1.1', '1.8', '7.2', 6.8, 6.2,\n",
       "       6.4, 6.3, 6.6, 6.5, 6.7, 7.0, 1.0, 3.1], dtype=object)"
      ]
     },
     "execution_count": 31,
     "metadata": {},
     "output_type": "execute_result"
    }
   ],
   "source": [
    "df_final['FLAMETST_1'].unique()"
   ]
  },
  {
   "cell_type": "code",
   "execution_count": 34,
   "id": "16e5d667",
   "metadata": {},
   "outputs": [],
   "source": [
    "df_final['FLAMETST_1'] = df_final['FLAMETST_1'].astype(float)"
   ]
  },
  {
   "cell_type": "code",
   "execution_count": 35,
   "id": "0f3494c4",
   "metadata": {},
   "outputs": [
    {
     "data": {
      "text/plain": [
       "dtype('float64')"
      ]
     },
     "execution_count": 35,
     "metadata": {},
     "output_type": "execute_result"
    }
   ],
   "source": [
    "df_final['FLAMETST_1'].dtype"
   ]
  },
  {
   "cell_type": "code",
   "execution_count": null,
   "id": "08460bfe",
   "metadata": {},
   "outputs": [],
   "source": [
    "#what about dash and other values ?\n",
    "# remove dashes\n",
    "# others are good between 0 and 10"
   ]
  },
  {
   "cell_type": "code",
   "execution_count": 50,
   "id": "a400b179",
   "metadata": {},
   "outputs": [
    {
     "data": {
      "text/plain": [
       "array([ 0.,  1., nan])"
      ]
     },
     "execution_count": 50,
     "metadata": {},
     "output_type": "execute_result"
    }
   ],
   "source": [
    "#FLAME_ON_1\n",
    "df_final['FLAME_ON_1'].unique()"
   ]
  },
  {
   "cell_type": "code",
   "execution_count": 37,
   "id": "a547fab6",
   "metadata": {},
   "outputs": [
    {
     "data": {
      "text/plain": [
       "No        125434\n",
       "Yes        82685\n",
       "Closed         1\n",
       "Name: FLAME_ON_1, dtype: int64"
      ]
     },
     "execution_count": 37,
     "metadata": {},
     "output_type": "execute_result"
    }
   ],
   "source": [
    "df_final['FLAME_ON_1'].value_counts()"
   ]
  },
  {
   "cell_type": "code",
   "execution_count": 38,
   "id": "fea0b795",
   "metadata": {},
   "outputs": [],
   "source": [
    "# to change labels of \"FLAME_ON_1\"\n",
    "\n",
    "FLAME_ON_1_dict = {\n",
    "    'No': 0,\n",
    "\n",
    "    'Yes': 1\n",
    "}\n",
    "\n",
    "df_final[\"FLAME_ON_1\"] = df_final[\"FLAME_ON_1\"].map(FLAME_ON_1_dict)"
   ]
  },
  {
   "cell_type": "code",
   "execution_count": 51,
   "id": "09b15119",
   "metadata": {},
   "outputs": [
    {
     "data": {
      "text/plain": [
       "0.0    125434\n",
       "1.0     82685\n",
       "Name: FLAME_ON_1, dtype: int64"
      ]
     },
     "execution_count": 51,
     "metadata": {},
     "output_type": "execute_result"
    }
   ],
   "source": [
    "df_final['FLAME_ON_1'].value_counts()"
   ]
  },
  {
   "cell_type": "code",
   "execution_count": null,
   "id": "da7a2cf2",
   "metadata": {},
   "outputs": [],
   "source": [
    "#what about dash and other values ?\n",
    "# remove dashes\n",
    "# yes is 1 and no is zero\n",
    "# drop close values"
   ]
  },
  {
   "cell_type": "code",
   "execution_count": 105,
   "id": "5e35987c",
   "metadata": {},
   "outputs": [
    {
     "data": {
      "text/plain": [
       "array([93.4, 94.1, 95.4, 94.6, 94. , 94.3, 94.9, 95.6, 93.5, 96.1, 92.8,\n",
       "       92. , 95.5, 93.6, 93.1, 92.9, 96. , 97.6, 96.8, 95.3,  0. , 96.4,\n",
       "       94.4, 94.8, 93. , 95. , 93.8, 96.3, 95.9, 96.6, 96.9, 97.4, 96.5,\n",
       "       98. , 81.1])"
      ]
     },
     "execution_count": 105,
     "metadata": {},
     "output_type": "execute_result"
    }
   ],
   "source": [
    "#C_HEALTH_1\n",
    "df_final['C_HEALTH_1'].unique()"
   ]
  },
  {
   "cell_type": "code",
   "execution_count": 104,
   "id": "a2f1c8df",
   "metadata": {},
   "outputs": [],
   "source": [
    "df_final['C_HEALTH_1'] = df_final['C_HEALTH_1'].astype(float)"
   ]
  },
  {
   "cell_type": "code",
   "execution_count": 106,
   "id": "f6981a57",
   "metadata": {},
   "outputs": [
    {
     "data": {
      "text/plain": [
       "94.6    27445\n",
       "95.4    25542\n",
       "95.9    15082\n",
       "96.0    14983\n",
       "95.3    13646\n",
       "93.5    10392\n",
       "96.1     9766\n",
       "94.1     9544\n",
       "94.8     8632\n",
       "95.5     8420\n",
       "96.6     7639\n",
       "94.0     6504\n",
       "96.3     6500\n",
       "96.9     6443\n",
       "93.4     5747\n",
       "95.6     5432\n",
       "94.9     4208\n",
       "95.0     3244\n",
       "94.3     3230\n",
       "94.4     2140\n",
       "96.8     2119\n",
       "92.0     2093\n",
       "92.8     2082\n",
       "97.4     1089\n",
       "98.0     1085\n",
       "93.0     1058\n",
       "93.6     1043\n",
       "96.5     1042\n",
       "96.4     1032\n",
       "81.1      457\n",
       "97.6      403\n",
       "93.8       39\n",
       "93.1       22\n",
       "92.9        9\n",
       "0.0         1\n",
       "Name: C_HEALTH_1, dtype: int64"
      ]
     },
     "execution_count": 106,
     "metadata": {},
     "output_type": "execute_result"
    }
   ],
   "source": [
    "df_final['C_HEALTH_1'].value_counts()"
   ]
  },
  {
   "cell_type": "code",
   "execution_count": null,
   "id": "12b9a251",
   "metadata": {},
   "outputs": [],
   "source": [
    "#what about dash and other values ?\n",
    "# remove dashes\n",
    "# 0 and 100 fine below 70 triger alarm but above 70 is good and no alarm"
   ]
  },
  {
   "cell_type": "code",
   "execution_count": 54,
   "id": "99d02f90",
   "metadata": {},
   "outputs": [
    {
     "data": {
      "text/plain": [
       "array(['                                                ',\n",
       "       'T114 Flame Rod Degraded and Needs Servicing     ', nan,\n",
       "       'T113 Flame Rod Degraded and Needs Servicing     '], dtype=object)"
      ]
     },
     "execution_count": 54,
     "metadata": {},
     "output_type": "execute_result"
    }
   ],
   "source": [
    "df_final['ALARM_01_1'].unique()"
   ]
  },
  {
   "cell_type": "code",
   "execution_count": null,
   "id": "a4f09045",
   "metadata": {},
   "outputs": [],
   "source": [
    "#what about dash and other values ?\n",
    "# remove dashes"
   ]
  },
  {
   "cell_type": "code",
   "execution_count": 55,
   "id": "f8d37a86",
   "metadata": {},
   "outputs": [],
   "source": [
    "# to change labels of \"ALARM_01\"\n",
    "\n",
    "ALARM_01_dict = {\n",
    "    'nan': 'nan',\n",
    "    '                                                ': \"no_alarm\",\n",
    "    'T113 Flame Rod Degraded and Needs Servicing     ': 'T113 Flame Rod Degraded and Needs Servicing',\n",
    "    'T114 Flame Rod Degraded and Needs Servicing     ': 'T114 Flame Rod Degraded and Needs Servicing',\n",
    "}\n",
    "\n",
    "df_final[\"ALARM_01_1\"] = df_final[\"ALARM_01_1\"].map(ALARM_01_dict)"
   ]
  },
  {
   "cell_type": "code",
   "execution_count": 57,
   "id": "0dfee9f7",
   "metadata": {},
   "outputs": [
    {
     "data": {
      "text/plain": [
       "no_alarm                                       205918\n",
       "T113 Flame Rod Degraded and Needs Servicing      1335\n",
       "T114 Flame Rod Degraded and Needs Servicing       866\n",
       "Name: ALARM_01_1, dtype: int64"
      ]
     },
     "execution_count": 57,
     "metadata": {},
     "output_type": "execute_result"
    }
   ],
   "source": [
    "df_final['ALARM_01_1'].value_counts()"
   ]
  },
  {
   "cell_type": "code",
   "execution_count": 58,
   "id": "b10e0331",
   "metadata": {},
   "outputs": [
    {
     "data": {
      "text/plain": [
       "array(['                                                ',\n",
       "       '\\x01\\x06Open  \\x07€'], dtype=object)"
      ]
     },
     "execution_count": 58,
     "metadata": {},
     "output_type": "execute_result"
    }
   ],
   "source": [
    "df_final['ALARM_02_1'].unique()"
   ]
  },
  {
   "cell_type": "code",
   "execution_count": 59,
   "id": "7d26f39d",
   "metadata": {},
   "outputs": [],
   "source": [
    "# to change labels of \"ALARM_02\"\n",
    "\n",
    "ALARM_02_dict = {\n",
    "    '                                                ': \"no_alarm\"\n",
    "}\n",
    "\n",
    "df_final[\"ALARM_02_1\"] = df_final[\"ALARM_02_1\"].map(ALARM_02_dict)"
   ]
  },
  {
   "cell_type": "code",
   "execution_count": 60,
   "id": "aa5f8eeb",
   "metadata": {},
   "outputs": [
    {
     "data": {
      "text/plain": [
       "no_alarm    208119\n",
       "Name: ALARM_02_1, dtype: int64"
      ]
     },
     "execution_count": 60,
     "metadata": {},
     "output_type": "execute_result"
    }
   ],
   "source": [
    "df_final['ALARM_02_1'].value_counts()"
   ]
  },
  {
   "cell_type": "code",
   "execution_count": null,
   "id": "3f081024",
   "metadata": {},
   "outputs": [],
   "source": [
    "# remove dashes\n",
    "# remove 4 values\n",
    "# empty means \"no alarm\""
   ]
  },
  {
   "cell_type": "code",
   "execution_count": null,
   "id": "54668b3c",
   "metadata": {},
   "outputs": [],
   "source": [
    "# flame on closed and test alarm 2 and 3 if values are in same row\n",
    "# if happen in same row then \n",
    "\n",
    "# what is huge data is coming before "
   ]
  },
  {
   "cell_type": "code",
   "execution_count": 61,
   "id": "42374e83",
   "metadata": {},
   "outputs": [
    {
     "data": {
      "text/plain": [
       "array(['                                                ', 'C333\\x07€'],\n",
       "      dtype=object)"
      ]
     },
     "execution_count": 61,
     "metadata": {},
     "output_type": "execute_result"
    }
   ],
   "source": [
    "df_final['ALARM_03_1'].unique()"
   ]
  },
  {
   "cell_type": "code",
   "execution_count": 62,
   "id": "3e884b6c",
   "metadata": {},
   "outputs": [],
   "source": [
    "# to change labels of \"ALARM_03\"\n",
    "\n",
    "ALARM_03_dict = {\n",
    "    '                                                ': \"no_alarm\"\n",
    "}\n",
    "\n",
    "df_final[\"ALARM_03_1\"] = df_final[\"ALARM_03_1\"].map(ALARM_03_dict)"
   ]
  },
  {
   "cell_type": "code",
   "execution_count": 63,
   "id": "953fafb6",
   "metadata": {},
   "outputs": [
    {
     "data": {
      "text/plain": [
       "no_alarm    208119\n",
       "Name: ALARM_03_1, dtype: int64"
      ]
     },
     "execution_count": 63,
     "metadata": {},
     "output_type": "execute_result"
    }
   ],
   "source": [
    "df_final['ALARM_03_1'].value_counts()"
   ]
  },
  {
   "cell_type": "code",
   "execution_count": 64,
   "id": "9133a6a1",
   "metadata": {},
   "outputs": [
    {
     "data": {
      "text/plain": [
       "array(['                                                ', '---'],\n",
       "      dtype=object)"
      ]
     },
     "execution_count": 64,
     "metadata": {},
     "output_type": "execute_result"
    }
   ],
   "source": [
    "df_final['ALARM_04_1'].unique()"
   ]
  },
  {
   "cell_type": "code",
   "execution_count": 65,
   "id": "73519333",
   "metadata": {},
   "outputs": [],
   "source": [
    "# to change labels of \"ALARM_04\"\n",
    "\n",
    "ALARM_04_dict = {\n",
    "    '                                                ': \"no_alarm\"\n",
    "}\n",
    "\n",
    "df_final[\"ALARM_04_1\"] = df_final[\"ALARM_04_1\"].map(ALARM_04_dict)"
   ]
  },
  {
   "cell_type": "code",
   "execution_count": 66,
   "id": "f5a2a2ca",
   "metadata": {},
   "outputs": [
    {
     "data": {
      "text/plain": [
       "no_alarm    208113\n",
       "Name: ALARM_04_1, dtype: int64"
      ]
     },
     "execution_count": 66,
     "metadata": {},
     "output_type": "execute_result"
    }
   ],
   "source": [
    "df_final['ALARM_04_1'].value_counts()"
   ]
  },
  {
   "cell_type": "code",
   "execution_count": 71,
   "id": "3cda68fa",
   "metadata": {},
   "outputs": [
    {
     "data": {
      "text/plain": [
       "array(['0.0', '4.1', '3.3', '4.8', '5.2', '5.4', '5.5', '5.6', '5.7',\n",
       "       '5.8', '5.9', '6.0', '6.2', '6.1', '6.4', '6.3', '2.9', '3.2',\n",
       "       '3.5', '4.4', '5.0', '5.3', '1.5', '4.0', '1.1', '2.5', '3.4',\n",
       "       '4.3', '6.5', '0.7', '3.6', '3.8', '3.7', '3.9', '3.1', '4.5',\n",
       "       '6.7', '1.0', '4.7', '0.4', '0.5', '0.9', '5.1', '0.3', '0.8',\n",
       "       '6.9', '6.6', '2.3', '2.7', '2.8', '0.6', '2.4', '4.6', '1.7',\n",
       "       '1.4', '4.9', '1.8', '3.0', '4.2', '2.2', '2.1', '1.2', '1.9',\n",
       "       '2.6', '1.3', '7.1', '1.6', '6.8', '7.0', '7.2', 5.7, 5.9, 5.6,\n",
       "       5.8, 6.0, 6.1, 6.2, 6.4, 6.3, 0.9, 0.0, 1.4, 3.8, 2.6, 2.4, 3.7,\n",
       "       4.7, 5.2, 5.4, 5.5, 6.5, 4.1, 3.0, 3.1, 4.0, 4.8, 0.4, 2.8, 3.2,\n",
       "       4.6, 5.1, 6.6, 0.6, 0.7, 1.0, 0.8, 2.5, 2.9, 3.4, 4.2, 0.5, 3.6,\n",
       "       5.3, 1.3, 4.5, 3.5, 4.4, 5.0, 2.7, 3.3, 2.0, 3.9, 4.3, 4.9, 1.7,\n",
       "       1.6, 1.5, 2.1, 6.8], dtype=object)"
      ]
     },
     "execution_count": 71,
     "metadata": {},
     "output_type": "execute_result"
    }
   ],
   "source": [
    "#FLAMECUR_1\n",
    "df_final['FLAMECUR_1'].unique()"
   ]
  },
  {
   "cell_type": "code",
   "execution_count": 70,
   "id": "52d9703c",
   "metadata": {},
   "outputs": [],
   "source": [
    "# keep any values and keep them for flames current and flame test\n",
    "df_final.drop(df_final[df_final['FLAMECUR_1']=='---'].index, inplace = True)"
   ]
  },
  {
   "cell_type": "code",
   "execution_count": 74,
   "id": "18e3fb1d",
   "metadata": {},
   "outputs": [
    {
     "data": {
      "text/plain": [
       "dtype('float64')"
      ]
     },
     "execution_count": 74,
     "metadata": {},
     "output_type": "execute_result"
    }
   ],
   "source": [
    "#FLAMECUR_1\n",
    "df_final['FLAMECUR_1'].dtype"
   ]
  },
  {
   "cell_type": "code",
   "execution_count": 73,
   "id": "1ce37b38",
   "metadata": {},
   "outputs": [],
   "source": [
    "df_final['FLAMECUR_1'] = df_final['FLAMECUR_1'].astype(float)"
   ]
  },
  {
   "cell_type": "code",
   "execution_count": null,
   "id": "08a38fc8",
   "metadata": {},
   "outputs": [],
   "source": [
    "# remove dashes for all\n",
    "# between zero and 10"
   ]
  },
  {
   "cell_type": "code",
   "execution_count": 75,
   "id": "1c153a65",
   "metadata": {},
   "outputs": [
    {
     "data": {
      "text/plain": [
       "array(['0', '1219', '4322', ..., 3650, 3367, 3207], dtype=object)"
      ]
     },
     "execution_count": 75,
     "metadata": {},
     "output_type": "execute_result"
    }
   ],
   "source": [
    "df_final['FANSPEED_1'].unique()"
   ]
  },
  {
   "cell_type": "code",
   "execution_count": null,
   "id": "753a71a4",
   "metadata": {},
   "outputs": [],
   "source": [
    "#df_final.drop(df_final[df_final['FANSPEED_1']=='...'].index, inplace = True)"
   ]
  },
  {
   "cell_type": "code",
   "execution_count": 81,
   "id": "07a8e039",
   "metadata": {},
   "outputs": [
    {
     "data": {
      "text/plain": [
       "dtype('int32')"
      ]
     },
     "execution_count": 81,
     "metadata": {},
     "output_type": "execute_result"
    }
   ],
   "source": [
    "df_final['FANSPEED_1'].dtype"
   ]
  },
  {
   "cell_type": "code",
   "execution_count": 80,
   "id": "ced03cce",
   "metadata": {},
   "outputs": [],
   "source": [
    "df_final['FANSPEED_1'] = df_final['FANSPEED_1'].astype(int)"
   ]
  },
  {
   "cell_type": "code",
   "execution_count": 82,
   "id": "038ee549",
   "metadata": {},
   "outputs": [
    {
     "data": {
      "text/plain": [
       "Standby       117802\n",
       "Heating        81599\n",
       "Pre-Purge       4181\n",
       "Post-Purge      3159\n",
       "Ignition        1132\n",
       "Retry            240\n",
       "Name: VLVSTATE_1, dtype: int64"
      ]
     },
     "execution_count": 82,
     "metadata": {},
     "output_type": "execute_result"
    }
   ],
   "source": [
    "#VLVSTATE_1\n",
    "df_final['VLVSTATE_1'].value_counts()"
   ]
  },
  {
   "cell_type": "code",
   "execution_count": 146,
   "id": "6a40218c",
   "metadata": {},
   "outputs": [
    {
     "data": {
      "text/plain": [
       "array([2, 3, 4, 5, 6, 7], dtype=int64)"
      ]
     },
     "execution_count": 146,
     "metadata": {},
     "output_type": "execute_result"
    }
   ],
   "source": [
    "df_final['VLVSTATE_1'].unique()"
   ]
  },
  {
   "cell_type": "code",
   "execution_count": null,
   "id": "1ebe34d6",
   "metadata": {},
   "outputs": [],
   "source": [
    "# Standby       == 2\n",
    "# Heating = 5\n",
    "# Pre-Purge = 3\n",
    "# Post-Purge = 6\n",
    "# Ignition = 4\n",
    "# Retry = 7"
   ]
  },
  {
   "cell_type": "code",
   "execution_count": 145,
   "id": "4f7311d4",
   "metadata": {},
   "outputs": [],
   "source": [
    "# to change labels of \"GASVALVE_1\"\n",
    "\n",
    "VLVSTATE_1_dict = {\n",
    "    'Standby': 2,\n",
    "    'Pre-Purge': 3,\n",
    "    'Ignition': 4,\n",
    "    'Heating': 5,\n",
    "    'Retry': 7,\n",
    "    'Post-Purge': 6\n",
    "}\n",
    "\n",
    "df_final['VLVSTATE_1'] = df_final['VLVSTATE_1'].map(VLVSTATE_1_dict)"
   ]
  },
  {
   "cell_type": "code",
   "execution_count": 83,
   "id": "41f3fc67",
   "metadata": {},
   "outputs": [
    {
     "data": {
      "text/plain": [
       "Closed    125388\n",
       "Open       82725\n",
       "Name: GASVALVE_1, dtype: int64"
      ]
     },
     "execution_count": 83,
     "metadata": {},
     "output_type": "execute_result"
    }
   ],
   "source": [
    "#GASVALVE_1\n",
    "df_final['GASVALVE_1'].value_counts()"
   ]
  },
  {
   "cell_type": "code",
   "execution_count": 84,
   "id": "17100c35",
   "metadata": {},
   "outputs": [],
   "source": [
    "# to change labels of \"GASVALVE_1\"\n",
    "\n",
    "GASVALVE_dict = {\n",
    "    'Closed': 0,\n",
    "    \n",
    "    'Open': 1\n",
    "}\n",
    "\n",
    "df_final[\"GASVALVE_1\"] = df_final[\"GASVALVE_1\"].map(GASVALVE_dict)"
   ]
  },
  {
   "cell_type": "code",
   "execution_count": null,
   "id": "edcf4d10",
   "metadata": {},
   "outputs": [],
   "source": [
    "# remove dashes\n",
    "# open close means 0 and 1"
   ]
  },
  {
   "cell_type": "code",
   "execution_count": 85,
   "id": "e030e07b",
   "metadata": {},
   "outputs": [
    {
     "data": {
      "text/plain": [
       "Closed    208111\n",
       "Open           2\n",
       "Name: S3_EXPRS_1, dtype: int64"
      ]
     },
     "execution_count": 85,
     "metadata": {},
     "output_type": "execute_result"
    }
   ],
   "source": [
    "#S3_EXPRS_1\n",
    "df_final['S3_EXPRS_1'].value_counts()"
   ]
  },
  {
   "cell_type": "code",
   "execution_count": 86,
   "id": "2b82c0d1",
   "metadata": {},
   "outputs": [],
   "source": [
    "# to change labels of \"S2_INPRS\"\n",
    "\n",
    "S3_EXPRS_dict = {\n",
    "    'Closed': 0,\n",
    "    \n",
    "    'Open': 1\n",
    "}\n",
    "\n",
    "df_final[\"S3_EXPRS_1\"] = df_final[\"S3_EXPRS_1\"].map(S3_EXPRS_dict)"
   ]
  },
  {
   "cell_type": "code",
   "execution_count": 87,
   "id": "08902edc",
   "metadata": {},
   "outputs": [
    {
     "data": {
      "text/plain": [
       "Closed    208111\n",
       "Open           2\n",
       "Name: S2_INPRS_1, dtype: int64"
      ]
     },
     "execution_count": 87,
     "metadata": {},
     "output_type": "execute_result"
    }
   ],
   "source": [
    "#S2_INPRS_1\n",
    "df_final['S2_INPRS_1'].value_counts()"
   ]
  },
  {
   "cell_type": "code",
   "execution_count": 88,
   "id": "c0ba4b0e",
   "metadata": {},
   "outputs": [],
   "source": [
    "# to change labels of \"S2_INPRS\"\n",
    "\n",
    "S2_INPRS_dict = {\n",
    "    'Closed': 0,\n",
    "    \n",
    "    'Open': 1\n",
    "}\n",
    "\n",
    "df_final[\"S2_INPRS_1\"] = df_final[\"S2_INPRS_1\"].map(S2_INPRS_dict)"
   ]
  },
  {
   "cell_type": "code",
   "execution_count": 89,
   "id": "4d674d41",
   "metadata": {},
   "outputs": [
    {
     "data": {
      "text/plain": [
       "Open      118028\n",
       "Closed     90085\n",
       "Name: S1_AIRFL_1, dtype: int64"
      ]
     },
     "execution_count": 89,
     "metadata": {},
     "output_type": "execute_result"
    }
   ],
   "source": [
    "#S1_AIRFL_1\n",
    "df_final['S1_AIRFL_1'].value_counts()"
   ]
  },
  {
   "cell_type": "code",
   "execution_count": 90,
   "id": "ecf5735e",
   "metadata": {},
   "outputs": [],
   "source": [
    "# to change labels of \"S1_AIRFL\"\n",
    "\n",
    "S1_AIRFL_dict = {\n",
    "    'Closed': 0,\n",
    "    'Open': 1\n",
    "}\n",
    "\n",
    "df_final[\"S1_AIRFL_1\"] = df_final[\"S1_AIRFL_1\"].map(S1_AIRFL_dict)"
   ]
  },
  {
   "cell_type": "code",
   "execution_count": 91,
   "id": "7719225f",
   "metadata": {},
   "outputs": [
    {
     "data": {
      "text/plain": [
       "1    118028\n",
       "0     90085\n",
       "Name: S1_AIRFL_1, dtype: int64"
      ]
     },
     "execution_count": 91,
     "metadata": {},
     "output_type": "execute_result"
    }
   ],
   "source": [
    "df_final['S1_AIRFL_1'].value_counts()"
   ]
  },
  {
   "cell_type": "code",
   "execution_count": 92,
   "id": "5424bafb",
   "metadata": {},
   "outputs": [
    {
     "data": {
      "text/plain": [
       "183.4    2078\n",
       "183.5    2035\n",
       "183.3    2013\n",
       "183.8    1994\n",
       "183.9    1988\n",
       "         ... \n",
       "162.2      10\n",
       "165.7      10\n",
       "143.1       9\n",
       "184.8       4\n",
       "184.7       3\n",
       "Name: TANKTEMP_1, Length: 846, dtype: int64"
      ]
     },
     "execution_count": 92,
     "metadata": {},
     "output_type": "execute_result"
    }
   ],
   "source": [
    "#TANKTEMP_1\n",
    "df_final['TANKTEMP_1'].value_counts()"
   ]
  },
  {
   "cell_type": "code",
   "execution_count": 93,
   "id": "feee4e3c",
   "metadata": {},
   "outputs": [],
   "source": [
    "df_final.drop(df_final[df_final['TANKTEMP_1']=='---'].index, inplace = True)"
   ]
  },
  {
   "cell_type": "code",
   "execution_count": 114,
   "id": "627c711f",
   "metadata": {},
   "outputs": [],
   "source": [
    "df_final['TANKTEMP_1'] = df_final['TANKTEMP_1'].astype(float)"
   ]
  },
  {
   "cell_type": "code",
   "execution_count": 149,
   "id": "a598d878",
   "metadata": {},
   "outputs": [
    {
     "data": {
      "text/plain": [
       "141.6"
      ]
     },
     "execution_count": 149,
     "metadata": {},
     "output_type": "execute_result"
    }
   ],
   "source": [
    "# df_final['TANKTEMP_1'].min()"
   ]
  },
  {
   "cell_type": "code",
   "execution_count": 95,
   "id": "29966b03",
   "metadata": {},
   "outputs": [
    {
     "data": {
      "text/plain": [
       "3248    44287\n",
       "3247    40630\n",
       "3251    27158\n",
       "3253    18023\n",
       "3234    15674\n",
       "3252     9734\n",
       "3232     9391\n",
       "3250     6475\n",
       "3245     6424\n",
       "3246     6409\n",
       "3233     5224\n",
       "3244     4222\n",
       "3231     4188\n",
       "3251     4181\n",
       "3230     3524\n",
       "3249     2166\n",
       "3243      403\n",
       "Name: CHE_FIGN_1, dtype: int64"
      ]
     },
     "execution_count": 95,
     "metadata": {},
     "output_type": "execute_result"
    }
   ],
   "source": [
    "#CHE_FIGN_1\n",
    "df_final['CHE_FIGN_1'].value_counts()"
   ]
  },
  {
   "cell_type": "code",
   "execution_count": 96,
   "id": "4d460ee1",
   "metadata": {},
   "outputs": [],
   "source": [
    "df_final.drop(df_final[df_final['CHE_FIGN_1']=='---'].index, inplace = True)"
   ]
  },
  {
   "cell_type": "code",
   "execution_count": 112,
   "id": "944643ea",
   "metadata": {},
   "outputs": [],
   "source": [
    "df_final['CHE_FIGN_1'] = df_final['CHE_FIGN_1'].astype(int)"
   ]
  },
  {
   "cell_type": "code",
   "execution_count": 153,
   "id": "62f4b655",
   "metadata": {},
   "outputs": [
    {
     "data": {
      "text/plain": [
       "array([nan,  0.,  1.,  9.])"
      ]
     },
     "execution_count": 153,
     "metadata": {},
     "output_type": "execute_result"
    }
   ],
   "source": [
    "df_final['CHE_FIGN_1'].unique()"
   ]
  },
  {
   "cell_type": "code",
   "execution_count": 159,
   "id": "3f68bb43",
   "metadata": {},
   "outputs": [
    {
     "data": {
      "text/plain": [
       "0.0    208097\n",
       "1.0        14\n",
       "9.0         1\n",
       "Name: CHE_FIGN_1, dtype: int64"
      ]
     },
     "execution_count": 159,
     "metadata": {},
     "output_type": "execute_result"
    }
   ],
   "source": [
    "df_final['CHE_FIGN_1'].value_counts()"
   ]
  },
  {
   "cell_type": "code",
   "execution_count": null,
   "id": "7eed89cb",
   "metadata": {},
   "outputs": [],
   "source": [
    "# what is 9 == "
   ]
  },
  {
   "cell_type": "code",
   "execution_count": 97,
   "id": "ae0987cf",
   "metadata": {},
   "outputs": [
    {
     "data": {
      "text/plain": [
       "65864    761\n",
       "66476    759\n",
       "66434    754\n",
       "65823    753\n",
       "65878    749\n",
       "        ... \n",
       "64279     55\n",
       "65932     36\n",
       "66656     36\n",
       "65931     25\n",
       "66656     23\n",
       "Name: CHE_BMIN_1, Length: 1368, dtype: int64"
      ]
     },
     "execution_count": 97,
     "metadata": {},
     "output_type": "execute_result"
    }
   ],
   "source": [
    "#CHE_BMIN_1\n",
    "df_final['CHE_BMIN_1'].value_counts()"
   ]
  },
  {
   "cell_type": "code",
   "execution_count": 98,
   "id": "aaea0715",
   "metadata": {},
   "outputs": [],
   "source": [
    "df_final.drop(df_final[df_final['CHE_BMIN_1']=='---'].index, inplace = True)"
   ]
  },
  {
   "cell_type": "code",
   "execution_count": 110,
   "id": "8a21e296",
   "metadata": {},
   "outputs": [],
   "source": [
    "df_final['CHE_BMIN_1'] = df_final['CHE_BMIN_1'].astype(int)"
   ]
  },
  {
   "cell_type": "code",
   "execution_count": 155,
   "id": "b53fdce8",
   "metadata": {},
   "outputs": [
    {
     "data": {
      "text/plain": [
       "1349.0"
      ]
     },
     "execution_count": 155,
     "metadata": {},
     "output_type": "execute_result"
    }
   ],
   "source": [
    "#df_final['CHE_BMIN_1'].max()"
   ]
  },
  {
   "cell_type": "code",
   "execution_count": 99,
   "id": "1986d21a",
   "metadata": {},
   "outputs": [
    {
     "data": {
      "text/plain": [
       "79.2    3097\n",
       "80.2    2986\n",
       "79.3    2731\n",
       "79.1    2691\n",
       "80.3    2679\n",
       "        ... \n",
       "50.7       7\n",
       "50.4       7\n",
       "50.6       6\n",
       "50.6       4\n",
       "50.5       3\n",
       "Name: INLTTEMP_1, Length: 652, dtype: int64"
      ]
     },
     "execution_count": 99,
     "metadata": {},
     "output_type": "execute_result"
    }
   ],
   "source": [
    "# INLTTEMP_1\n",
    "df_final['INLTTEMP_1'].value_counts()"
   ]
  },
  {
   "cell_type": "code",
   "execution_count": 100,
   "id": "1ac9711d",
   "metadata": {},
   "outputs": [],
   "source": [
    "df_final.drop(df_final[df_final['INLTTEMP_1']=='---'].index, inplace = True)"
   ]
  },
  {
   "cell_type": "code",
   "execution_count": 108,
   "id": "f26aa54a",
   "metadata": {},
   "outputs": [],
   "source": [
    "df_final['INLTTEMP_1'] = df_final['INLTTEMP_1'].astype(float)"
   ]
  },
  {
   "cell_type": "code",
   "execution_count": 137,
   "id": "87fa7c93",
   "metadata": {},
   "outputs": [],
   "source": [
    "df_final['CHE_FIGN_1'] = df_final['CHE_FIGN_1'].diff()"
   ]
  },
  {
   "cell_type": "code",
   "execution_count": 158,
   "id": "c82edbec",
   "metadata": {},
   "outputs": [
    {
     "data": {
      "text/plain": [
       "array([nan,  0.,  1.,  9.])"
      ]
     },
     "execution_count": 158,
     "metadata": {},
     "output_type": "execute_result"
    }
   ],
   "source": [
    "#df_final['CHE_FIGN_1'].unique()"
   ]
  },
  {
   "cell_type": "code",
   "execution_count": null,
   "id": "f3601f64",
   "metadata": {},
   "outputs": [],
   "source": [
    "# what is nine then ???????"
   ]
  },
  {
   "cell_type": "code",
   "execution_count": 138,
   "id": "7c4fdf2a",
   "metadata": {},
   "outputs": [],
   "source": [
    "df_final['CHE_BMIN_1'] = df_final['CHE_BMIN_1'].diff()"
   ]
  },
  {
   "cell_type": "code",
   "execution_count": 139,
   "id": "9ea14fd8",
   "metadata": {},
   "outputs": [
    {
     "name": "stdout",
     "output_type": "stream",
     "text": [
      "<class 'pandas.core.frame.DataFrame'>\n",
      "Int64Index: 208113 entries, 0 to 383285\n",
      "Data columns (total 22 columns):\n",
      " #   Column      Non-Null Count   Dtype  \n",
      "---  ------      --------------   -----  \n",
      " 0   BLOWRPWM_1  208113 non-null  float64\n",
      " 1   CHE_FCDV_1  208113 non-null  int64  \n",
      " 2   CHE_BPDV_1  208113 non-null  int64  \n",
      " 3   FLAMETST_1  208113 non-null  float64\n",
      " 4   FLAME_ON_1  208112 non-null  float64\n",
      " 5   C_HEALTH_1  208113 non-null  float64\n",
      " 6   ALARM_01_1  208112 non-null  object \n",
      " 7   ALARM_02_1  208112 non-null  object \n",
      " 8   ALARM_03_1  208112 non-null  object \n",
      " 9   date_time   208113 non-null  object \n",
      " 10  ALARM_04_1  208113 non-null  object \n",
      " 11  FLAMECUR_1  208113 non-null  float64\n",
      " 12  FANSPEED_1  208113 non-null  int32  \n",
      " 13  VLVSTATE_1  208113 non-null  object \n",
      " 14  GASVALVE_1  208113 non-null  int64  \n",
      " 15  S3_EXPRS_1  208113 non-null  int64  \n",
      " 16  S2_INPRS_1  208113 non-null  int64  \n",
      " 17  S1_AIRFL_1  208113 non-null  int64  \n",
      " 18  TANKTEMP_1  208113 non-null  float64\n",
      " 19  CHE_FIGN_1  208112 non-null  float64\n",
      " 20  CHE_BMIN_1  208112 non-null  float64\n",
      " 21  INLTTEMP_1  208113 non-null  float64\n",
      "dtypes: float64(9), int32(1), int64(6), object(6)\n",
      "memory usage: 43.8+ MB\n"
     ]
    }
   ],
   "source": [
    "df_final.info()"
   ]
  },
  {
   "cell_type": "code",
   "execution_count": 140,
   "id": "ff59ca40",
   "metadata": {},
   "outputs": [
    {
     "data": {
      "text/plain": [
       "BLOWRPWM_1    0\n",
       "CHE_FCDV_1    0\n",
       "CHE_BPDV_1    0\n",
       "FLAMETST_1    0\n",
       "FLAME_ON_1    1\n",
       "C_HEALTH_1    0\n",
       "ALARM_01_1    1\n",
       "ALARM_02_1    1\n",
       "ALARM_03_1    1\n",
       "date_time     0\n",
       "ALARM_04_1    0\n",
       "FLAMECUR_1    0\n",
       "FANSPEED_1    0\n",
       "VLVSTATE_1    0\n",
       "GASVALVE_1    0\n",
       "S3_EXPRS_1    0\n",
       "S2_INPRS_1    0\n",
       "S1_AIRFL_1    0\n",
       "TANKTEMP_1    0\n",
       "CHE_FIGN_1    1\n",
       "CHE_BMIN_1    1\n",
       "INLTTEMP_1    0\n",
       "dtype: int64"
      ]
     },
     "execution_count": 140,
     "metadata": {},
     "output_type": "execute_result"
    }
   ],
   "source": [
    "df_final.isnull().sum()"
   ]
  },
  {
   "cell_type": "code",
   "execution_count": 141,
   "id": "3014d546",
   "metadata": {},
   "outputs": [
    {
     "data": {
      "image/png": "[encoded data removed]",
      "text/plain": [
       "<Figure size 576x576 with 1 Axes>"
      ]
     },
     "metadata": {
      "needs_background": "light"
     },
     "output_type": "display_data"
    }
   ],
   "source": [
    "# bar chart to see missing visual in df_data\n",
    "plt.figure(figsize = (8,8))\n",
    "\n",
    "df_final.isnull().sum().plot(kind = 'barh')\n",
    "plt.title('Number of Missing Values by Column', size = 25)\n",
    "plt.xlabel('Count', size = 25);"
   ]
  },
  {
   "cell_type": "code",
   "execution_count": 142,
   "id": "53c25064",
   "metadata": {},
   "outputs": [
    {
     "data": {
      "image/png": "[encoded data removed]",
      "text/plain": [
       "<Figure size 720x720 with 2 Axes>"
      ]
     },
     "metadata": {
      "needs_background": "light"
     },
     "output_type": "display_data"
    }
   ],
   "source": [
    "#visual of correlation between fields or columns\n",
    "plt.figure(figsize=(10, 10))\n",
    "mask = np.zeros_like(df_final.corr())\n",
    "mask[np.triu_indices_from(mask)] = True\n",
    "sns.heatmap(df_final.corr(), mask = mask, square = True, cmap = 'viridis', annot = True, vmin=-1, vmax=1);\n",
    "#sns.heatmap(df_final.corr(), annot = True, vmin=-1, vmax=1, center= 0);"
   ]
  },
  {
   "cell_type": "code",
   "execution_count": 147,
   "id": "280d6525",
   "metadata": {},
   "outputs": [
    {
     "data": {
      "image/png": "[encoded data removed]",
      "text/plain": [
       "<Figure size 576x576 with 2 Axes>"
      ]
     },
     "metadata": {
      "needs_background": "light"
     },
     "output_type": "display_data"
    }
   ],
   "source": [
    "#visual of correlation between fields or columns\n",
    "plt.figure(figsize=(8,8))\n",
    "\n",
    "sns.heatmap(df_final.corr()[['FLAMECUR_1']].sort_values('FLAMECUR_1', ascending=False), annot=True, cmap='viridis');"
   ]
  },
  {
   "cell_type": "code",
   "execution_count": 136,
   "id": "0aadb6de",
   "metadata": {},
   "outputs": [
    {
     "data": {
      "image/png": "[encoded data removed]",
      "text/plain": [
       "<Figure size 576x576 with 2 Axes>"
      ]
     },
     "metadata": {
      "needs_background": "light"
     },
     "output_type": "display_data"
    }
   ],
   "source": [
    "#visual of correlation between fields or columns\n",
    "plt.figure(figsize=(8,8))\n",
    "\n",
    "sns.heatmap(df3.corr()[['CHE_FIGN_1']].sort_values('CHE_FIGN_1', ascending=False), annot=True, cmap='viridis');"
   ]
  },
  {
   "cell_type": "code",
   "execution_count": 122,
   "id": "8f6abe39",
   "metadata": {},
   "outputs": [],
   "source": [
    "#numeric data from df_data\n",
    "df_numeric = df_final._get_numeric_data()"
   ]
  },
  {
   "cell_type": "code",
   "execution_count": 130,
   "id": "8033283d",
   "metadata": {},
   "outputs": [
    {
     "data": {
      "image/png": "[encoded data removed]",
      "text/plain": [
       "<Figure size 864x864 with 2 Axes>"
      ]
     },
     "metadata": {
      "needs_background": "light"
     },
     "output_type": "display_data"
    }
   ],
   "source": [
    "plt.figure(figsize=(12, 12))\n",
    "mask = np.zeros_like(df_numeric.corr())\n",
    "mask[np.triu_indices_from(mask)] = True\n",
    "sns.heatmap(df_numeric.corr(), mask = mask, square = True, cmap = 'viridis', annot = True, vmin=-1, vmax=1);\n"
   ]
  },
  {
   "cell_type": "code",
   "execution_count": 125,
   "id": "23e7dcd3",
   "metadata": {},
   "outputs": [
    {
     "data": {
      "image/png": "[encoded data removed]",
      "text/plain": [
       "<Figure size 864x864 with 2 Axes>"
      ]
     },
     "metadata": {
      "needs_background": "light"
     },
     "output_type": "display_data"
    }
   ],
   "source": [
    "plt.figure(figsize=(12,12))\n",
    "\n",
    "sns.heatmap(df_numeric.corr(), annot=True, cmap='viridis');"
   ]
  },
  {
   "cell_type": "code",
   "execution_count": 126,
   "id": "70f3e0f0",
   "metadata": {},
   "outputs": [
    {
     "data": {
      "image/png": "[encoded data removed]",
      "text/plain": [
       "<Figure size 720x576 with 2 Axes>"
      ]
     },
     "metadata": {
      "needs_background": "light"
     },
     "output_type": "display_data"
    }
   ],
   "source": [
    "#visual of correlation between fields or columns\n",
    "plt.figure(figsize=(10,8))\n",
    "\n",
    "sns.heatmap(df_numeric.corr()[['FLAME_ON_1']].sort_values('FLAME_ON_1', ascending=False), annot=True, cmap='viridis');"
   ]
  },
  {
   "cell_type": "code",
   "execution_count": null,
   "id": "cc931bbe",
   "metadata": {},
   "outputs": [],
   "source": [
    "#Scatter plot to see relation between CHE_FIGN and FLAMECUR\n",
    "df3.plot(kind='scatter', x = 'CHE_FIGN', y='FLAMECUR');"
   ]
  },
  {
   "cell_type": "code",
   "execution_count": null,
   "id": "8563e97e",
   "metadata": {},
   "outputs": [],
   "source": [
    "#Scatter plot to see relation between CHE_FIGN and FLAMECUR\n",
    "df3.plot(kind='scatter', x = 'CHE_FIGN', y='AND2CURR');"
   ]
  },
  {
   "cell_type": "code",
   "execution_count": null,
   "id": "fd5ccd02",
   "metadata": {},
   "outputs": [],
   "source": [
    "#Scatter plot to see relation between CHE_FIGN and FLAMECUR\n",
    "#df3.plot(kind='scatter', x = 'CHE_FIGN', y='WHTRSETP');"
   ]
  },
  {
   "cell_type": "code",
   "execution_count": null,
   "id": "36d4aa31",
   "metadata": {},
   "outputs": [],
   "source": [
    "#Scatter plot to see relation between CHE_FIGN and FLAMECUR\n",
    "#df3.plot(kind='scatter', x = 'CHE_FIGN', y='Date/Time');"
   ]
  },
  {
   "cell_type": "code",
   "execution_count": null,
   "id": "a342d3c2",
   "metadata": {},
   "outputs": [],
   "source": [
    "#Scatter plot to see relation between CHE_FIGN and CHE_SIGN\n",
    "df3.plot(kind='scatter', x = 'CHE_FIGN', y='CHE_SIGN');"
   ]
  },
  {
   "cell_type": "code",
   "execution_count": null,
   "id": "fbb7ab2e",
   "metadata": {},
   "outputs": [],
   "source": [
    "#Scatter plot to see relation between CHE_FIGN and T_HEALTH\n",
    "df3.plot(kind='scatter', x = 'CHE_FIGN', y='T_HEALTH');"
   ]
  },
  {
   "cell_type": "code",
   "execution_count": null,
   "id": "76c993ac",
   "metadata": {},
   "outputs": [],
   "source": [
    "df3['T_HEALTH'].hist()"
   ]
  },
  {
   "cell_type": "code",
   "execution_count": null,
   "id": "a0c9ec7b",
   "metadata": {},
   "outputs": [],
   "source": [
    "#Scatter plot to see relation between CHE_FIGN and C_HEALTH\n",
    "df3.plot(kind='scatter', x = 'CHE_FIGN', y='C_HEALTH');"
   ]
  },
  {
   "cell_type": "code",
   "execution_count": null,
   "id": "87db6ba3",
   "metadata": {},
   "outputs": [],
   "source": [
    "df3['C_HEALTH'].hist()"
   ]
  },
  {
   "cell_type": "code",
   "execution_count": null,
   "id": "1e6cd7bb",
   "metadata": {},
   "outputs": [],
   "source": [
    "#Scatter plot to see relation between CHE_FIGN and CHE_BMIN\n",
    "df3.plot(kind='scatter', x = 'CHE_FIGN', y='CHE_BMIN');"
   ]
  },
  {
   "cell_type": "code",
   "execution_count": null,
   "id": "e12b5116",
   "metadata": {},
   "outputs": [],
   "source": [
    "#selct and drop any columns\n",
    "# features = ['column1', 'column2']\n",
    "#df1_columns = df1[features]\n",
    "#df1_final = df_final['CHE_FIGN']\n",
    "#df1_final = df_final.drop(columns=['CHE_FIGN', 'CHE_FIGN'])"
   ]
  },
  {
   "cell_type": "code",
   "execution_count": null,
   "id": "50109b5e",
   "metadata": {},
   "outputs": [],
   "source": [
    "#creating dataframe df2 of \"NL I10\"\n",
    "df4 = pd.read_csv(\"./clean-anes/NL I10.csv\")"
   ]
  },
  {
   "cell_type": "code",
   "execution_count": null,
   "id": "d901ec0a",
   "metadata": {},
   "outputs": [],
   "source": [
    "#readong first 5 rows of \"NL I10\"\n",
    "df4.head()"
   ]
  },
  {
   "cell_type": "code",
   "execution_count": null,
   "id": "5b97b548",
   "metadata": {},
   "outputs": [],
   "source": [
    "# looking at null values and data types of each column for \"NL I09\"\n",
    "df4.info()"
   ]
  },
  {
   "cell_type": "code",
   "execution_count": null,
   "id": "2c2697bd",
   "metadata": {},
   "outputs": [],
   "source": []
  }
 ],
 "metadata": {
  "kernelspec": {
   "display_name": "Python 3",
   "language": "python",
   "name": "python3"
  },
  "language_info": {
   "codemirror_mode": {
    "name": "ipython",
    "version": 3
   },
   "file_extension": ".py",
   "mimetype": "text/x-python",
   "name": "python",
   "nbconvert_exporter": "python",
   "pygments_lexer": "ipython3",
   "version": "3.8.8"
  }
 },
 "nbformat": 4,
 "nbformat_minor": 5
}
