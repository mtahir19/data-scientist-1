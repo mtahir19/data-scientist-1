{
 "cells": [
  {
   "cell_type": "markdown",
   "id": "1efffd64",
   "metadata": {},
   "source": [
    "# Eagle work for \"NL G1_1433\" \n",
    "### target is Fan speed, fan current, A090 and T010; \n",
    "### what is value of fan current ?????\n",
    "### what factor affecting fan current to change\n",
    "\n",
    "\n",
    "### fan current data is half as compared to other ????\n",
    "\n"
   ]
  },
  {
   "cell_type": "code",
   "execution_count": 1,
   "id": "7eb3f946",
   "metadata": {},
   "outputs": [],
   "source": [
    "# Required Imports \n",
    "import pandas as pd\n",
    "import numpy as np\n",
    "import os\n",
    "import matplotlib.pyplot as plt\n",
    "import seaborn as sns"
   ]
  },
  {
   "cell_type": "code",
   "execution_count": 2,
   "id": "95165620",
   "metadata": {},
   "outputs": [
    {
     "name": "stderr",
     "output_type": "stream",
     "text": [
      "C:\\Users\\muhammad.tahir.ctr\\Anaconda3\\lib\\site-packages\\IPython\\core\\interactiveshell.py:3165: DtypeWarning: Columns (2,3,4,5,6,7,8,9,10,11,12,13,14,18,20,22,23,24,25) have mixed types.Specify dtype option on import or set low_memory=False.\n",
      "  has_raised = await self.run_ast_nodes(code_ast.body, cell_name,\n"
     ]
    }
   ],
   "source": [
    "#creating dataframe df1 of \"NL I09\"\n",
    "df1 = pd.read_csv(\"./Eagle NL units/NL G1_1433.csv\")"
   ]
  },
  {
   "cell_type": "code",
   "execution_count": 3,
   "id": "e0e46d90",
   "metadata": {
    "scrolled": false
   },
   "outputs": [
    {
     "data": {
      "text/html": [
       "<div>\n",
       "<style scoped>\n",
       "    .dataframe tbody tr th:only-of-type {\n",
       "        vertical-align: middle;\n",
       "    }\n",
       "\n",
       "    .dataframe tbody tr th {\n",
       "        vertical-align: top;\n",
       "    }\n",
       "\n",
       "    .dataframe thead th {\n",
       "        text-align: right;\n",
       "    }\n",
       "</style>\n",
       "<table border=\"1\" class=\"dataframe\">\n",
       "  <thead>\n",
       "    <tr style=\"text-align: right;\">\n",
       "      <th></th>\n",
       "      <th>Time</th>\n",
       "      <th>Date</th>\n",
       "      <th>TEMP__IN</th>\n",
       "      <th>TEMP_OUT</th>\n",
       "      <th>TEMPHTX1</th>\n",
       "      <th>WHTRSETP</th>\n",
       "      <th>FLOW_GPM</th>\n",
       "      <th>BYPRATIO</th>\n",
       "      <th>FAN__SPD</th>\n",
       "      <th>BURNSTGE</th>\n",
       "      <th>...</th>\n",
       "      <th>ALARM1 DESC</th>\n",
       "      <th>ALARM2 DESC</th>\n",
       "      <th>ALERT1 CODE</th>\n",
       "      <th>ALERT2 CODE</th>\n",
       "      <th>ALERT1 DESC</th>\n",
       "      <th>ALERT2 DESC</th>\n",
       "      <th>ALARM1 COUNT</th>\n",
       "      <th>ALARM2 COUNT</th>\n",
       "      <th>ALERT1 COUNT</th>\n",
       "      <th>ALERT2 COUNT</th>\n",
       "    </tr>\n",
       "  </thead>\n",
       "  <tbody>\n",
       "    <tr>\n",
       "      <th>0</th>\n",
       "      <td>02:49:45 PM</td>\n",
       "      <td>12/15/2020</td>\n",
       "      <td>46.4</td>\n",
       "      <td>137.1</td>\n",
       "      <td>137.3</td>\n",
       "      <td>140</td>\n",
       "      <td>3.7</td>\n",
       "      <td>0</td>\n",
       "      <td>5399</td>\n",
       "      <td>6</td>\n",
       "      <td>...</td>\n",
       "      <td>NaN</td>\n",
       "      <td>NaN</td>\n",
       "      <td>NaN</td>\n",
       "      <td>NaN</td>\n",
       "      <td>NaN</td>\n",
       "      <td>NaN</td>\n",
       "      <td>NaN</td>\n",
       "      <td>NaN</td>\n",
       "      <td>NaN</td>\n",
       "      <td>NaN</td>\n",
       "    </tr>\n",
       "    <tr>\n",
       "      <th>1</th>\n",
       "      <td>02:50:15 PM</td>\n",
       "      <td>12/15/2020</td>\n",
       "      <td>46.6</td>\n",
       "      <td>137.1</td>\n",
       "      <td>137.3</td>\n",
       "      <td>140</td>\n",
       "      <td>3.8</td>\n",
       "      <td>0</td>\n",
       "      <td>5399</td>\n",
       "      <td>6</td>\n",
       "      <td>...</td>\n",
       "      <td>NaN</td>\n",
       "      <td>NaN</td>\n",
       "      <td>NaN</td>\n",
       "      <td>NaN</td>\n",
       "      <td>NaN</td>\n",
       "      <td>NaN</td>\n",
       "      <td>NaN</td>\n",
       "      <td>NaN</td>\n",
       "      <td>NaN</td>\n",
       "      <td>NaN</td>\n",
       "    </tr>\n",
       "    <tr>\n",
       "      <th>2</th>\n",
       "      <td>02:50:45 PM</td>\n",
       "      <td>12/15/2020</td>\n",
       "      <td>46.6</td>\n",
       "      <td>137.1</td>\n",
       "      <td>137.7</td>\n",
       "      <td>140</td>\n",
       "      <td>3.8</td>\n",
       "      <td>1</td>\n",
       "      <td>5395</td>\n",
       "      <td>6</td>\n",
       "      <td>...</td>\n",
       "      <td>NaN</td>\n",
       "      <td>NaN</td>\n",
       "      <td>NaN</td>\n",
       "      <td>NaN</td>\n",
       "      <td>NaN</td>\n",
       "      <td>NaN</td>\n",
       "      <td>NaN</td>\n",
       "      <td>NaN</td>\n",
       "      <td>NaN</td>\n",
       "      <td>NaN</td>\n",
       "    </tr>\n",
       "    <tr>\n",
       "      <th>3</th>\n",
       "      <td>02:51:15 PM</td>\n",
       "      <td>12/15/2020</td>\n",
       "      <td>46.6</td>\n",
       "      <td>55.0</td>\n",
       "      <td>52.2</td>\n",
       "      <td>140</td>\n",
       "      <td>6.2</td>\n",
       "      <td>0</td>\n",
       "      <td>4743</td>\n",
       "      <td>0</td>\n",
       "      <td>...</td>\n",
       "      <td>NaN</td>\n",
       "      <td>NaN</td>\n",
       "      <td>NaN</td>\n",
       "      <td>NaN</td>\n",
       "      <td>NaN</td>\n",
       "      <td>NaN</td>\n",
       "      <td>NaN</td>\n",
       "      <td>NaN</td>\n",
       "      <td>NaN</td>\n",
       "      <td>NaN</td>\n",
       "    </tr>\n",
       "    <tr>\n",
       "      <th>4</th>\n",
       "      <td>02:51:45 PM</td>\n",
       "      <td>12/15/2020</td>\n",
       "      <td>47.5</td>\n",
       "      <td>61.0</td>\n",
       "      <td>67.3</td>\n",
       "      <td>140</td>\n",
       "      <td>0.0</td>\n",
       "      <td>32</td>\n",
       "      <td>0</td>\n",
       "      <td>0</td>\n",
       "      <td>...</td>\n",
       "      <td>NaN</td>\n",
       "      <td>NaN</td>\n",
       "      <td>NaN</td>\n",
       "      <td>NaN</td>\n",
       "      <td>NaN</td>\n",
       "      <td>NaN</td>\n",
       "      <td>NaN</td>\n",
       "      <td>NaN</td>\n",
       "      <td>NaN</td>\n",
       "      <td>NaN</td>\n",
       "    </tr>\n",
       "  </tbody>\n",
       "</table>\n",
       "<p>5 rows × 30 columns</p>\n",
       "</div>"
      ],
      "text/plain": [
       "          Time        Date TEMP__IN TEMP_OUT TEMPHTX1 WHTRSETP FLOW_GPM  \\\n",
       "0  02:49:45 PM  12/15/2020     46.4    137.1    137.3      140      3.7   \n",
       "1  02:50:15 PM  12/15/2020     46.6    137.1    137.3      140      3.8   \n",
       "2  02:50:45 PM  12/15/2020     46.6    137.1    137.7      140      3.8   \n",
       "3  02:51:15 PM  12/15/2020     46.6     55.0     52.2      140      6.2   \n",
       "4  02:51:45 PM  12/15/2020     47.5     61.0     67.3      140      0.0   \n",
       "\n",
       "  BYPRATIO FAN__SPD BURNSTGE  ... ALARM1 DESC ALARM2 DESC ALERT1 CODE  \\\n",
       "0        0     5399        6  ...         NaN         NaN         NaN   \n",
       "1        0     5399        6  ...         NaN         NaN         NaN   \n",
       "2        1     5395        6  ...         NaN         NaN         NaN   \n",
       "3        0     4743        0  ...         NaN         NaN         NaN   \n",
       "4       32        0        0  ...         NaN         NaN         NaN   \n",
       "\n",
       "  ALERT2 CODE ALERT1 DESC  ALERT2 DESC  ALARM1 COUNT ALARM2 COUNT  \\\n",
       "0         NaN         NaN          NaN           NaN          NaN   \n",
       "1         NaN         NaN          NaN           NaN          NaN   \n",
       "2         NaN         NaN          NaN           NaN          NaN   \n",
       "3         NaN         NaN          NaN           NaN          NaN   \n",
       "4         NaN         NaN          NaN           NaN          NaN   \n",
       "\n",
       "  ALERT1 COUNT  ALERT2 COUNT  \n",
       "0          NaN           NaN  \n",
       "1          NaN           NaN  \n",
       "2          NaN           NaN  \n",
       "3          NaN           NaN  \n",
       "4          NaN           NaN  \n",
       "\n",
       "[5 rows x 30 columns]"
      ]
     },
     "execution_count": 3,
     "metadata": {},
     "output_type": "execute_result"
    }
   ],
   "source": [
    "#readong first 5 rows of \"NL I09\"\n",
    "df1.head()"
   ]
  },
  {
   "cell_type": "code",
   "execution_count": 4,
   "id": "ee167cf0",
   "metadata": {},
   "outputs": [
    {
     "data": {
      "text/html": [
       "<div>\n",
       "<style scoped>\n",
       "    .dataframe tbody tr th:only-of-type {\n",
       "        vertical-align: middle;\n",
       "    }\n",
       "\n",
       "    .dataframe tbody tr th {\n",
       "        vertical-align: top;\n",
       "    }\n",
       "\n",
       "    .dataframe thead th {\n",
       "        text-align: right;\n",
       "    }\n",
       "</style>\n",
       "<table border=\"1\" class=\"dataframe\">\n",
       "  <thead>\n",
       "    <tr style=\"text-align: right;\">\n",
       "      <th></th>\n",
       "      <th>Time</th>\n",
       "      <th>Date</th>\n",
       "      <th>TEMP__IN</th>\n",
       "      <th>TEMP_OUT</th>\n",
       "      <th>TEMPHTX1</th>\n",
       "      <th>WHTRSETP</th>\n",
       "      <th>FLOW_GPM</th>\n",
       "      <th>BYPRATIO</th>\n",
       "      <th>FAN__SPD</th>\n",
       "      <th>BURNSTGE</th>\n",
       "      <th>...</th>\n",
       "      <th>ALARM1 DESC</th>\n",
       "      <th>ALARM2 DESC</th>\n",
       "      <th>ALERT1 CODE</th>\n",
       "      <th>ALERT2 CODE</th>\n",
       "      <th>ALERT1 DESC</th>\n",
       "      <th>ALERT2 DESC</th>\n",
       "      <th>ALARM1 COUNT</th>\n",
       "      <th>ALARM2 COUNT</th>\n",
       "      <th>ALERT1 COUNT</th>\n",
       "      <th>ALERT2 COUNT</th>\n",
       "    </tr>\n",
       "  </thead>\n",
       "  <tbody>\n",
       "    <tr>\n",
       "      <th>851140</th>\n",
       "      <td>09:26:02 AM</td>\n",
       "      <td>7/14/2021</td>\n",
       "      <td>NaN</td>\n",
       "      <td>NaN</td>\n",
       "      <td>NaN</td>\n",
       "      <td>NaN</td>\n",
       "      <td>NaN</td>\n",
       "      <td>NaN</td>\n",
       "      <td>NaN</td>\n",
       "      <td>NaN</td>\n",
       "      <td>...</td>\n",
       "      <td>NaN</td>\n",
       "      <td>NaN</td>\n",
       "      <td>NaN</td>\n",
       "      <td>NaN</td>\n",
       "      <td>NaN</td>\n",
       "      <td>NaN</td>\n",
       "      <td>NaN</td>\n",
       "      <td>NaN</td>\n",
       "      <td>NaN</td>\n",
       "      <td>NaN</td>\n",
       "    </tr>\n",
       "    <tr>\n",
       "      <th>851141</th>\n",
       "      <td>09:27:11 AM</td>\n",
       "      <td>7/14/2021</td>\n",
       "      <td>NaN</td>\n",
       "      <td>NaN</td>\n",
       "      <td>NaN</td>\n",
       "      <td>NaN</td>\n",
       "      <td>NaN</td>\n",
       "      <td>NaN</td>\n",
       "      <td>NaN</td>\n",
       "      <td>NaN</td>\n",
       "      <td>...</td>\n",
       "      <td>NaN</td>\n",
       "      <td>NaN</td>\n",
       "      <td>NaN</td>\n",
       "      <td>NaN</td>\n",
       "      <td>NaN</td>\n",
       "      <td>NaN</td>\n",
       "      <td>NaN</td>\n",
       "      <td>NaN</td>\n",
       "      <td>NaN</td>\n",
       "      <td>NaN</td>\n",
       "    </tr>\n",
       "    <tr>\n",
       "      <th>851142</th>\n",
       "      <td>09:27:27 AM</td>\n",
       "      <td>7/14/2021</td>\n",
       "      <td>NaN</td>\n",
       "      <td>NaN</td>\n",
       "      <td>NaN</td>\n",
       "      <td>NaN</td>\n",
       "      <td>NaN</td>\n",
       "      <td>NaN</td>\n",
       "      <td>NaN</td>\n",
       "      <td>NaN</td>\n",
       "      <td>...</td>\n",
       "      <td>NaN</td>\n",
       "      <td>NaN</td>\n",
       "      <td>NaN</td>\n",
       "      <td>NaN</td>\n",
       "      <td>NaN</td>\n",
       "      <td>NaN</td>\n",
       "      <td>NaN</td>\n",
       "      <td>NaN</td>\n",
       "      <td>NaN</td>\n",
       "      <td>NaN</td>\n",
       "    </tr>\n",
       "  </tbody>\n",
       "</table>\n",
       "<p>3 rows × 30 columns</p>\n",
       "</div>"
      ],
      "text/plain": [
       "               Time       Date TEMP__IN TEMP_OUT TEMPHTX1 WHTRSETP FLOW_GPM  \\\n",
       "851140  09:26:02 AM  7/14/2021      NaN      NaN      NaN      NaN      NaN   \n",
       "851141  09:27:11 AM  7/14/2021      NaN      NaN      NaN      NaN      NaN   \n",
       "851142  09:27:27 AM  7/14/2021      NaN      NaN      NaN      NaN      NaN   \n",
       "\n",
       "       BYPRATIO FAN__SPD BURNSTGE  ... ALARM1 DESC ALARM2 DESC ALERT1 CODE  \\\n",
       "851140      NaN      NaN      NaN  ...         NaN         NaN         NaN   \n",
       "851141      NaN      NaN      NaN  ...         NaN         NaN         NaN   \n",
       "851142      NaN      NaN      NaN  ...         NaN         NaN         NaN   \n",
       "\n",
       "       ALERT2 CODE ALERT1 DESC  ALERT2 DESC  ALARM1 COUNT ALARM2 COUNT  \\\n",
       "851140         NaN         NaN          NaN           NaN          NaN   \n",
       "851141         NaN         NaN          NaN           NaN          NaN   \n",
       "851142         NaN         NaN          NaN           NaN          NaN   \n",
       "\n",
       "       ALERT1 COUNT  ALERT2 COUNT  \n",
       "851140          NaN           NaN  \n",
       "851141          NaN           NaN  \n",
       "851142          NaN           NaN  \n",
       "\n",
       "[3 rows x 30 columns]"
      ]
     },
     "execution_count": 4,
     "metadata": {},
     "output_type": "execute_result"
    }
   ],
   "source": [
    "df1.loc[df1.FAN__SPD.isnull()]"
   ]
  },
  {
   "cell_type": "code",
   "execution_count": 5,
   "id": "629e6453",
   "metadata": {},
   "outputs": [],
   "source": [
    "df1 = df1.loc[df1.FAN__SPD.notnull()]"
   ]
  },
  {
   "cell_type": "code",
   "execution_count": 6,
   "id": "c6a0bfbc",
   "metadata": {
    "scrolled": false
   },
   "outputs": [
    {
     "name": "stdout",
     "output_type": "stream",
     "text": [
      "<class 'pandas.core.frame.DataFrame'>\n",
      "Int64Index: 1170012 entries, 0 to 1170014\n",
      "Data columns (total 30 columns):\n",
      " #   Column        Non-Null Count    Dtype  \n",
      "---  ------        --------------    -----  \n",
      " 0   Time          1170012 non-null  object \n",
      " 1   Date          1170012 non-null  object \n",
      " 2   TEMP__IN      1170012 non-null  object \n",
      " 3   TEMP_OUT      1170012 non-null  object \n",
      " 4   TEMPHTX1      1170012 non-null  object \n",
      " 5   WHTRSETP      1167409 non-null  object \n",
      " 6   FLOW_GPM      1170012 non-null  object \n",
      " 7   BYPRATIO      1170012 non-null  object \n",
      " 8   FAN__SPD      1170012 non-null  object \n",
      " 9   BURNSTGE      941247 non-null   object \n",
      " 10  FLM_ROD1      826423 non-null   object \n",
      " 11  ALARM_01      748373 non-null   object \n",
      " 12  ALARM_02      748373 non-null   object \n",
      " 13  FAN_CURR      710810 non-null   object \n",
      " 14  IGN_FIGN      710810 non-null   object \n",
      " 15  INSTANCE      1170012 non-null  int64  \n",
      " 16  Unit_Name     1170012 non-null  int64  \n",
      " 17  Station       1170012 non-null  object \n",
      " 18  ALARM1 CODE   38810 non-null    object \n",
      " 19  ALARM2 CODE   0 non-null        float64\n",
      " 20  ALARM1 DESC   38810 non-null    object \n",
      " 21  ALARM2 DESC   0 non-null        float64\n",
      " 22  ALERT1 CODE   391727 non-null   object \n",
      " 23  ALERT2 CODE   38810 non-null    object \n",
      " 24  ALERT1 DESC   391727 non-null   object \n",
      " 25  ALERT2 DESC   38810 non-null    object \n",
      " 26  ALARM1 COUNT  38810 non-null    float64\n",
      " 27  ALARM2 COUNT  0 non-null        float64\n",
      " 28  ALERT1 COUNT  391727 non-null   float64\n",
      " 29  ALERT2 COUNT  38810 non-null    float64\n",
      "dtypes: float64(6), int64(2), object(22)\n",
      "memory usage: 276.7+ MB\n"
     ]
    }
   ],
   "source": [
    "# looking at null values and data types of each column for \"NL I09\"\n",
    "df1.info()"
   ]
  },
  {
   "cell_type": "code",
   "execution_count": 7,
   "id": "e1082700",
   "metadata": {},
   "outputs": [
    {
     "data": {
      "text/plain": [
       "Index(['Time', 'Date', 'TEMP__IN', 'TEMP_OUT', 'TEMPHTX1', 'WHTRSETP',\n",
       "       'FLOW_GPM', 'BYPRATIO', 'FAN__SPD', 'BURNSTGE', 'FLM_ROD1', 'ALARM_01',\n",
       "       'ALARM_02', 'FAN_CURR', 'IGN_FIGN', 'INSTANCE', 'Unit_Name', 'Station',\n",
       "       'ALARM1 CODE', 'ALARM2 CODE', 'ALARM1 DESC', 'ALARM2 DESC',\n",
       "       'ALERT1 CODE', 'ALERT2 CODE', 'ALERT1 DESC', 'ALERT2 DESC',\n",
       "       'ALARM1 COUNT', 'ALARM2 COUNT', 'ALERT1 COUNT', 'ALERT2 COUNT'],\n",
       "      dtype='object')"
      ]
     },
     "execution_count": 7,
     "metadata": {},
     "output_type": "execute_result"
    }
   ],
   "source": [
    "df1.columns"
   ]
  },
  {
   "cell_type": "code",
   "execution_count": 8,
   "id": "5131f581",
   "metadata": {},
   "outputs": [],
   "source": [
    "df1['date_time'] = df1['Date'] + ' ' + df1['Time']"
   ]
  },
  {
   "cell_type": "code",
   "execution_count": 9,
   "id": "6632b6a6",
   "metadata": {},
   "outputs": [],
   "source": [
    "#df1['Date/Time'].head()"
   ]
  },
  {
   "cell_type": "code",
   "execution_count": 10,
   "id": "42d0cea2",
   "metadata": {},
   "outputs": [],
   "source": [
    "#df1['Date/Time'] = pd.to_datetime(df1['Date/Time'])"
   ]
  },
  {
   "cell_type": "code",
   "execution_count": 11,
   "id": "4b0bb69f",
   "metadata": {},
   "outputs": [],
   "source": [
    "#df1['Date/Time'].head()"
   ]
  },
  {
   "cell_type": "code",
   "execution_count": 12,
   "id": "a7ea9947",
   "metadata": {},
   "outputs": [
    {
     "name": "stdout",
     "output_type": "stream",
     "text": [
      "<class 'pandas.core.frame.DataFrame'>\n",
      "Int64Index: 1170012 entries, 0 to 1170014\n",
      "Data columns (total 5 columns):\n",
      " #   Column     Non-Null Count    Dtype \n",
      "---  ------     --------------    ----- \n",
      " 0   date_time  1170012 non-null  object\n",
      " 1   FAN__SPD   1170012 non-null  object\n",
      " 2   FAN_CURR   710810 non-null   object\n",
      " 3   ALARM_01   748373 non-null   object\n",
      " 4   ALARM_02   748373 non-null   object\n",
      "dtypes: object(5)\n",
      "memory usage: 53.6+ MB\n"
     ]
    }
   ],
   "source": [
    "df2 = df1[['date_time', 'FAN__SPD', 'FAN_CURR', 'ALARM_01', 'ALARM_02']]\n",
    "df2.info()"
   ]
  },
  {
   "cell_type": "code",
   "execution_count": 13,
   "id": "e0684117",
   "metadata": {},
   "outputs": [
    {
     "data": {
      "text/plain": [
       "array([nan, '---', 'T010 Warning - Blower Motor Not Vent. Enough    ',\n",
       "       'T01L Lime Build-Up Detected in Heat Exchanger   ',\n",
       "       '                                                ',\n",
       "       'A011 Flame Rod Does Not Detect Flame            ',\n",
       "       'A017 Water Leak Detected                        ',\n",
       "       'A090 Blockage in Venting Detected               '], dtype=object)"
      ]
     },
     "execution_count": 13,
     "metadata": {},
     "output_type": "execute_result"
    }
   ],
   "source": [
    "df2['ALARM_01'].unique()"
   ]
  },
  {
   "cell_type": "code",
   "execution_count": 14,
   "id": "8a24c757",
   "metadata": {},
   "outputs": [
    {
     "data": {
      "text/plain": [
       "T01L Lime Build-Up Detected in Heat Exchanger       321006\n",
       "---                                                 317575\n",
       "T010 Warning - Blower Motor Not Vent. Enough         70721\n",
       "A090 Blockage in Venting Detected                    38668\n",
       "                                                       261\n",
       "A017 Water Leak Detected                               139\n",
       "A011 Flame Rod Does Not Detect Flame                     3\n",
       "Name: ALARM_01, dtype: int64"
      ]
     },
     "execution_count": 14,
     "metadata": {},
     "output_type": "execute_result"
    }
   ],
   "source": [
    "df2['ALARM_01'].value_counts()"
   ]
  },
  {
   "cell_type": "code",
   "execution_count": 15,
   "id": "98c6dee6",
   "metadata": {},
   "outputs": [],
   "source": [
    "df2 = df2.dropna()"
   ]
  },
  {
   "cell_type": "code",
   "execution_count": 16,
   "id": "e41465bd",
   "metadata": {},
   "outputs": [
    {
     "name": "stdout",
     "output_type": "stream",
     "text": [
      "<class 'pandas.core.frame.DataFrame'>\n",
      "Int64Index: 710810 entries, 187114 to 1170014\n",
      "Data columns (total 5 columns):\n",
      " #   Column     Non-Null Count   Dtype \n",
      "---  ------     --------------   ----- \n",
      " 0   date_time  710810 non-null  object\n",
      " 1   FAN__SPD   710810 non-null  object\n",
      " 2   FAN_CURR   710810 non-null  object\n",
      " 3   ALARM_01   710810 non-null  object\n",
      " 4   ALARM_02   710810 non-null  object\n",
      "dtypes: object(5)\n",
      "memory usage: 32.5+ MB\n"
     ]
    }
   ],
   "source": [
    "df2.info()"
   ]
  },
  {
   "cell_type": "code",
   "execution_count": 17,
   "id": "97b4bb69",
   "metadata": {},
   "outputs": [
    {
     "data": {
      "text/plain": [
       "---                                                 317575\n",
       "T01L Lime Build-Up Detected in Heat Exchanger       310790\n",
       "T010 Warning - Blower Motor Not Vent. Enough         43376\n",
       "A090 Blockage in Venting Detected                    38668\n",
       "                                                       261\n",
       "A017 Water Leak Detected                               139\n",
       "A011 Flame Rod Does Not Detect Flame                     1\n",
       "Name: ALARM_01, dtype: int64"
      ]
     },
     "execution_count": 17,
     "metadata": {},
     "output_type": "execute_result"
    }
   ],
   "source": [
    "df2['ALARM_01'].value_counts()"
   ]
  },
  {
   "cell_type": "code",
   "execution_count": 18,
   "id": "eb5b3703",
   "metadata": {},
   "outputs": [
    {
     "data": {
      "text/plain": [
       "---     317575\n",
       "0        92692\n",
       "5399     59575\n",
       "0        55292\n",
       "5403     33457\n",
       "         ...  \n",
       "1777         1\n",
       "416          1\n",
       "4297         1\n",
       "3046         1\n",
       "1745         1\n",
       "Name: FAN__SPD, Length: 4519, dtype: int64"
      ]
     },
     "execution_count": 18,
     "metadata": {},
     "output_type": "execute_result"
    }
   ],
   "source": [
    "df2['FAN__SPD'].value_counts()"
   ]
  },
  {
   "cell_type": "code",
   "execution_count": 19,
   "id": "1691768d",
   "metadata": {},
   "outputs": [],
   "source": [
    "df2.drop(df2[df2['FAN__SPD']=='---'].index, inplace = True)"
   ]
  },
  {
   "cell_type": "code",
   "execution_count": 20,
   "id": "bb74e471",
   "metadata": {},
   "outputs": [],
   "source": [
    "df2['FAN__SPD'] = df2['FAN__SPD'].astype(int)"
   ]
  },
  {
   "cell_type": "code",
   "execution_count": 21,
   "id": "4c88ddb6",
   "metadata": {},
   "outputs": [
    {
     "data": {
      "text/plain": [
       "dtype('int32')"
      ]
     },
     "execution_count": 21,
     "metadata": {},
     "output_type": "execute_result"
    }
   ],
   "source": [
    "df2['FAN__SPD'].dtype"
   ]
  },
  {
   "cell_type": "code",
   "execution_count": 22,
   "id": "18bf0b8b",
   "metadata": {},
   "outputs": [
    {
     "data": {
      "text/plain": [
       "22.9     30194\n",
       "24.0     15090\n",
       "23.9     13550\n",
       "27.2     13089\n",
       "23.9      9097\n",
       "         ...  \n",
       "351.1        1\n",
       "233.9        1\n",
       "114.5        1\n",
       "227.8        1\n",
       "112.8        1\n",
       "Name: FAN_CURR, Length: 3873, dtype: int64"
      ]
     },
     "execution_count": 22,
     "metadata": {},
     "output_type": "execute_result"
    }
   ],
   "source": [
    "df2['FAN_CURR'].value_counts()"
   ]
  },
  {
   "cell_type": "code",
   "execution_count": 23,
   "id": "ae9ab18c",
   "metadata": {},
   "outputs": [],
   "source": [
    "df2['FAN_CURR'] = df2['FAN_CURR'].astype(float)"
   ]
  },
  {
   "cell_type": "code",
   "execution_count": 24,
   "id": "a13502df",
   "metadata": {},
   "outputs": [
    {
     "data": {
      "text/plain": [
       "dtype('float64')"
      ]
     },
     "execution_count": 24,
     "metadata": {},
     "output_type": "execute_result"
    }
   ],
   "source": [
    "df2['FAN_CURR'].dtype"
   ]
  },
  {
   "cell_type": "code",
   "execution_count": 25,
   "id": "df0399da",
   "metadata": {},
   "outputs": [
    {
     "data": {
      "text/plain": [
       "T01L Lime Build-Up Detected in Heat Exchanger       310790\n",
       "T010 Warning - Blower Motor Not Vent. Enough         43376\n",
       "A090 Blockage in Venting Detected                    38668\n",
       "                                                       261\n",
       "A017 Water Leak Detected                               139\n",
       "A011 Flame Rod Does Not Detect Flame                     1\n",
       "Name: ALARM_01, dtype: int64"
      ]
     },
     "execution_count": 25,
     "metadata": {},
     "output_type": "execute_result"
    }
   ],
   "source": [
    "df2['ALARM_01'].value_counts()"
   ]
  },
  {
   "cell_type": "code",
   "execution_count": 26,
   "id": "ddcc7746",
   "metadata": {},
   "outputs": [
    {
     "data": {
      "text/plain": [
       "array(['T010 Warning - Blower Motor Not Vent. Enough    ',\n",
       "       'T01L Lime Build-Up Detected in Heat Exchanger   ',\n",
       "       '                                                ',\n",
       "       'A011 Flame Rod Does Not Detect Flame            ',\n",
       "       'A017 Water Leak Detected                        ',\n",
       "       'A090 Blockage in Venting Detected               '], dtype=object)"
      ]
     },
     "execution_count": 26,
     "metadata": {},
     "output_type": "execute_result"
    }
   ],
   "source": [
    "df2['ALARM_01'].unique()"
   ]
  },
  {
   "cell_type": "code",
   "execution_count": 27,
   "id": "7020b7a0",
   "metadata": {},
   "outputs": [],
   "source": [
    "#df2['alarm_t010'] = df2[df2['ALARM_01']=='T010 Warning - Blower Motor Not Vent. Enough    ']"
   ]
  },
  {
   "cell_type": "code",
   "execution_count": 28,
   "id": "11645552",
   "metadata": {},
   "outputs": [],
   "source": [
    "df2['alarm_t010'] = np.where(df2['ALARM_01'].str.contains('T010'), 1, 0)\n",
    "df2['alarm_a090'] = np.where(df2['ALARM_01'].str.contains('A090'), 1, 0)"
   ]
  },
  {
   "cell_type": "code",
   "execution_count": 29,
   "id": "cd841f93",
   "metadata": {},
   "outputs": [
    {
     "data": {
      "text/plain": [
       "                                                    354427\n",
       "T01L Lime Build-Up Detected in Heat Exchanger        38808\n",
       "Name: ALARM_02, dtype: int64"
      ]
     },
     "execution_count": 29,
     "metadata": {},
     "output_type": "execute_result"
    }
   ],
   "source": [
    "df2['ALARM_02'].value_counts()"
   ]
  },
  {
   "cell_type": "code",
   "execution_count": 30,
   "id": "aadb3fea",
   "metadata": {},
   "outputs": [
    {
     "name": "stdout",
     "output_type": "stream",
     "text": [
      "<class 'pandas.core.frame.DataFrame'>\n",
      "Int64Index: 393235 entries, 189717 to 957220\n",
      "Data columns (total 7 columns):\n",
      " #   Column      Non-Null Count   Dtype  \n",
      "---  ------      --------------   -----  \n",
      " 0   date_time   393235 non-null  object \n",
      " 1   FAN__SPD    393235 non-null  int32  \n",
      " 2   FAN_CURR    393235 non-null  float64\n",
      " 3   ALARM_01    393235 non-null  object \n",
      " 4   ALARM_02    393235 non-null  object \n",
      " 5   alarm_t010  393235 non-null  int32  \n",
      " 6   alarm_a090  393235 non-null  int32  \n",
      "dtypes: float64(1), int32(3), object(3)\n",
      "memory usage: 19.5+ MB\n"
     ]
    }
   ],
   "source": [
    "df2.info()"
   ]
  },
  {
   "cell_type": "code",
   "execution_count": 31,
   "id": "a10d981c",
   "metadata": {},
   "outputs": [],
   "source": [
    "df2['alarm_t010'] = np.where(df2['ALARM_01'].str.contains('T010'), 1, 0)"
   ]
  },
  {
   "cell_type": "code",
   "execution_count": 32,
   "id": "e75672bb",
   "metadata": {},
   "outputs": [],
   "source": [
    "df2.date_time=pd.to_datetime(df2.date_time, format='%m/%d/%Y %I:%M:%S %p')\n",
    "df2.sort_values(by=['date_time'], inplace=True)\n",
    "df2.reset_index(drop=True, inplace=True)"
   ]
  },
  {
   "cell_type": "code",
   "execution_count": 33,
   "id": "51cd78bb",
   "metadata": {},
   "outputs": [
    {
     "name": "stdout",
     "output_type": "stream",
     "text": [
      "<class 'pandas.core.frame.DataFrame'>\n",
      "RangeIndex: 393235 entries, 0 to 393234\n",
      "Data columns (total 7 columns):\n",
      " #   Column      Non-Null Count   Dtype         \n",
      "---  ------      --------------   -----         \n",
      " 0   date_time   393235 non-null  datetime64[ns]\n",
      " 1   FAN__SPD    393235 non-null  int32         \n",
      " 2   FAN_CURR    393235 non-null  float64       \n",
      " 3   ALARM_01    393235 non-null  object        \n",
      " 4   ALARM_02    393235 non-null  object        \n",
      " 5   alarm_t010  393235 non-null  int32         \n",
      " 6   alarm_a090  393235 non-null  int32         \n",
      "dtypes: datetime64[ns](1), float64(1), int32(3), object(2)\n",
      "memory usage: 16.5+ MB\n"
     ]
    }
   ],
   "source": [
    "df2.info()"
   ]
  },
  {
   "cell_type": "code",
   "execution_count": 34,
   "id": "7b01a699",
   "metadata": {},
   "outputs": [],
   "source": [
    "df2 = df2.drop(['ALARM_01', 'ALARM_02'], axis=1)"
   ]
  },
  {
   "cell_type": "code",
   "execution_count": 35,
   "id": "4c53179f",
   "metadata": {},
   "outputs": [
    {
     "name": "stdout",
     "output_type": "stream",
     "text": [
      "<class 'pandas.core.frame.DataFrame'>\n",
      "RangeIndex: 393235 entries, 0 to 393234\n",
      "Data columns (total 5 columns):\n",
      " #   Column      Non-Null Count   Dtype         \n",
      "---  ------      --------------   -----         \n",
      " 0   date_time   393235 non-null  datetime64[ns]\n",
      " 1   FAN__SPD    393235 non-null  int32         \n",
      " 2   FAN_CURR    393235 non-null  float64       \n",
      " 3   alarm_t010  393235 non-null  int32         \n",
      " 4   alarm_a090  393235 non-null  int32         \n",
      "dtypes: datetime64[ns](1), float64(1), int32(3)\n",
      "memory usage: 10.5 MB\n"
     ]
    }
   ],
   "source": [
    "df2.info()"
   ]
  },
  {
   "cell_type": "code",
   "execution_count": 36,
   "id": "ff5e9d38",
   "metadata": {},
   "outputs": [
    {
     "data": {
      "text/plain": [
       "date_time     0\n",
       "FAN__SPD      0\n",
       "FAN_CURR      0\n",
       "alarm_t010    0\n",
       "alarm_a090    0\n",
       "dtype: int64"
      ]
     },
     "execution_count": 36,
     "metadata": {},
     "output_type": "execute_result"
    }
   ],
   "source": [
    "#checking null values\n",
    "df2.isnull().sum()"
   ]
  },
  {
   "cell_type": "code",
   "execution_count": 37,
   "id": "388d87c0",
   "metadata": {},
   "outputs": [],
   "source": [
    "#df2 = df2.dropna(axis=1)"
   ]
  },
  {
   "cell_type": "code",
   "execution_count": 38,
   "id": "d6627ff2",
   "metadata": {},
   "outputs": [],
   "source": [
    "#df2.dropna(axis=0, how='any')\n",
    "#df2.info()\n",
    "#df2.dropna(subset=df2.select_dtypes(np.floating).columns, how='all')\n",
    "#df2.loc[:,~df2.replace('nan',np.nan).isna().all()]"
   ]
  },
  {
   "cell_type": "code",
   "execution_count": 39,
   "id": "b653f9fd",
   "metadata": {},
   "outputs": [
    {
     "name": "stdout",
     "output_type": "stream",
     "text": [
      "<class 'pandas.core.frame.DataFrame'>\n",
      "RangeIndex: 393235 entries, 0 to 393234\n",
      "Data columns (total 5 columns):\n",
      " #   Column      Non-Null Count   Dtype         \n",
      "---  ------      --------------   -----         \n",
      " 0   date_time   393235 non-null  datetime64[ns]\n",
      " 1   FAN__SPD    393235 non-null  int32         \n",
      " 2   FAN_CURR    393235 non-null  float64       \n",
      " 3   alarm_t010  393235 non-null  int32         \n",
      " 4   alarm_a090  393235 non-null  int32         \n",
      "dtypes: datetime64[ns](1), float64(1), int32(3)\n",
      "memory usage: 10.5 MB\n"
     ]
    }
   ],
   "source": [
    "df2.info()"
   ]
  },
  {
   "cell_type": "code",
   "execution_count": 40,
   "id": "64e1e38b",
   "metadata": {},
   "outputs": [
    {
     "data": {
      "text/plain": [
       "array([305.7, 306.7, 142.2, ...,  57.1, 180.8,  67.8])"
      ]
     },
     "execution_count": 40,
     "metadata": {},
     "output_type": "execute_result"
    }
   ],
   "source": [
    "df2['FAN_CURR'].unique()"
   ]
  },
  {
   "cell_type": "code",
   "execution_count": 41,
   "id": "3014d546",
   "metadata": {},
   "outputs": [
    {
     "data": {
      "image/png": "[encoded data removed]",
      "text/plain": [
       "<Figure size 720x720 with 1 Axes>"
      ]
     },
     "metadata": {
      "needs_background": "light"
     },
     "output_type": "display_data"
    }
   ],
   "source": [
    "# bar chart to see missing visual in df_data\n",
    "plt.figure(figsize = (10,10))\n",
    "\n",
    "df2.isnull().sum().plot(kind = 'barh')\n",
    "plt.title('Number of Missing Values by Column', size = 25)\n",
    "plt.xlabel('Count', size = 25);"
   ]
  },
  {
   "cell_type": "code",
   "execution_count": 42,
   "id": "f1d130c7",
   "metadata": {},
   "outputs": [
    {
     "data": {
      "text/plain": [
       "<AxesSubplot:>"
      ]
     },
     "execution_count": 42,
     "metadata": {},
     "output_type": "execute_result"
    },
    {
     "data": {
      "image/png": "[encoded data removed]",
      "text/plain": [
       "<Figure size 432x288 with 1 Axes>"
      ]
     },
     "metadata": {
      "needs_background": "light"
     },
     "output_type": "display_data"
    }
   ],
   "source": [
    "df2['FAN__SPD'].hist()"
   ]
  },
  {
   "cell_type": "code",
   "execution_count": 43,
   "id": "91894c45",
   "metadata": {},
   "outputs": [
    {
     "data": {
      "text/plain": [
       "<AxesSubplot:>"
      ]
     },
     "execution_count": 43,
     "metadata": {},
     "output_type": "execute_result"
    },
    {
     "data": {
      "image/png": "[encoded data removed]",
      "text/plain": [
       "<Figure size 432x288 with 1 Axes>"
      ]
     },
     "metadata": {
      "needs_background": "light"
     },
     "output_type": "display_data"
    }
   ],
   "source": [
    "df2['FAN_CURR'].hist()"
   ]
  },
  {
   "cell_type": "code",
   "execution_count": 44,
   "id": "53c25064",
   "metadata": {},
   "outputs": [
    {
     "data": {
      "image/png": "[encoded data removed]",
      "text/plain": [
       "<Figure size 720x720 with 2 Axes>"
      ]
     },
     "metadata": {
      "needs_background": "light"
     },
     "output_type": "display_data"
    }
   ],
   "source": [
    "#visual of correlation between fields or columns\n",
    "plt.figure(figsize=(10, 10))\n",
    "mask = np.zeros_like(df2.corr())\n",
    "mask[np.triu_indices_from(mask)] = True\n",
    "sns.heatmap(df2.corr(), mask = mask, square = True, cmap = 'viridis', annot = True, vmin=-1, vmax=1);"
   ]
  },
  {
   "cell_type": "code",
   "execution_count": 45,
   "id": "280d6525",
   "metadata": {},
   "outputs": [
    {
     "data": {
      "image/png": "[encoded data removed]",
      "text/plain": [
       "<Figure size 720x720 with 2 Axes>"
      ]
     },
     "metadata": {
      "needs_background": "light"
     },
     "output_type": "display_data"
    }
   ],
   "source": [
    "#visual of correlation between fields or columns\n",
    "plt.figure(figsize=(10,10))\n",
    "\n",
    "sns.heatmap(df2.corr()[['FAN__SPD']].sort_values('FAN__SPD', ascending=False), annot=True, cmap='viridis');"
   ]
  },
  {
   "cell_type": "code",
   "execution_count": 46,
   "id": "81b8247d",
   "metadata": {},
   "outputs": [
    {
     "data": {
      "text/plain": [
       "Index(['date_time', 'FAN__SPD', 'FAN_CURR', 'alarm_t010', 'alarm_a090'], dtype='object')"
      ]
     },
     "execution_count": 46,
     "metadata": {},
     "output_type": "execute_result"
    }
   ],
   "source": [
    "df2.columns"
   ]
  },
  {
   "cell_type": "code",
   "execution_count": 47,
   "id": "0aadb6de",
   "metadata": {},
   "outputs": [
    {
     "data": {
      "image/png": "[encoded data removed]",
      "text/plain": [
       "<Figure size 720x720 with 2 Axes>"
      ]
     },
     "metadata": {
      "needs_background": "light"
     },
     "output_type": "display_data"
    }
   ],
   "source": [
    "#visual of correlation between fields or columns\n",
    "plt.figure(figsize=(10,10))\n",
    "\n",
    "sns.heatmap(df2.corr()[['FAN_CURR']].sort_values('FAN_CURR', ascending=False), annot=True, cmap='viridis');"
   ]
  },
  {
   "cell_type": "code",
   "execution_count": 48,
   "id": "8f6abe39",
   "metadata": {},
   "outputs": [],
   "source": [
    "#numeric data from df_data\n",
    "df_numeric = df2._get_numeric_data()"
   ]
  },
  {
   "cell_type": "code",
   "execution_count": 49,
   "id": "8033283d",
   "metadata": {},
   "outputs": [
    {
     "data": {
      "image/png": "[encoded data removed]",
      "text/plain": [
       "<Figure size 720x720 with 2 Axes>"
      ]
     },
     "metadata": {
      "needs_background": "light"
     },
     "output_type": "display_data"
    }
   ],
   "source": [
    "plt.figure(figsize=(10, 10))\n",
    "mask = np.zeros_like(df_numeric.corr())\n",
    "mask[np.triu_indices_from(mask)] = True\n",
    "sns.heatmap(df_numeric.corr(), mask = mask, square = True, cmap = 'viridis', annot = True, vmin=-1, vmax=1);\n"
   ]
  },
  {
   "cell_type": "code",
   "execution_count": 50,
   "id": "23e7dcd3",
   "metadata": {},
   "outputs": [
    {
     "data": {
      "image/png": "[encoded data removed]",
      "text/plain": [
       "<Figure size 864x864 with 2 Axes>"
      ]
     },
     "metadata": {
      "needs_background": "light"
     },
     "output_type": "display_data"
    }
   ],
   "source": [
    "plt.figure(figsize=(12,12))\n",
    "\n",
    "sns.heatmap(df_numeric.corr(), annot=True, cmap='viridis');"
   ]
  },
  {
   "cell_type": "code",
   "execution_count": 51,
   "id": "70f3e0f0",
   "metadata": {},
   "outputs": [
    {
     "data": {
      "image/png": "[encoded data removed]",
      "text/plain": [
       "<Figure size 720x576 with 2 Axes>"
      ]
     },
     "metadata": {
      "needs_background": "light"
     },
     "output_type": "display_data"
    }
   ],
   "source": [
    "#visual of correlation between fields or columns\n",
    "plt.figure(figsize=(10,8))\n",
    "\n",
    "sns.heatmap(df_numeric.corr()[['FAN__SPD']].sort_values('FAN__SPD', ascending=False), annot=True, cmap='viridis');"
   ]
  },
  {
   "cell_type": "code",
   "execution_count": 52,
   "id": "cc931bbe",
   "metadata": {},
   "outputs": [
    {
     "data": {
      "image/png": "[encoded data removed]",
      "text/plain": [
       "<Figure size 432x288 with 1 Axes>"
      ]
     },
     "metadata": {
      "needs_background": "light"
     },
     "output_type": "display_data"
    }
   ],
   "source": [
    "#Scatter plot to see relation between CHE_FIGN and FLAMECUR\n",
    "df2.plot(kind='scatter', x = 'FAN__SPD', y='alarm_a090');"
   ]
  },
  {
   "cell_type": "code",
   "execution_count": 53,
   "id": "8563e97e",
   "metadata": {},
   "outputs": [
    {
     "data": {
      "image/png": "[encoded data removed]",
      "text/plain": [
       "<Figure size 432x288 with 1 Axes>"
      ]
     },
     "metadata": {
      "needs_background": "light"
     },
     "output_type": "display_data"
    }
   ],
   "source": [
    "#Scatter plot to see relation between CHE_FIGN and FLAMECUR\n",
    "df2.plot(kind='scatter', x = 'FAN__SPD', y='alarm_t010');"
   ]
  },
  {
   "cell_type": "code",
   "execution_count": 54,
   "id": "a342d3c2",
   "metadata": {},
   "outputs": [
    {
     "data": {
      "image/png": "[encoded data removed]",
      "text/plain": [
       "<Figure size 432x288 with 1 Axes>"
      ]
     },
     "metadata": {
      "needs_background": "light"
     },
     "output_type": "display_data"
    }
   ],
   "source": [
    "#Scatter plot to see relation between CHE_FIGN and CHE_SIGN\n",
    "df2.plot(kind='scatter', x = 'FAN_CURR', y='alarm_a090');"
   ]
  },
  {
   "cell_type": "code",
   "execution_count": 55,
   "id": "fbb7ab2e",
   "metadata": {},
   "outputs": [
    {
     "data": {
      "image/png": "[encoded data removed]",
      "text/plain": [
       "<Figure size 432x288 with 1 Axes>"
      ]
     },
     "metadata": {
      "needs_background": "light"
     },
     "output_type": "display_data"
    }
   ],
   "source": [
    "#Scatter plot to see relation between CHE_FIGN and T_HEALTH\n",
    "df2.plot(kind='scatter', x = 'FAN_CURR', y='alarm_t010');"
   ]
  },
  {
   "cell_type": "code",
   "execution_count": null,
   "id": "2c2697bd",
   "metadata": {},
   "outputs": [],
   "source": []
  },
  {
   "cell_type": "code",
   "execution_count": null,
   "id": "275cefdf",
   "metadata": {},
   "outputs": [],
   "source": []
  },
  {
   "cell_type": "code",
   "execution_count": null,
   "id": "79e03239",
   "metadata": {},
   "outputs": [],
   "source": []
  },
  {
   "cell_type": "code",
   "execution_count": null,
   "id": "9e0af7bf",
   "metadata": {},
   "outputs": [],
   "source": []
  }
 ],
 "metadata": {
  "kernelspec": {
   "display_name": "Python 3",
   "language": "python",
   "name": "python3"
  },
  "language_info": {
   "codemirror_mode": {
    "name": "ipython",
    "version": 3
   },
   "file_extension": ".py",
   "mimetype": "text/x-python",
   "name": "python",
   "nbconvert_exporter": "python",
   "pygments_lexer": "ipython3",
   "version": "3.8.8"
  }
 },
 "nbformat": 4,
 "nbformat_minor": 5
}
