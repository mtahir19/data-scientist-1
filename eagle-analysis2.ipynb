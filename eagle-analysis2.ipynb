{
 "cells": [
  {
   "cell_type": "markdown",
   "id": "1efffd64",
   "metadata": {},
   "source": [
    "# Eagle work for \"NL G1_1433\" \n",
    "### target is Fan speed, fan current, A090 and T010; \n",
    "### what is value of fan current ?????\n",
    "### what factor affecting fan current to change\n",
    "\n",
    "\n",
    "### fan current data is half as compared to other ????\n",
    "\n"
   ]
  },
  {
   "cell_type": "code",
   "execution_count": 1,
   "id": "7eb3f946",
   "metadata": {},
   "outputs": [],
   "source": [
    "# Required Imports \n",
    "import pandas as pd\n",
    "import numpy as np\n",
    "import os\n",
    "import matplotlib.pyplot as plt\n",
    "import seaborn as sns"
   ]
  },
  {
   "cell_type": "code",
   "execution_count": 2,
   "id": "95165620",
   "metadata": {},
   "outputs": [
    {
     "name": "stderr",
     "output_type": "stream",
     "text": [
      "C:\\Users\\muhammad.tahir.ctr\\Anaconda3\\lib\\site-packages\\IPython\\core\\interactiveshell.py:3165: DtypeWarning: Columns (2,3,4,5,6,7,8,9,10,11,12,13,14,18,20,22,23,24,25) have mixed types.Specify dtype option on import or set low_memory=False.\n",
      "  has_raised = await self.run_ast_nodes(code_ast.body, cell_name,\n"
     ]
    }
   ],
   "source": [
    "#creating dataframe df1 of \"NL I09\"\n",
    "df1 = pd.read_csv(\"./Eagle NL units/NL G1_1433.csv\")"
   ]
  },
  {
   "cell_type": "code",
   "execution_count": 3,
   "id": "e0e46d90",
   "metadata": {
    "scrolled": false
   },
   "outputs": [
    {
     "data": {
      "text/html": [
       "<div>\n",
       "<style scoped>\n",
       "    .dataframe tbody tr th:only-of-type {\n",
       "        vertical-align: middle;\n",
       "    }\n",
       "\n",
       "    .dataframe tbody tr th {\n",
       "        vertical-align: top;\n",
       "    }\n",
       "\n",
       "    .dataframe thead th {\n",
       "        text-align: right;\n",
       "    }\n",
       "</style>\n",
       "<table border=\"1\" class=\"dataframe\">\n",
       "  <thead>\n",
       "    <tr style=\"text-align: right;\">\n",
       "      <th></th>\n",
       "      <th>Time</th>\n",
       "      <th>Date</th>\n",
       "      <th>TEMP__IN</th>\n",
       "      <th>TEMP_OUT</th>\n",
       "      <th>TEMPHTX1</th>\n",
       "      <th>WHTRSETP</th>\n",
       "      <th>FLOW_GPM</th>\n",
       "      <th>BYPRATIO</th>\n",
       "      <th>FAN__SPD</th>\n",
       "      <th>BURNSTGE</th>\n",
       "      <th>...</th>\n",
       "      <th>ALARM1 DESC</th>\n",
       "      <th>ALARM2 DESC</th>\n",
       "      <th>ALERT1 CODE</th>\n",
       "      <th>ALERT2 CODE</th>\n",
       "      <th>ALERT1 DESC</th>\n",
       "      <th>ALERT2 DESC</th>\n",
       "      <th>ALARM1 COUNT</th>\n",
       "      <th>ALARM2 COUNT</th>\n",
       "      <th>ALERT1 COUNT</th>\n",
       "      <th>ALERT2 COUNT</th>\n",
       "    </tr>\n",
       "  </thead>\n",
       "  <tbody>\n",
       "    <tr>\n",
       "      <th>0</th>\n",
       "      <td>02:49:45 PM</td>\n",
       "      <td>12/15/2020</td>\n",
       "      <td>46.4</td>\n",
       "      <td>137.1</td>\n",
       "      <td>137.3</td>\n",
       "      <td>140</td>\n",
       "      <td>3.7</td>\n",
       "      <td>0</td>\n",
       "      <td>5399</td>\n",
       "      <td>6</td>\n",
       "      <td>...</td>\n",
       "      <td>NaN</td>\n",
       "      <td>NaN</td>\n",
       "      <td>NaN</td>\n",
       "      <td>NaN</td>\n",
       "      <td>NaN</td>\n",
       "      <td>NaN</td>\n",
       "      <td>NaN</td>\n",
       "      <td>NaN</td>\n",
       "      <td>NaN</td>\n",
       "      <td>NaN</td>\n",
       "    </tr>\n",
       "    <tr>\n",
       "      <th>1</th>\n",
       "      <td>02:50:15 PM</td>\n",
       "      <td>12/15/2020</td>\n",
       "      <td>46.6</td>\n",
       "      <td>137.1</td>\n",
       "      <td>137.3</td>\n",
       "      <td>140</td>\n",
       "      <td>3.8</td>\n",
       "      <td>0</td>\n",
       "      <td>5399</td>\n",
       "      <td>6</td>\n",
       "      <td>...</td>\n",
       "      <td>NaN</td>\n",
       "      <td>NaN</td>\n",
       "      <td>NaN</td>\n",
       "      <td>NaN</td>\n",
       "      <td>NaN</td>\n",
       "      <td>NaN</td>\n",
       "      <td>NaN</td>\n",
       "      <td>NaN</td>\n",
       "      <td>NaN</td>\n",
       "      <td>NaN</td>\n",
       "    </tr>\n",
       "    <tr>\n",
       "      <th>2</th>\n",
       "      <td>02:50:45 PM</td>\n",
       "      <td>12/15/2020</td>\n",
       "      <td>46.6</td>\n",
       "      <td>137.1</td>\n",
       "      <td>137.7</td>\n",
       "      <td>140</td>\n",
       "      <td>3.8</td>\n",
       "      <td>1</td>\n",
       "      <td>5395</td>\n",
       "      <td>6</td>\n",
       "      <td>...</td>\n",
       "      <td>NaN</td>\n",
       "      <td>NaN</td>\n",
       "      <td>NaN</td>\n",
       "      <td>NaN</td>\n",
       "      <td>NaN</td>\n",
       "      <td>NaN</td>\n",
       "      <td>NaN</td>\n",
       "      <td>NaN</td>\n",
       "      <td>NaN</td>\n",
       "      <td>NaN</td>\n",
       "    </tr>\n",
       "    <tr>\n",
       "      <th>3</th>\n",
       "      <td>02:51:15 PM</td>\n",
       "      <td>12/15/2020</td>\n",
       "      <td>46.6</td>\n",
       "      <td>55.0</td>\n",
       "      <td>52.2</td>\n",
       "      <td>140</td>\n",
       "      <td>6.2</td>\n",
       "      <td>0</td>\n",
       "      <td>4743</td>\n",
       "      <td>0</td>\n",
       "      <td>...</td>\n",
       "      <td>NaN</td>\n",
       "      <td>NaN</td>\n",
       "      <td>NaN</td>\n",
       "      <td>NaN</td>\n",
       "      <td>NaN</td>\n",
       "      <td>NaN</td>\n",
       "      <td>NaN</td>\n",
       "      <td>NaN</td>\n",
       "      <td>NaN</td>\n",
       "      <td>NaN</td>\n",
       "    </tr>\n",
       "    <tr>\n",
       "      <th>4</th>\n",
       "      <td>02:51:45 PM</td>\n",
       "      <td>12/15/2020</td>\n",
       "      <td>47.5</td>\n",
       "      <td>61.0</td>\n",
       "      <td>67.3</td>\n",
       "      <td>140</td>\n",
       "      <td>0.0</td>\n",
       "      <td>32</td>\n",
       "      <td>0</td>\n",
       "      <td>0</td>\n",
       "      <td>...</td>\n",
       "      <td>NaN</td>\n",
       "      <td>NaN</td>\n",
       "      <td>NaN</td>\n",
       "      <td>NaN</td>\n",
       "      <td>NaN</td>\n",
       "      <td>NaN</td>\n",
       "      <td>NaN</td>\n",
       "      <td>NaN</td>\n",
       "      <td>NaN</td>\n",
       "      <td>NaN</td>\n",
       "    </tr>\n",
       "  </tbody>\n",
       "</table>\n",
       "<p>5 rows × 30 columns</p>\n",
       "</div>"
      ],
      "text/plain": [
       "          Time        Date TEMP__IN TEMP_OUT TEMPHTX1 WHTRSETP FLOW_GPM  \\\n",
       "0  02:49:45 PM  12/15/2020     46.4    137.1    137.3      140      3.7   \n",
       "1  02:50:15 PM  12/15/2020     46.6    137.1    137.3      140      3.8   \n",
       "2  02:50:45 PM  12/15/2020     46.6    137.1    137.7      140      3.8   \n",
       "3  02:51:15 PM  12/15/2020     46.6     55.0     52.2      140      6.2   \n",
       "4  02:51:45 PM  12/15/2020     47.5     61.0     67.3      140      0.0   \n",
       "\n",
       "  BYPRATIO FAN__SPD BURNSTGE  ... ALARM1 DESC ALARM2 DESC ALERT1 CODE  \\\n",
       "0        0     5399        6  ...         NaN         NaN         NaN   \n",
       "1        0     5399        6  ...         NaN         NaN         NaN   \n",
       "2        1     5395        6  ...         NaN         NaN         NaN   \n",
       "3        0     4743        0  ...         NaN         NaN         NaN   \n",
       "4       32        0        0  ...         NaN         NaN         NaN   \n",
       "\n",
       "  ALERT2 CODE ALERT1 DESC  ALERT2 DESC  ALARM1 COUNT ALARM2 COUNT  \\\n",
       "0         NaN         NaN          NaN           NaN          NaN   \n",
       "1         NaN         NaN          NaN           NaN          NaN   \n",
       "2         NaN         NaN          NaN           NaN          NaN   \n",
       "3         NaN         NaN          NaN           NaN          NaN   \n",
       "4         NaN         NaN          NaN           NaN          NaN   \n",
       "\n",
       "  ALERT1 COUNT  ALERT2 COUNT  \n",
       "0          NaN           NaN  \n",
       "1          NaN           NaN  \n",
       "2          NaN           NaN  \n",
       "3          NaN           NaN  \n",
       "4          NaN           NaN  \n",
       "\n",
       "[5 rows x 30 columns]"
      ]
     },
     "execution_count": 3,
     "metadata": {},
     "output_type": "execute_result"
    }
   ],
   "source": [
    "#readong first 5 rows of \"NL I09\"\n",
    "df1.head()"
   ]
  },
  {
   "cell_type": "code",
   "execution_count": 4,
   "id": "1a1440e0",
   "metadata": {},
   "outputs": [
    {
     "data": {
      "text/html": [
       "<div>\n",
       "<style scoped>\n",
       "    .dataframe tbody tr th:only-of-type {\n",
       "        vertical-align: middle;\n",
       "    }\n",
       "\n",
       "    .dataframe tbody tr th {\n",
       "        vertical-align: top;\n",
       "    }\n",
       "\n",
       "    .dataframe thead th {\n",
       "        text-align: right;\n",
       "    }\n",
       "</style>\n",
       "<table border=\"1\" class=\"dataframe\">\n",
       "  <thead>\n",
       "    <tr style=\"text-align: right;\">\n",
       "      <th></th>\n",
       "      <th>Time</th>\n",
       "      <th>Date</th>\n",
       "      <th>TEMP__IN</th>\n",
       "      <th>TEMP_OUT</th>\n",
       "      <th>TEMPHTX1</th>\n",
       "      <th>WHTRSETP</th>\n",
       "      <th>FLOW_GPM</th>\n",
       "      <th>BYPRATIO</th>\n",
       "      <th>FAN__SPD</th>\n",
       "      <th>BURNSTGE</th>\n",
       "      <th>...</th>\n",
       "      <th>ALARM1 DESC</th>\n",
       "      <th>ALARM2 DESC</th>\n",
       "      <th>ALERT1 CODE</th>\n",
       "      <th>ALERT2 CODE</th>\n",
       "      <th>ALERT1 DESC</th>\n",
       "      <th>ALERT2 DESC</th>\n",
       "      <th>ALARM1 COUNT</th>\n",
       "      <th>ALARM2 COUNT</th>\n",
       "      <th>ALERT1 COUNT</th>\n",
       "      <th>ALERT2 COUNT</th>\n",
       "    </tr>\n",
       "  </thead>\n",
       "  <tbody>\n",
       "    <tr>\n",
       "      <th>851140</th>\n",
       "      <td>09:26:02 AM</td>\n",
       "      <td>7/14/2021</td>\n",
       "      <td>NaN</td>\n",
       "      <td>NaN</td>\n",
       "      <td>NaN</td>\n",
       "      <td>NaN</td>\n",
       "      <td>NaN</td>\n",
       "      <td>NaN</td>\n",
       "      <td>NaN</td>\n",
       "      <td>NaN</td>\n",
       "      <td>...</td>\n",
       "      <td>NaN</td>\n",
       "      <td>NaN</td>\n",
       "      <td>NaN</td>\n",
       "      <td>NaN</td>\n",
       "      <td>NaN</td>\n",
       "      <td>NaN</td>\n",
       "      <td>NaN</td>\n",
       "      <td>NaN</td>\n",
       "      <td>NaN</td>\n",
       "      <td>NaN</td>\n",
       "    </tr>\n",
       "    <tr>\n",
       "      <th>851141</th>\n",
       "      <td>09:27:11 AM</td>\n",
       "      <td>7/14/2021</td>\n",
       "      <td>NaN</td>\n",
       "      <td>NaN</td>\n",
       "      <td>NaN</td>\n",
       "      <td>NaN</td>\n",
       "      <td>NaN</td>\n",
       "      <td>NaN</td>\n",
       "      <td>NaN</td>\n",
       "      <td>NaN</td>\n",
       "      <td>...</td>\n",
       "      <td>NaN</td>\n",
       "      <td>NaN</td>\n",
       "      <td>NaN</td>\n",
       "      <td>NaN</td>\n",
       "      <td>NaN</td>\n",
       "      <td>NaN</td>\n",
       "      <td>NaN</td>\n",
       "      <td>NaN</td>\n",
       "      <td>NaN</td>\n",
       "      <td>NaN</td>\n",
       "    </tr>\n",
       "    <tr>\n",
       "      <th>851142</th>\n",
       "      <td>09:27:27 AM</td>\n",
       "      <td>7/14/2021</td>\n",
       "      <td>NaN</td>\n",
       "      <td>NaN</td>\n",
       "      <td>NaN</td>\n",
       "      <td>NaN</td>\n",
       "      <td>NaN</td>\n",
       "      <td>NaN</td>\n",
       "      <td>NaN</td>\n",
       "      <td>NaN</td>\n",
       "      <td>...</td>\n",
       "      <td>NaN</td>\n",
       "      <td>NaN</td>\n",
       "      <td>NaN</td>\n",
       "      <td>NaN</td>\n",
       "      <td>NaN</td>\n",
       "      <td>NaN</td>\n",
       "      <td>NaN</td>\n",
       "      <td>NaN</td>\n",
       "      <td>NaN</td>\n",
       "      <td>NaN</td>\n",
       "    </tr>\n",
       "  </tbody>\n",
       "</table>\n",
       "<p>3 rows × 30 columns</p>\n",
       "</div>"
      ],
      "text/plain": [
       "               Time       Date TEMP__IN TEMP_OUT TEMPHTX1 WHTRSETP FLOW_GPM  \\\n",
       "851140  09:26:02 AM  7/14/2021      NaN      NaN      NaN      NaN      NaN   \n",
       "851141  09:27:11 AM  7/14/2021      NaN      NaN      NaN      NaN      NaN   \n",
       "851142  09:27:27 AM  7/14/2021      NaN      NaN      NaN      NaN      NaN   \n",
       "\n",
       "       BYPRATIO FAN__SPD BURNSTGE  ... ALARM1 DESC ALARM2 DESC ALERT1 CODE  \\\n",
       "851140      NaN      NaN      NaN  ...         NaN         NaN         NaN   \n",
       "851141      NaN      NaN      NaN  ...         NaN         NaN         NaN   \n",
       "851142      NaN      NaN      NaN  ...         NaN         NaN         NaN   \n",
       "\n",
       "       ALERT2 CODE ALERT1 DESC  ALERT2 DESC  ALARM1 COUNT ALARM2 COUNT  \\\n",
       "851140         NaN         NaN          NaN           NaN          NaN   \n",
       "851141         NaN         NaN          NaN           NaN          NaN   \n",
       "851142         NaN         NaN          NaN           NaN          NaN   \n",
       "\n",
       "       ALERT1 COUNT  ALERT2 COUNT  \n",
       "851140          NaN           NaN  \n",
       "851141          NaN           NaN  \n",
       "851142          NaN           NaN  \n",
       "\n",
       "[3 rows x 30 columns]"
      ]
     },
     "execution_count": 4,
     "metadata": {},
     "output_type": "execute_result"
    }
   ],
   "source": [
    "df1.loc[df1.FAN__SPD.isnull()]"
   ]
  },
  {
   "cell_type": "code",
   "execution_count": 5,
   "id": "cd8f7dcc",
   "metadata": {},
   "outputs": [],
   "source": [
    "df1 = df1.loc[df1.FAN__SPD.notnull()]"
   ]
  },
  {
   "cell_type": "code",
   "execution_count": 6,
   "id": "c6a0bfbc",
   "metadata": {
    "scrolled": false
   },
   "outputs": [
    {
     "name": "stdout",
     "output_type": "stream",
     "text": [
      "<class 'pandas.core.frame.DataFrame'>\n",
      "Int64Index: 1170012 entries, 0 to 1170014\n",
      "Data columns (total 30 columns):\n",
      " #   Column        Non-Null Count    Dtype  \n",
      "---  ------        --------------    -----  \n",
      " 0   Time          1170012 non-null  object \n",
      " 1   Date          1170012 non-null  object \n",
      " 2   TEMP__IN      1170012 non-null  object \n",
      " 3   TEMP_OUT      1170012 non-null  object \n",
      " 4   TEMPHTX1      1170012 non-null  object \n",
      " 5   WHTRSETP      1167409 non-null  object \n",
      " 6   FLOW_GPM      1170012 non-null  object \n",
      " 7   BYPRATIO      1170012 non-null  object \n",
      " 8   FAN__SPD      1170012 non-null  object \n",
      " 9   BURNSTGE      941247 non-null   object \n",
      " 10  FLM_ROD1      826423 non-null   object \n",
      " 11  ALARM_01      748373 non-null   object \n",
      " 12  ALARM_02      748373 non-null   object \n",
      " 13  FAN_CURR      710810 non-null   object \n",
      " 14  IGN_FIGN      710810 non-null   object \n",
      " 15  INSTANCE      1170012 non-null  int64  \n",
      " 16  Unit_Name     1170012 non-null  int64  \n",
      " 17  Station       1170012 non-null  object \n",
      " 18  ALARM1 CODE   38810 non-null    object \n",
      " 19  ALARM2 CODE   0 non-null        float64\n",
      " 20  ALARM1 DESC   38810 non-null    object \n",
      " 21  ALARM2 DESC   0 non-null        float64\n",
      " 22  ALERT1 CODE   391727 non-null   object \n",
      " 23  ALERT2 CODE   38810 non-null    object \n",
      " 24  ALERT1 DESC   391727 non-null   object \n",
      " 25  ALERT2 DESC   38810 non-null    object \n",
      " 26  ALARM1 COUNT  38810 non-null    float64\n",
      " 27  ALARM2 COUNT  0 non-null        float64\n",
      " 28  ALERT1 COUNT  391727 non-null   float64\n",
      " 29  ALERT2 COUNT  38810 non-null    float64\n",
      "dtypes: float64(6), int64(2), object(22)\n",
      "memory usage: 276.7+ MB\n"
     ]
    }
   ],
   "source": [
    "# looking at null values and data types of each column for \"NL I09\"\n",
    "df1.info()"
   ]
  },
  {
   "cell_type": "code",
   "execution_count": 7,
   "id": "31516631",
   "metadata": {},
   "outputs": [
    {
     "name": "stdout",
     "output_type": "stream",
     "text": [
      "<class 'pandas.core.frame.DataFrame'>\n",
      "Int64Index: 1170012 entries, 0 to 1170014\n",
      "Data columns (total 15 columns):\n",
      " #   Column    Non-Null Count    Dtype \n",
      "---  ------    --------------    ----- \n",
      " 0   Time      1170012 non-null  object\n",
      " 1   Date      1170012 non-null  object\n",
      " 2   TEMP__IN  1170012 non-null  object\n",
      " 3   TEMP_OUT  1170012 non-null  object\n",
      " 4   TEMPHTX1  1170012 non-null  object\n",
      " 5   WHTRSETP  1167409 non-null  object\n",
      " 6   FLOW_GPM  1170012 non-null  object\n",
      " 7   BYPRATIO  1170012 non-null  object\n",
      " 8   FAN__SPD  1170012 non-null  object\n",
      " 9   BURNSTGE  941247 non-null   object\n",
      " 10  FLM_ROD1  826423 non-null   object\n",
      " 11  ALARM_01  748373 non-null   object\n",
      " 12  ALARM_02  748373 non-null   object\n",
      " 13  FAN_CURR  710810 non-null   object\n",
      " 14  IGN_FIGN  710810 non-null   object\n",
      "dtypes: object(15)\n",
      "memory usage: 142.8+ MB\n"
     ]
    }
   ],
   "source": [
    "df3 = df1[['Time', 'Date', 'TEMP__IN', 'TEMP_OUT', 'TEMPHTX1', 'WHTRSETP',\n",
    "       'FLOW_GPM', 'BYPRATIO', 'FAN__SPD', 'BURNSTGE', 'FLM_ROD1', 'ALARM_01',\n",
    "       'ALARM_02', 'FAN_CURR', 'IGN_FIGN']]\n",
    "df3.info()"
   ]
  },
  {
   "cell_type": "code",
   "execution_count": 8,
   "id": "e1082700",
   "metadata": {},
   "outputs": [
    {
     "data": {
      "text/plain": [
       "Index(['Time', 'Date', 'TEMP__IN', 'TEMP_OUT', 'TEMPHTX1', 'WHTRSETP',\n",
       "       'FLOW_GPM', 'BYPRATIO', 'FAN__SPD', 'BURNSTGE', 'FLM_ROD1', 'ALARM_01',\n",
       "       'ALARM_02', 'FAN_CURR', 'IGN_FIGN'],\n",
       "      dtype='object')"
      ]
     },
     "execution_count": 8,
     "metadata": {},
     "output_type": "execute_result"
    }
   ],
   "source": [
    "df3.columns"
   ]
  },
  {
   "cell_type": "code",
   "execution_count": 9,
   "id": "f2e0ea22",
   "metadata": {},
   "outputs": [
    {
     "name": "stderr",
     "output_type": "stream",
     "text": [
      "<ipython-input-9-011325a8cfc6>:1: SettingWithCopyWarning: \n",
      "A value is trying to be set on a copy of a slice from a DataFrame.\n",
      "Try using .loc[row_indexer,col_indexer] = value instead\n",
      "\n",
      "See the caveats in the documentation: https://pandas.pydata.org/pandas-docs/stable/user_guide/indexing.html#returning-a-view-versus-a-copy\n",
      "  df3['date_time'] = df1['Date'] + ' ' + df1['Time']\n"
     ]
    }
   ],
   "source": [
    "df3['date_time'] = df1['Date'] + ' ' + df1['Time']"
   ]
  },
  {
   "cell_type": "code",
   "execution_count": 10,
   "id": "6632b6a6",
   "metadata": {},
   "outputs": [],
   "source": [
    "#df1['Date/Time'].head()"
   ]
  },
  {
   "cell_type": "code",
   "execution_count": 11,
   "id": "42d0cea2",
   "metadata": {},
   "outputs": [],
   "source": [
    "#df1['Date/Time'] = pd.to_datetime(df1['Date/Time'])"
   ]
  },
  {
   "cell_type": "code",
   "execution_count": 12,
   "id": "4b0bb69f",
   "metadata": {},
   "outputs": [],
   "source": [
    "#df1['Date/Time'].head()"
   ]
  },
  {
   "cell_type": "code",
   "execution_count": 13,
   "id": "a7ea9947",
   "metadata": {},
   "outputs": [
    {
     "name": "stdout",
     "output_type": "stream",
     "text": [
      "<class 'pandas.core.frame.DataFrame'>\n",
      "Int64Index: 1170012 entries, 0 to 1170014\n",
      "Data columns (total 16 columns):\n",
      " #   Column     Non-Null Count    Dtype \n",
      "---  ------     --------------    ----- \n",
      " 0   Time       1170012 non-null  object\n",
      " 1   Date       1170012 non-null  object\n",
      " 2   TEMP__IN   1170012 non-null  object\n",
      " 3   TEMP_OUT   1170012 non-null  object\n",
      " 4   TEMPHTX1   1170012 non-null  object\n",
      " 5   WHTRSETP   1167409 non-null  object\n",
      " 6   FLOW_GPM   1170012 non-null  object\n",
      " 7   BYPRATIO   1170012 non-null  object\n",
      " 8   FAN__SPD   1170012 non-null  object\n",
      " 9   BURNSTGE   941247 non-null   object\n",
      " 10  FLM_ROD1   826423 non-null   object\n",
      " 11  ALARM_01   748373 non-null   object\n",
      " 12  ALARM_02   748373 non-null   object\n",
      " 13  FAN_CURR   710810 non-null   object\n",
      " 14  IGN_FIGN   710810 non-null   object\n",
      " 15  date_time  1170012 non-null  object\n",
      "dtypes: object(16)\n",
      "memory usage: 151.8+ MB\n"
     ]
    }
   ],
   "source": [
    "#df2 = df1[['date_time', 'FAN__SPD', 'FAN_CURR', 'ALARM_01', 'ALARM_02']]\n",
    "df3.info()"
   ]
  },
  {
   "cell_type": "code",
   "execution_count": 14,
   "id": "d546b504",
   "metadata": {},
   "outputs": [
    {
     "data": {
      "text/plain": [
       "array([nan, '---', 'T010 Warning - Blower Motor Not Vent. Enough    ',\n",
       "       'T01L Lime Build-Up Detected in Heat Exchanger   ',\n",
       "       '                                                ',\n",
       "       'A011 Flame Rod Does Not Detect Flame            ',\n",
       "       'A017 Water Leak Detected                        ',\n",
       "       'A090 Blockage in Venting Detected               '], dtype=object)"
      ]
     },
     "execution_count": 14,
     "metadata": {},
     "output_type": "execute_result"
    }
   ],
   "source": [
    "df3['ALARM_01'].unique()"
   ]
  },
  {
   "cell_type": "code",
   "execution_count": 15,
   "id": "d1fe09e2",
   "metadata": {},
   "outputs": [
    {
     "data": {
      "text/plain": [
       "T01L Lime Build-Up Detected in Heat Exchanger       321006\n",
       "---                                                 317575\n",
       "T010 Warning - Blower Motor Not Vent. Enough         70721\n",
       "A090 Blockage in Venting Detected                    38668\n",
       "                                                       261\n",
       "A017 Water Leak Detected                               139\n",
       "A011 Flame Rod Does Not Detect Flame                     3\n",
       "Name: ALARM_01, dtype: int64"
      ]
     },
     "execution_count": 15,
     "metadata": {},
     "output_type": "execute_result"
    }
   ],
   "source": [
    "df3['ALARM_01'].value_counts()"
   ]
  },
  {
   "cell_type": "code",
   "execution_count": 16,
   "id": "bd232fd1",
   "metadata": {},
   "outputs": [],
   "source": [
    "df3 = df3.dropna()"
   ]
  },
  {
   "cell_type": "code",
   "execution_count": 17,
   "id": "39ec8c4f",
   "metadata": {},
   "outputs": [
    {
     "name": "stdout",
     "output_type": "stream",
     "text": [
      "<class 'pandas.core.frame.DataFrame'>\n",
      "Int64Index: 708207 entries, 189717 to 1170014\n",
      "Data columns (total 16 columns):\n",
      " #   Column     Non-Null Count   Dtype \n",
      "---  ------     --------------   ----- \n",
      " 0   Time       708207 non-null  object\n",
      " 1   Date       708207 non-null  object\n",
      " 2   TEMP__IN   708207 non-null  object\n",
      " 3   TEMP_OUT   708207 non-null  object\n",
      " 4   TEMPHTX1   708207 non-null  object\n",
      " 5   WHTRSETP   708207 non-null  object\n",
      " 6   FLOW_GPM   708207 non-null  object\n",
      " 7   BYPRATIO   708207 non-null  object\n",
      " 8   FAN__SPD   708207 non-null  object\n",
      " 9   BURNSTGE   708207 non-null  object\n",
      " 10  FLM_ROD1   708207 non-null  object\n",
      " 11  ALARM_01   708207 non-null  object\n",
      " 12  ALARM_02   708207 non-null  object\n",
      " 13  FAN_CURR   708207 non-null  object\n",
      " 14  IGN_FIGN   708207 non-null  object\n",
      " 15  date_time  708207 non-null  object\n",
      "dtypes: object(16)\n",
      "memory usage: 91.9+ MB\n"
     ]
    }
   ],
   "source": [
    "df3.info()"
   ]
  },
  {
   "cell_type": "code",
   "execution_count": 18,
   "id": "5226c823",
   "metadata": {},
   "outputs": [
    {
     "data": {
      "text/plain": [
       "---                                                 314972\n",
       "T01L Lime Build-Up Detected in Heat Exchanger       310790\n",
       "T010 Warning - Blower Motor Not Vent. Enough         43376\n",
       "A090 Blockage in Venting Detected                    38668\n",
       "                                                       261\n",
       "A017 Water Leak Detected                               139\n",
       "A011 Flame Rod Does Not Detect Flame                     1\n",
       "Name: ALARM_01, dtype: int64"
      ]
     },
     "execution_count": 18,
     "metadata": {},
     "output_type": "execute_result"
    }
   ],
   "source": [
    "df3['ALARM_01'].value_counts()"
   ]
  },
  {
   "cell_type": "code",
   "execution_count": 19,
   "id": "fc2368a4",
   "metadata": {},
   "outputs": [
    {
     "data": {
      "text/plain": [
       "---     314972\n",
       "0        92692\n",
       "5399     59575\n",
       "0        55292\n",
       "5403     33457\n",
       "         ...  \n",
       "401          1\n",
       "1418         1\n",
       "399          1\n",
       "1415         1\n",
       "359          1\n",
       "Name: FAN__SPD, Length: 4519, dtype: int64"
      ]
     },
     "execution_count": 19,
     "metadata": {},
     "output_type": "execute_result"
    }
   ],
   "source": [
    "df3['FAN__SPD'].value_counts()"
   ]
  },
  {
   "cell_type": "code",
   "execution_count": 20,
   "id": "4a194684",
   "metadata": {},
   "outputs": [],
   "source": [
    "df3.drop(df3[df3['FAN__SPD']=='---'].index, inplace = True)"
   ]
  },
  {
   "cell_type": "code",
   "execution_count": 21,
   "id": "4c9bd86b",
   "metadata": {},
   "outputs": [],
   "source": [
    "df3['FAN__SPD'] = df3['FAN__SPD'].astype(int)"
   ]
  },
  {
   "cell_type": "code",
   "execution_count": 22,
   "id": "f79eb1bd",
   "metadata": {},
   "outputs": [
    {
     "data": {
      "text/plain": [
       "dtype('int32')"
      ]
     },
     "execution_count": 22,
     "metadata": {},
     "output_type": "execute_result"
    }
   ],
   "source": [
    "df3['FAN__SPD'].dtype"
   ]
  },
  {
   "cell_type": "code",
   "execution_count": 23,
   "id": "419efe89",
   "metadata": {},
   "outputs": [
    {
     "data": {
      "text/plain": [
       "22.9     30194\n",
       "24.0     15090\n",
       "23.9     13550\n",
       "27.2     13089\n",
       "23.9      9097\n",
       "         ...  \n",
       "252.4        1\n",
       "166.9        1\n",
       "172.1        1\n",
       "111.8        1\n",
       "236.2        1\n",
       "Name: FAN_CURR, Length: 3873, dtype: int64"
      ]
     },
     "execution_count": 23,
     "metadata": {},
     "output_type": "execute_result"
    }
   ],
   "source": [
    "df3['FAN_CURR'].value_counts()"
   ]
  },
  {
   "cell_type": "code",
   "execution_count": 24,
   "id": "b3e54af1",
   "metadata": {},
   "outputs": [],
   "source": [
    "df3['FAN_CURR'] = df3['FAN_CURR'].astype(float)"
   ]
  },
  {
   "cell_type": "code",
   "execution_count": 25,
   "id": "1d875ebd",
   "metadata": {},
   "outputs": [
    {
     "data": {
      "text/plain": [
       "dtype('float64')"
      ]
     },
     "execution_count": 25,
     "metadata": {},
     "output_type": "execute_result"
    }
   ],
   "source": [
    "df3['FAN_CURR'].dtype"
   ]
  },
  {
   "cell_type": "code",
   "execution_count": 26,
   "id": "55336c99",
   "metadata": {},
   "outputs": [
    {
     "data": {
      "text/plain": [
       "T01L Lime Build-Up Detected in Heat Exchanger       310790\n",
       "T010 Warning - Blower Motor Not Vent. Enough         43376\n",
       "A090 Blockage in Venting Detected                    38668\n",
       "                                                       261\n",
       "A017 Water Leak Detected                               139\n",
       "A011 Flame Rod Does Not Detect Flame                     1\n",
       "Name: ALARM_01, dtype: int64"
      ]
     },
     "execution_count": 26,
     "metadata": {},
     "output_type": "execute_result"
    }
   ],
   "source": [
    "df3['ALARM_01'].value_counts()"
   ]
  },
  {
   "cell_type": "code",
   "execution_count": 27,
   "id": "827fa718",
   "metadata": {},
   "outputs": [
    {
     "data": {
      "text/plain": [
       "array(['T010 Warning - Blower Motor Not Vent. Enough    ',\n",
       "       'T01L Lime Build-Up Detected in Heat Exchanger   ',\n",
       "       '                                                ',\n",
       "       'A011 Flame Rod Does Not Detect Flame            ',\n",
       "       'A017 Water Leak Detected                        ',\n",
       "       'A090 Blockage in Venting Detected               '], dtype=object)"
      ]
     },
     "execution_count": 27,
     "metadata": {},
     "output_type": "execute_result"
    }
   ],
   "source": [
    "df3['ALARM_01'].unique()"
   ]
  },
  {
   "cell_type": "code",
   "execution_count": 28,
   "id": "3750507c",
   "metadata": {},
   "outputs": [],
   "source": [
    "#df2['alarm_t010'] = df2[df2['ALARM_01']=='T010 Warning - Blower Motor Not Vent. Enough    ']"
   ]
  },
  {
   "cell_type": "code",
   "execution_count": 29,
   "id": "0e6fc8c6",
   "metadata": {},
   "outputs": [],
   "source": [
    "#display 1 when the alarm is present in ALARM_01 and 0 if it is absent\n",
    "df3['alarm_t010'] = np.where(df3['ALARM_01'].str.contains('T010'), 1, 0)\n",
    "df3['alarm_a090'] = np.where(df3['ALARM_01'].str.contains('A090'), 1, 0)\n",
    "#display 1 only at the time the alarm activates (show only the first iteration of the alarm)\n",
    "df3['alarm_t010'] = np.where((df3.alarm_t010==1) & (df3.alarm_t010.shift()==0), 1, 0)\n",
    "df3['alarm_a090'] = np.where((df3.alarm_a090==1) & (df3.alarm_a090.shift()==0), 1, 0)"
   ]
  },
  {
   "cell_type": "code",
   "execution_count": 30,
   "id": "8c85632a",
   "metadata": {},
   "outputs": [
    {
     "data": {
      "text/plain": [
       "                                                    354427\n",
       "T01L Lime Build-Up Detected in Heat Exchanger        38808\n",
       "Name: ALARM_02, dtype: int64"
      ]
     },
     "execution_count": 30,
     "metadata": {},
     "output_type": "execute_result"
    }
   ],
   "source": [
    "df3['ALARM_02'].value_counts()"
   ]
  },
  {
   "cell_type": "code",
   "execution_count": 31,
   "id": "9c1dab98",
   "metadata": {},
   "outputs": [
    {
     "name": "stdout",
     "output_type": "stream",
     "text": [
      "<class 'pandas.core.frame.DataFrame'>\n",
      "Int64Index: 393235 entries, 189717 to 957220\n",
      "Data columns (total 18 columns):\n",
      " #   Column      Non-Null Count   Dtype  \n",
      "---  ------      --------------   -----  \n",
      " 0   Time        393235 non-null  object \n",
      " 1   Date        393235 non-null  object \n",
      " 2   TEMP__IN    393235 non-null  object \n",
      " 3   TEMP_OUT    393235 non-null  object \n",
      " 4   TEMPHTX1    393235 non-null  object \n",
      " 5   WHTRSETP    393235 non-null  object \n",
      " 6   FLOW_GPM    393235 non-null  object \n",
      " 7   BYPRATIO    393235 non-null  object \n",
      " 8   FAN__SPD    393235 non-null  int32  \n",
      " 9   BURNSTGE    393235 non-null  object \n",
      " 10  FLM_ROD1    393235 non-null  object \n",
      " 11  ALARM_01    393235 non-null  object \n",
      " 12  ALARM_02    393235 non-null  object \n",
      " 13  FAN_CURR    393235 non-null  float64\n",
      " 14  IGN_FIGN    393235 non-null  object \n",
      " 15  date_time   393235 non-null  object \n",
      " 16  alarm_t010  393235 non-null  int32  \n",
      " 17  alarm_a090  393235 non-null  int32  \n",
      "dtypes: float64(1), int32(3), object(14)\n",
      "memory usage: 52.5+ MB\n"
     ]
    }
   ],
   "source": [
    "df3.info()"
   ]
  },
  {
   "cell_type": "code",
   "execution_count": 32,
   "id": "0db1a394",
   "metadata": {},
   "outputs": [],
   "source": [
    "df3['alarm_t010'] = np.where(df3['ALARM_01'].str.contains('T010'), 1, 0)"
   ]
  },
  {
   "cell_type": "code",
   "execution_count": 33,
   "id": "755eddb5",
   "metadata": {},
   "outputs": [],
   "source": [
    "df3.date_time=pd.to_datetime(df3.date_time, format='%m/%d/%Y %I:%M:%S %p')\n",
    "df3.sort_values(by=['date_time'], inplace=True)\n",
    "df3.reset_index(drop=True, inplace=True)"
   ]
  },
  {
   "cell_type": "code",
   "execution_count": 34,
   "id": "2d3db427",
   "metadata": {},
   "outputs": [
    {
     "name": "stdout",
     "output_type": "stream",
     "text": [
      "<class 'pandas.core.frame.DataFrame'>\n",
      "RangeIndex: 393235 entries, 0 to 393234\n",
      "Data columns (total 18 columns):\n",
      " #   Column      Non-Null Count   Dtype         \n",
      "---  ------      --------------   -----         \n",
      " 0   Time        393235 non-null  object        \n",
      " 1   Date        393235 non-null  object        \n",
      " 2   TEMP__IN    393235 non-null  object        \n",
      " 3   TEMP_OUT    393235 non-null  object        \n",
      " 4   TEMPHTX1    393235 non-null  object        \n",
      " 5   WHTRSETP    393235 non-null  object        \n",
      " 6   FLOW_GPM    393235 non-null  object        \n",
      " 7   BYPRATIO    393235 non-null  object        \n",
      " 8   FAN__SPD    393235 non-null  int32         \n",
      " 9   BURNSTGE    393235 non-null  object        \n",
      " 10  FLM_ROD1    393235 non-null  object        \n",
      " 11  ALARM_01    393235 non-null  object        \n",
      " 12  ALARM_02    393235 non-null  object        \n",
      " 13  FAN_CURR    393235 non-null  float64       \n",
      " 14  IGN_FIGN    393235 non-null  object        \n",
      " 15  date_time   393235 non-null  datetime64[ns]\n",
      " 16  alarm_t010  393235 non-null  int32         \n",
      " 17  alarm_a090  393235 non-null  int32         \n",
      "dtypes: datetime64[ns](1), float64(1), int32(3), object(13)\n",
      "memory usage: 49.5+ MB\n"
     ]
    }
   ],
   "source": [
    "df3.info()"
   ]
  },
  {
   "cell_type": "code",
   "execution_count": 35,
   "id": "e7370afa",
   "metadata": {},
   "outputs": [],
   "source": [
    "df3 = df3.drop(['ALARM_01', 'ALARM_02', 'Date', 'Time'], axis=1)"
   ]
  },
  {
   "cell_type": "code",
   "execution_count": 36,
   "id": "5b1db8f5",
   "metadata": {},
   "outputs": [
    {
     "name": "stdout",
     "output_type": "stream",
     "text": [
      "<class 'pandas.core.frame.DataFrame'>\n",
      "RangeIndex: 393235 entries, 0 to 393234\n",
      "Data columns (total 14 columns):\n",
      " #   Column      Non-Null Count   Dtype         \n",
      "---  ------      --------------   -----         \n",
      " 0   TEMP__IN    393235 non-null  object        \n",
      " 1   TEMP_OUT    393235 non-null  object        \n",
      " 2   TEMPHTX1    393235 non-null  object        \n",
      " 3   WHTRSETP    393235 non-null  object        \n",
      " 4   FLOW_GPM    393235 non-null  object        \n",
      " 5   BYPRATIO    393235 non-null  object        \n",
      " 6   FAN__SPD    393235 non-null  int32         \n",
      " 7   BURNSTGE    393235 non-null  object        \n",
      " 8   FLM_ROD1    393235 non-null  object        \n",
      " 9   FAN_CURR    393235 non-null  float64       \n",
      " 10  IGN_FIGN    393235 non-null  object        \n",
      " 11  date_time   393235 non-null  datetime64[ns]\n",
      " 12  alarm_t010  393235 non-null  int32         \n",
      " 13  alarm_a090  393235 non-null  int32         \n",
      "dtypes: datetime64[ns](1), float64(1), int32(3), object(9)\n",
      "memory usage: 37.5+ MB\n"
     ]
    }
   ],
   "source": [
    "df3.info()"
   ]
  },
  {
   "cell_type": "code",
   "execution_count": 37,
   "id": "ff5e9d38",
   "metadata": {},
   "outputs": [
    {
     "data": {
      "text/plain": [
       "TEMP__IN      0\n",
       "TEMP_OUT      0\n",
       "TEMPHTX1      0\n",
       "WHTRSETP      0\n",
       "FLOW_GPM      0\n",
       "BYPRATIO      0\n",
       "FAN__SPD      0\n",
       "BURNSTGE      0\n",
       "FLM_ROD1      0\n",
       "FAN_CURR      0\n",
       "IGN_FIGN      0\n",
       "date_time     0\n",
       "alarm_t010    0\n",
       "alarm_a090    0\n",
       "dtype: int64"
      ]
     },
     "execution_count": 37,
     "metadata": {},
     "output_type": "execute_result"
    }
   ],
   "source": [
    "#checking null values\n",
    "df3.isnull().sum()"
   ]
  },
  {
   "cell_type": "code",
   "execution_count": 38,
   "id": "0ab8e429",
   "metadata": {},
   "outputs": [],
   "source": [
    "#df2 = df2.dropna(axis=1)"
   ]
  },
  {
   "cell_type": "code",
   "execution_count": 39,
   "id": "d6627ff2",
   "metadata": {},
   "outputs": [],
   "source": [
    "#df2.dropna(axis=0, how='any')\n",
    "#df2.info()\n",
    "#df2.dropna(subset=df2.select_dtypes(np.floating).columns, how='all')\n",
    "#df2.loc[:,~df2.replace('nan',np.nan).isna().all()]"
   ]
  },
  {
   "cell_type": "code",
   "execution_count": 40,
   "id": "9c080fae",
   "metadata": {},
   "outputs": [
    {
     "name": "stdout",
     "output_type": "stream",
     "text": [
      "<class 'pandas.core.frame.DataFrame'>\n",
      "RangeIndex: 393235 entries, 0 to 393234\n",
      "Data columns (total 14 columns):\n",
      " #   Column      Non-Null Count   Dtype         \n",
      "---  ------      --------------   -----         \n",
      " 0   TEMP__IN    393235 non-null  object        \n",
      " 1   TEMP_OUT    393235 non-null  object        \n",
      " 2   TEMPHTX1    393235 non-null  object        \n",
      " 3   WHTRSETP    393235 non-null  object        \n",
      " 4   FLOW_GPM    393235 non-null  object        \n",
      " 5   BYPRATIO    393235 non-null  object        \n",
      " 6   FAN__SPD    393235 non-null  int32         \n",
      " 7   BURNSTGE    393235 non-null  object        \n",
      " 8   FLM_ROD1    393235 non-null  object        \n",
      " 9   FAN_CURR    393235 non-null  float64       \n",
      " 10  IGN_FIGN    393235 non-null  object        \n",
      " 11  date_time   393235 non-null  datetime64[ns]\n",
      " 12  alarm_t010  393235 non-null  int32         \n",
      " 13  alarm_a090  393235 non-null  int32         \n",
      "dtypes: datetime64[ns](1), float64(1), int32(3), object(9)\n",
      "memory usage: 37.5+ MB\n"
     ]
    }
   ],
   "source": [
    "df3.info()"
   ]
  },
  {
   "cell_type": "code",
   "execution_count": 41,
   "id": "9197233e",
   "metadata": {},
   "outputs": [
    {
     "name": "stdout",
     "output_type": "stream",
     "text": [
      "TEMP__IN :\n",
      "['46.8' '47.3' '46.9' '49.1' '51.1' '52.2' '53.1' '53.2' '53.8' '54.1'\n",
      " '54.3' '54.7' '54.9' '55.0' '55.2' '47.5' '49.6' '51.4' '52.3' '54.0'\n",
      " '48.0' '47.7' '51.3' '49.5' '53.4' '49.8' '52.5' '52.9' '50.7' '51.6'\n",
      " '48.4' '50.2' '48.2' '46.6' '50.4' '48.9' '52.0' '48.7' '50.5' '46.4'\n",
      " '55.6' '55.8' '55.9' '56.1' '56.5' '56.7' '56.8' '57.0' '57.4' '57.6'\n",
      " '57.7' '57.9' '58.3' '58.5' '58.6' '58.8' '59.0' '59.4' '59.5' '59.7'\n",
      " '59.9' '60.1' '60.4' '60.6' '60.8' '61.0' '61.2' '61.3' '61.7' '61.9'\n",
      " '62.1' '62.2' '62.4' '46.0' '45.7' '45.9' '45.3' '45.1' '44.6' '45.0'\n",
      " 46.6 46.8 48.7 52.0 54.1 55.8 56.5 57.4 57.7 58.5 58.6 59.4 59.5 59.7\n",
      " 48.0 46.4 55.6 57.9 58.3 47.7 46.9 48.4 52.2 56.7 57.6 58.8 48.2 47.3\n",
      " 48.9 52.5 54.7 56.1 56.8 59.0 60.1 47.5 57.0 49.1 52.3 54.3 49.6 54.9\n",
      " 55.9 59.9 49.5 54.0 55.2 52.9 49.8 50.2 53.1 46.0 50.4 53.2 51.3 50.5\n",
      " 50.7 51.1 53.4 51.4 53.8 55.0 51.6 60.4 60.6 60.8 61.0 61.2 61.3 61.7\n",
      " 61.9 62.1 45.9 45.7 45.3 45.1 62.4 62.2 62.8 63.0 63.1 63.3 63.5 64.0\n",
      " 64.2 64.4 64.6 63.9 45.0 44.6 44.4 '63.0' '62.8' '63.3' '63.1' '63.9'\n",
      " '63.5' '64.2' '64.0' '64.4' '64.6' '64.8' '65.3' '65.1' '65.5' '65.7'\n",
      " '66.0' '65.8' '66.2' '66.4' '66.7' '66.9' '67.1' '67.3' '67.5' '67.6'\n",
      " '67.8' '68.0' '68.4' '68.5' '68.7' '68.9' '69.1' '69.3' '69.4' '69.6'\n",
      " '70.0' '70.2' '70.3' '70.5' '70.7' '70.9' '71.1' '71.2' '71.6' '71.8'\n",
      " '72.0' '72.1' '72.3' '72.5' '72.7' '72.9' '73.2' '73.4' '73.6' '73.8'\n",
      " '73.9' '74.1' '74.3' '74.5' '74.8' '75.0' '75.2' '75.4' '75.6' '75.7'\n",
      " '75.9' '76.1' '76.3' '76.5' '76.6' '76.8' '77.0' '77.2' '77.4' '77.5'\n",
      " '77.9' '78.1' '78.3' '78.4' '78.6' '78.8' '79.0' '79.2' '79.5' '79.7'\n",
      " '79.9' '80.1' '80.2' '80.4' '80.6' '80.8' '81.1' '81.3' '81.5' '81.7'\n",
      " '81.9' '82.0' '82.2' '82.4' '82.6' '82.8' '82.9' '83.1' '83.3' '83.5'\n",
      " '83.7' '83.8' '84.2' '84.4' '84.6' '84.7' '84.9' '85.1' '85.3' '85.5'\n",
      " '85.8' '86.0' '86.2' '86.4' '86.5' '86.7' '86.9' '87.1' '87.4' '87.6'\n",
      " '87.8' '88.0' '88.2' '88.3' '88.5' '88.7' 85.5 85.3 85.1 84.9 84.7 84.6\n",
      " 84.4 84.2 83.8 83.7 83.5 83.3 83.1 82.9 82.8 82.6 82.4 82.2 82.0 85.8\n",
      " 86.0 86.2 86.4 86.5 86.7 86.9 87.1 87.4 87.6 87.8 88.0 88.2 88.3 88.5\n",
      " 88.7 88.9 89.1 89.2 89.4 89.6 89.8 64.8 65.1 65.5 65.7 65.3 65.8 66.0\n",
      " 66.2 66.4 66.7 66.9 67.1 67.5 67.3 67.6 67.8 68.0 68.5 68.9 69.3 69.6\n",
      " 70.0 70.5 68.7 69.1 69.4 70.2 70.7 71.2 71.6 70.9 68.4 70.3 72.0 72.3\n",
      " 72.7 73.2 73.4 73.8 73.9 44.2 43.9 74.1 71.1 72.1 72.9 73.6 74.3 74.5\n",
      " 74.8 75.0 75.2 75.6 75.9 75.7 76.5 76.3 76.6 77.0 77.2 77.5 77.9 78.1\n",
      " 78.3 78.4 78.8 79.2 79.0 79.5 79.7 79.9 80.1 80.2 80.4 80.6 80.8 81.1\n",
      " 81.3 81.5 81.7 81.9 90.0 90.1 90.5 90.7 90.9 91.0 91.2 91.4 91.6 91.8\n",
      " 91.9 92.1 92.3 92.5 92.7 92.8 93.0 71.8 72.5 75.4 76.1 76.8 77.4 78.6]\n",
      "TEMP_OUT :\n",
      "['138.2' '137.7' '138.6' ... '158.5' '160.0' '166.6']\n",
      "TEMPHTX1 :\n",
      "['138.6' '137.8' '138.2' ... '196.7' '199.4' '198.5']\n",
      "WHTRSETP :\n",
      "[140.0 '140']\n",
      "FLOW_GPM :\n",
      "['3.6' '0.0' '3.7' '3.5' '7.5' '7.1' '7.2' '6.9' '6.1' '3.8' '0.5' '5.3'\n",
      " '5.6' '5.4' '4.8' '2.5' '0.4' '6.4' '5.8' '4.3' '3.0' '1.0' '5.5' '5.2'\n",
      " '5.0' '0.7' '4.0' '1.1' '5.9' '3.9' '5.7' '1.2' '4.9' '4.4' '3.4' '0.8'\n",
      " '5.1' '4.7' '2.1' '0.3' '4.6' '3.3' '0.9' '4.5' '4.1' '2.8' '3.2' '0.6'\n",
      " '3.1' '1.8' '4.2' '2.0' '2.2' 3.5 3.4 0.0 3.6 2.0 1.1 5.6 1.0 5.4 0.4 5.5\n",
      " 5.1 0.3 4.9 5.2 5.3 5.0 3.7 3.3 3.1 0.8 5.8 0.7 0.6 4.3 0.5 4.5 3.9 3.0\n",
      " 5.9 4.6 1.3 5.7 4.2 6.0 3.2 4.8 4.4 2.5 1.2 4.1 2.9 6.2 2.3 1.6 0.9 3.8\n",
      " 2.6 6.1 4.7 4.0 2.8 1.9 '6.0' '2.4' '2.3' 1.5 2.2 6.3 2.1 2.7 6.5 6.4 6.6\n",
      " 1.4 '1.7' '7.6' '7.4' '7.3' '7.7' '7.8' '7.9' '8.0' '8.1' '8.2' '8.3'\n",
      " '1.4' '8.5' '8.4' '8.6' '8.7' '8.8' '6.8' '1.5' 8.2 8.3 8.1 8.0 8.4 8.5\n",
      " 8.6 8.7 7.9 7.8 7.7 7.6 7.4 7.5 6.8 6.7 2.4 1.8 1.7 0.2 '1.6' '6.3' '6.2']\n",
      "BYPRATIO :\n",
      "['0' '4' '16' '21' '23' '25' '26' '27' '29' '30' '31' '32' '1' '3' '12'\n",
      " '17' '20' '22' '28' '13' '2' '44' '100' '63' '5' '24' '6' '18' '8' '19'\n",
      " '9' '14' '10' '15' '11' '7' '33' '34' '36' '37' '38' '39' '40' '41' '42'\n",
      " '43' '45' '46' '47' '48' '49' '51' '50' '52' '53' '54' '55' '57' '58'\n",
      " '56' '59' '60' '61' '62' '64' '66' '65' '67' '69' '68' '70' '71' '72'\n",
      " '76' '73' '74' '75' '78' '77' '81' '79' '88' '86' '83' '80' '35' 0 8 14\n",
      " 18 20 22 23 25 26 28 4 1 9 16 19 21 27 29 5 11 24 30 31 3 13 2 15 12 32\n",
      " 33 34 35 17 6 7 10 36 37 38 41 39 40 42 43 '89' '84' '92' '95' '85' '93'\n",
      " '87' '90' '82' '96' '94' '91' 44 56 60 50 67 55 45 64 70 58 63 78 80 73\n",
      " 75 57 71 90 100 86 88 83 62 46 54 77 92 85 91 89 61 72 81 96 53 68 74 84\n",
      " 69 65 76 95 93 82 87 79 47 48 49 52 51 59 66 94]\n",
      "FAN__SPD :\n",
      "[5403 5395 5391 ... 1276 1137  815]\n",
      "BURNSTGE :\n",
      "['6' '0' '5' '2' '4' '3' 6 0 5 4 2 1 3 '1']\n",
      "FLM_ROD1 :\n",
      "['Flame Present' 'No Flame Present']\n",
      "FAN_CURR :\n",
      "[305.7 306.7 142.2 ...  57.1 180.8  67.8]\n",
      "IGN_FIGN :\n",
      "['3' '45' '0' '4' 4.0 5.0 6.0 '6' '11']\n",
      "date_time :\n",
      "['2021-02-11T15:20:20.000000000' '2021-02-11T15:20:35.000000000'\n",
      " '2021-02-11T15:20:50.000000000' ... '2021-07-11T15:49:47.000000000'\n",
      " '2021-07-11T15:50:02.000000000' '2021-07-11T15:50:17.000000000']\n",
      "alarm_t010 :\n",
      "[1 0]\n",
      "alarm_a090 :\n",
      "[0 1]\n"
     ]
    }
   ],
   "source": [
    "for col in df3.columns:\n",
    "    print(col, ':')\n",
    "    print(df3[col].unique())"
   ]
  },
  {
   "cell_type": "code",
   "execution_count": 42,
   "id": "74a5c874",
   "metadata": {},
   "outputs": [
    {
     "data": {
      "text/plain": [
       "Flame Present       227789\n",
       "No Flame Present    165446\n",
       "Name: FLM_ROD1, dtype: int64"
      ]
     },
     "execution_count": 42,
     "metadata": {},
     "output_type": "execute_result"
    }
   ],
   "source": [
    "df3['FLM_ROD1'].value_counts()"
   ]
  },
  {
   "cell_type": "code",
   "execution_count": 43,
   "id": "a2a06690",
   "metadata": {},
   "outputs": [],
   "source": [
    "df3['TEMP__IN'] = df3['TEMP__IN'].astype(float)"
   ]
  },
  {
   "cell_type": "code",
   "execution_count": 44,
   "id": "ec6d05ac",
   "metadata": {},
   "outputs": [
    {
     "data": {
      "text/plain": [
       "dtype('O')"
      ]
     },
     "execution_count": 44,
     "metadata": {},
     "output_type": "execute_result"
    }
   ],
   "source": [
    "df3['BURNSTGE'].dtype"
   ]
  },
  {
   "cell_type": "code",
   "execution_count": 45,
   "id": "94a7a60b",
   "metadata": {},
   "outputs": [],
   "source": [
    "df3['TEMP_OUT'] = df3['TEMP_OUT'].astype(float)"
   ]
  },
  {
   "cell_type": "code",
   "execution_count": 46,
   "id": "fd25796d",
   "metadata": {},
   "outputs": [],
   "source": [
    "\n",
    "df3['TEMPHTX1'] = df3['TEMPHTX1'].astype(float)"
   ]
  },
  {
   "cell_type": "code",
   "execution_count": 47,
   "id": "e3bfaf13",
   "metadata": {},
   "outputs": [],
   "source": [
    "df3['WHTRSETP'] = df3['WHTRSETP'].astype(float)"
   ]
  },
  {
   "cell_type": "code",
   "execution_count": 48,
   "id": "bf6c31c2",
   "metadata": {},
   "outputs": [],
   "source": [
    "df3['FLOW_GPM'] = df3['FLOW_GPM'].astype(float)"
   ]
  },
  {
   "cell_type": "code",
   "execution_count": 49,
   "id": "100d0310",
   "metadata": {},
   "outputs": [],
   "source": [
    "df3['BYPRATIO'] = df3['BYPRATIO'].astype(float)"
   ]
  },
  {
   "cell_type": "code",
   "execution_count": 50,
   "id": "7cb83441",
   "metadata": {},
   "outputs": [],
   "source": [
    "df3['BURNSTGE'] = df3['BURNSTGE'].astype(float)"
   ]
  },
  {
   "cell_type": "code",
   "execution_count": 51,
   "id": "1680a54a",
   "metadata": {},
   "outputs": [],
   "source": [
    "#df3['FLM_ROD1'] = df3['FLM_ROD1'].astype(float)\n",
    "\n",
    "# to change labels of \"'VLVSTATE\"\n",
    "\n",
    "FLM_ROD1_dict = {\n",
    "    'Flame Present': 1,\n",
    "    'No Flame Present': 0\n",
    "}\n",
    "\n",
    "df3[\"FLM_ROD1\"] = df3[\"FLM_ROD1\"].map(FLM_ROD1_dict)"
   ]
  },
  {
   "cell_type": "code",
   "execution_count": 52,
   "id": "79590ee3",
   "metadata": {},
   "outputs": [],
   "source": [
    "df3['IGN_FIGN'] = df3['IGN_FIGN'].astype(float)"
   ]
  },
  {
   "cell_type": "code",
   "execution_count": 53,
   "id": "2a513655",
   "metadata": {},
   "outputs": [
    {
     "data": {
      "text/plain": [
       "140.0    393235\n",
       "Name: WHTRSETP, dtype: int64"
      ]
     },
     "execution_count": 53,
     "metadata": {},
     "output_type": "execute_result"
    }
   ],
   "source": [
    "df3['WHTRSETP'].value_counts()"
   ]
  },
  {
   "cell_type": "code",
   "execution_count": null,
   "id": "2c87b3e0",
   "metadata": {},
   "outputs": [],
   "source": []
  },
  {
   "cell_type": "code",
   "execution_count": 54,
   "id": "e199a41a",
   "metadata": {},
   "outputs": [
    {
     "name": "stdout",
     "output_type": "stream",
     "text": [
      "<class 'pandas.core.frame.DataFrame'>\n",
      "RangeIndex: 393235 entries, 0 to 393234\n",
      "Data columns (total 14 columns):\n",
      " #   Column      Non-Null Count   Dtype         \n",
      "---  ------      --------------   -----         \n",
      " 0   TEMP__IN    393235 non-null  float64       \n",
      " 1   TEMP_OUT    393235 non-null  float64       \n",
      " 2   TEMPHTX1    393235 non-null  float64       \n",
      " 3   WHTRSETP    393235 non-null  float64       \n",
      " 4   FLOW_GPM    393235 non-null  float64       \n",
      " 5   BYPRATIO    393235 non-null  float64       \n",
      " 6   FAN__SPD    393235 non-null  int32         \n",
      " 7   BURNSTGE    393235 non-null  float64       \n",
      " 8   FLM_ROD1    393235 non-null  int64         \n",
      " 9   FAN_CURR    393235 non-null  float64       \n",
      " 10  IGN_FIGN    393235 non-null  float64       \n",
      " 11  date_time   393235 non-null  datetime64[ns]\n",
      " 12  alarm_t010  393235 non-null  int32         \n",
      " 13  alarm_a090  393235 non-null  int32         \n",
      "dtypes: datetime64[ns](1), float64(9), int32(3), int64(1)\n",
      "memory usage: 37.5 MB\n"
     ]
    }
   ],
   "source": [
    "df3.info()"
   ]
  },
  {
   "cell_type": "code",
   "execution_count": null,
   "id": "3014d546",
   "metadata": {},
   "outputs": [],
   "source": [
    "# bar chart to see missing visual in df_data\n",
    "plt.figure(figsize = (10,10))\n",
    "\n",
    "df3.isnull().sum().plot(kind = 'barh')\n",
    "plt.title('Number of Missing Values by Column', size = 25)\n",
    "plt.xlabel('Count', size = 25);"
   ]
  },
  {
   "cell_type": "code",
   "execution_count": null,
   "id": "f1d130c7",
   "metadata": {},
   "outputs": [],
   "source": [
    "df3['FAN__SPD'].hist()"
   ]
  },
  {
   "cell_type": "code",
   "execution_count": null,
   "id": "ef8fbda4",
   "metadata": {},
   "outputs": [],
   "source": [
    "df3['FAN_CURR'].hist()"
   ]
  },
  {
   "cell_type": "code",
   "execution_count": null,
   "id": "53c25064",
   "metadata": {},
   "outputs": [],
   "source": [
    "#visual of correlation between fields or columns\n",
    "plt.figure(figsize=(10, 10))\n",
    "mask = np.zeros_like(df3.corr())\n",
    "mask[np.triu_indices_from(mask)] = True\n",
    "sns.heatmap(df3.corr(), mask = mask, square = True, cmap = 'viridis', annot = True, vmin=-1, vmax=1);"
   ]
  },
  {
   "cell_type": "code",
   "execution_count": null,
   "id": "280d6525",
   "metadata": {},
   "outputs": [],
   "source": [
    "#visual of correlation between fields or columns\n",
    "plt.figure(figsize=(10,10))\n",
    "\n",
    "sns.heatmap(df3.corr()[['FAN__SPD']].sort_values('FAN__SPD', ascending=False), annot=True, cmap='viridis');"
   ]
  },
  {
   "cell_type": "code",
   "execution_count": null,
   "id": "ba088779",
   "metadata": {},
   "outputs": [],
   "source": [
    "df3.columns"
   ]
  },
  {
   "cell_type": "code",
   "execution_count": null,
   "id": "0aadb6de",
   "metadata": {},
   "outputs": [],
   "source": [
    "#visual of correlation between fields or columns\n",
    "plt.figure(figsize=(10,10))\n",
    "\n",
    "sns.heatmap(df3.corr()[['FAN_CURR']].sort_values('FAN_CURR', ascending=False), annot=True, cmap='viridis');"
   ]
  },
  {
   "cell_type": "code",
   "execution_count": null,
   "id": "88fa3be6",
   "metadata": {},
   "outputs": [],
   "source": [
    "#visual of correlation between fields or columns\n",
    "plt.figure(figsize=(10,10))\n",
    "\n",
    "sns.heatmap(df3.corr()[['alarm_t010']].sort_values('alarm_t010', ascending=False), annot=True, cmap='viridis');"
   ]
  },
  {
   "cell_type": "code",
   "execution_count": null,
   "id": "8f6abe39",
   "metadata": {},
   "outputs": [],
   "source": [
    "#numeric data from df_data\n",
    "df_numeric = df3._get_numeric_data()"
   ]
  },
  {
   "cell_type": "code",
   "execution_count": null,
   "id": "8033283d",
   "metadata": {},
   "outputs": [],
   "source": [
    "plt.figure(figsize=(10, 10))\n",
    "mask = np.zeros_like(df_numeric.corr())\n",
    "mask[np.triu_indices_from(mask)] = True\n",
    "sns.heatmap(df_numeric.corr(), mask = mask, square = True, cmap = 'viridis', annot = True, vmin=-1, vmax=1);\n"
   ]
  },
  {
   "cell_type": "code",
   "execution_count": null,
   "id": "23e7dcd3",
   "metadata": {},
   "outputs": [],
   "source": [
    "plt.figure(figsize=(12,12))\n",
    "\n",
    "sns.heatmap(df_numeric.corr(), annot=True, cmap='viridis');"
   ]
  },
  {
   "cell_type": "code",
   "execution_count": null,
   "id": "70f3e0f0",
   "metadata": {},
   "outputs": [],
   "source": [
    "#visual of correlation between fields or columns\n",
    "plt.figure(figsize=(10,8))\n",
    "\n",
    "sns.heatmap(df_numeric.corr()[['FAN__SPD']].sort_values('FAN__SPD', ascending=False), annot=True, cmap='viridis');"
   ]
  },
  {
   "cell_type": "code",
   "execution_count": null,
   "id": "cc931bbe",
   "metadata": {},
   "outputs": [],
   "source": [
    "#Scatter plot to see relation between CHE_FIGN and FLAMECUR\n",
    "df3.plot(kind='scatter', x = 'FAN__SPD', y='alarm_a090');"
   ]
  },
  {
   "cell_type": "code",
   "execution_count": null,
   "id": "86f851ba",
   "metadata": {},
   "outputs": [],
   "source": [
    "df3.head()"
   ]
  },
  {
   "cell_type": "code",
   "execution_count": null,
   "id": "e66a9ac4",
   "metadata": {
    "scrolled": true
   },
   "outputs": [],
   "source": [
    "df3.loc[df3.alarm_a090==1]"
   ]
  },
  {
   "cell_type": "code",
   "execution_count": 69,
   "id": "1a00bc81",
   "metadata": {},
   "outputs": [
    {
     "name": "stderr",
     "output_type": "stream",
     "text": [
      "<ipython-input-69-fca6963c853e>:7: SettingWithCopyWarning: \n",
      "A value is trying to be set on a copy of a slice from a DataFrame.\n",
      "Try using .loc[row_indexer,col_indexer] = value instead\n",
      "\n",
      "See the caveats in the documentation: https://pandas.pydata.org/pandas-docs/stable/user_guide/indexing.html#returning-a-view-versus-a-copy\n",
      "  temp['iteration'] = count\n"
     ]
    }
   ],
   "source": [
    "a090_indeces = df3.loc[df3.alarm_a090==1].index\n",
    "count=0\n",
    "a090 = []\n",
    "for i in a090_indeces:\n",
    "    count+=1\n",
    "    temp = df3.iloc[i-8:i+1]\n",
    "    temp['iteration'] = count\n",
    "    a090.append(temp)\n",
    "a090 = pd.concat(a090)\n",
    "a090.to_csv(f'A090/Eagle G1 a090.csv', index=False)"
   ]
  },
  {
   "cell_type": "code",
   "execution_count": 70,
   "id": "56c0fb38",
   "metadata": {},
   "outputs": [
    {
     "name": "stderr",
     "output_type": "stream",
     "text": [
      "<ipython-input-70-47fe0a5f5c44>:7: SettingWithCopyWarning: \n",
      "A value is trying to be set on a copy of a slice from a DataFrame.\n",
      "Try using .loc[row_indexer,col_indexer] = value instead\n",
      "\n",
      "See the caveats in the documentation: https://pandas.pydata.org/pandas-docs/stable/user_guide/indexing.html#returning-a-view-versus-a-copy\n",
      "  temp['iteration'] = count\n"
     ]
    }
   ],
   "source": [
    "t010_indeces = df3.loc[df3.alarm_t010==1].index\n",
    "count=0\n",
    "t010 = []\n",
    "for i in t010_indeces:\n",
    "    count+=1\n",
    "    temp = df3.iloc[i-8:i+1]\n",
    "    temp['iteration'] = count\n",
    "    t010.append(temp)\n",
    "t010 = pd.concat(t010)\n",
    "t010.to_csv(f'T010/Eagle G1 t101.csv', index=False)"
   ]
  },
  {
   "cell_type": "code",
   "execution_count": null,
   "id": "ee32039c",
   "metadata": {},
   "outputs": [],
   "source": [
    "df_a090.iloc[-8:]"
   ]
  },
  {
   "cell_type": "code",
   "execution_count": 71,
   "id": "14159303",
   "metadata": {},
   "outputs": [
    {
     "data": {
      "text/html": [
       "<div>\n",
       "<style scoped>\n",
       "    .dataframe tbody tr th:only-of-type {\n",
       "        vertical-align: middle;\n",
       "    }\n",
       "\n",
       "    .dataframe tbody tr th {\n",
       "        vertical-align: top;\n",
       "    }\n",
       "\n",
       "    .dataframe thead th {\n",
       "        text-align: right;\n",
       "    }\n",
       "</style>\n",
       "<table border=\"1\" class=\"dataframe\">\n",
       "  <thead>\n",
       "    <tr style=\"text-align: right;\">\n",
       "      <th></th>\n",
       "      <th>TEMP__IN</th>\n",
       "      <th>TEMP_OUT</th>\n",
       "      <th>TEMPHTX1</th>\n",
       "      <th>WHTRSETP</th>\n",
       "      <th>FLOW_GPM</th>\n",
       "      <th>BYPRATIO</th>\n",
       "      <th>FAN__SPD</th>\n",
       "      <th>BURNSTGE</th>\n",
       "      <th>FLM_ROD1</th>\n",
       "      <th>FAN_CURR</th>\n",
       "      <th>IGN_FIGN</th>\n",
       "      <th>date_time</th>\n",
       "      <th>alarm_t010</th>\n",
       "      <th>alarm_a090</th>\n",
       "    </tr>\n",
       "  </thead>\n",
       "  <tbody>\n",
       "    <tr>\n",
       "      <th>0</th>\n",
       "      <td>46.8</td>\n",
       "      <td>138.2</td>\n",
       "      <td>138.6</td>\n",
       "      <td>140.0</td>\n",
       "      <td>3.6</td>\n",
       "      <td>0.0</td>\n",
       "      <td>5403</td>\n",
       "      <td>6.0</td>\n",
       "      <td>1</td>\n",
       "      <td>305.7</td>\n",
       "      <td>3.0</td>\n",
       "      <td>2021-02-11 15:20:20</td>\n",
       "      <td>1</td>\n",
       "      <td>0</td>\n",
       "    </tr>\n",
       "    <tr>\n",
       "      <th>1</th>\n",
       "      <td>47.3</td>\n",
       "      <td>137.7</td>\n",
       "      <td>137.8</td>\n",
       "      <td>140.0</td>\n",
       "      <td>3.6</td>\n",
       "      <td>0.0</td>\n",
       "      <td>5403</td>\n",
       "      <td>6.0</td>\n",
       "      <td>1</td>\n",
       "      <td>306.7</td>\n",
       "      <td>3.0</td>\n",
       "      <td>2021-02-11 15:20:35</td>\n",
       "      <td>1</td>\n",
       "      <td>0</td>\n",
       "    </tr>\n",
       "    <tr>\n",
       "      <th>2</th>\n",
       "      <td>46.9</td>\n",
       "      <td>137.7</td>\n",
       "      <td>138.2</td>\n",
       "      <td>140.0</td>\n",
       "      <td>3.6</td>\n",
       "      <td>0.0</td>\n",
       "      <td>5395</td>\n",
       "      <td>6.0</td>\n",
       "      <td>1</td>\n",
       "      <td>305.7</td>\n",
       "      <td>3.0</td>\n",
       "      <td>2021-02-11 15:20:50</td>\n",
       "      <td>1</td>\n",
       "      <td>0</td>\n",
       "    </tr>\n",
       "    <tr>\n",
       "      <th>3</th>\n",
       "      <td>47.3</td>\n",
       "      <td>138.6</td>\n",
       "      <td>138.9</td>\n",
       "      <td>140.0</td>\n",
       "      <td>3.6</td>\n",
       "      <td>0.0</td>\n",
       "      <td>5395</td>\n",
       "      <td>6.0</td>\n",
       "      <td>1</td>\n",
       "      <td>306.7</td>\n",
       "      <td>3.0</td>\n",
       "      <td>2021-02-11 15:21:05</td>\n",
       "      <td>1</td>\n",
       "      <td>0</td>\n",
       "    </tr>\n",
       "    <tr>\n",
       "      <th>4</th>\n",
       "      <td>46.9</td>\n",
       "      <td>137.8</td>\n",
       "      <td>137.7</td>\n",
       "      <td>140.0</td>\n",
       "      <td>3.6</td>\n",
       "      <td>0.0</td>\n",
       "      <td>5403</td>\n",
       "      <td>6.0</td>\n",
       "      <td>1</td>\n",
       "      <td>306.7</td>\n",
       "      <td>3.0</td>\n",
       "      <td>2021-02-11 15:21:20</td>\n",
       "      <td>1</td>\n",
       "      <td>0</td>\n",
       "    </tr>\n",
       "    <tr>\n",
       "      <th>...</th>\n",
       "      <td>...</td>\n",
       "      <td>...</td>\n",
       "      <td>...</td>\n",
       "      <td>...</td>\n",
       "      <td>...</td>\n",
       "      <td>...</td>\n",
       "      <td>...</td>\n",
       "      <td>...</td>\n",
       "      <td>...</td>\n",
       "      <td>...</td>\n",
       "      <td>...</td>\n",
       "      <td>...</td>\n",
       "      <td>...</td>\n",
       "      <td>...</td>\n",
       "    </tr>\n",
       "    <tr>\n",
       "      <th>368596</th>\n",
       "      <td>50.4</td>\n",
       "      <td>138.4</td>\n",
       "      <td>138.4</td>\n",
       "      <td>140.0</td>\n",
       "      <td>3.8</td>\n",
       "      <td>0.0</td>\n",
       "      <td>5395</td>\n",
       "      <td>6.0</td>\n",
       "      <td>1</td>\n",
       "      <td>317.1</td>\n",
       "      <td>6.0</td>\n",
       "      <td>2021-06-26 14:14:24</td>\n",
       "      <td>1</td>\n",
       "      <td>0</td>\n",
       "    </tr>\n",
       "    <tr>\n",
       "      <th>368597</th>\n",
       "      <td>50.4</td>\n",
       "      <td>138.6</td>\n",
       "      <td>138.4</td>\n",
       "      <td>140.0</td>\n",
       "      <td>3.8</td>\n",
       "      <td>0.0</td>\n",
       "      <td>5403</td>\n",
       "      <td>6.0</td>\n",
       "      <td>1</td>\n",
       "      <td>317.1</td>\n",
       "      <td>6.0</td>\n",
       "      <td>2021-06-26 14:14:39</td>\n",
       "      <td>1</td>\n",
       "      <td>0</td>\n",
       "    </tr>\n",
       "    <tr>\n",
       "      <th>368598</th>\n",
       "      <td>50.4</td>\n",
       "      <td>139.1</td>\n",
       "      <td>139.6</td>\n",
       "      <td>140.0</td>\n",
       "      <td>3.6</td>\n",
       "      <td>1.0</td>\n",
       "      <td>5403</td>\n",
       "      <td>6.0</td>\n",
       "      <td>1</td>\n",
       "      <td>318.2</td>\n",
       "      <td>6.0</td>\n",
       "      <td>2021-06-26 14:14:54</td>\n",
       "      <td>1</td>\n",
       "      <td>0</td>\n",
       "    </tr>\n",
       "    <tr>\n",
       "      <th>368599</th>\n",
       "      <td>50.5</td>\n",
       "      <td>138.4</td>\n",
       "      <td>138.6</td>\n",
       "      <td>140.0</td>\n",
       "      <td>3.8</td>\n",
       "      <td>0.0</td>\n",
       "      <td>5403</td>\n",
       "      <td>6.0</td>\n",
       "      <td>1</td>\n",
       "      <td>317.1</td>\n",
       "      <td>6.0</td>\n",
       "      <td>2021-06-26 14:15:09</td>\n",
       "      <td>1</td>\n",
       "      <td>0</td>\n",
       "    </tr>\n",
       "    <tr>\n",
       "      <th>368600</th>\n",
       "      <td>50.4</td>\n",
       "      <td>139.8</td>\n",
       "      <td>140.5</td>\n",
       "      <td>140.0</td>\n",
       "      <td>3.8</td>\n",
       "      <td>1.0</td>\n",
       "      <td>5296</td>\n",
       "      <td>6.0</td>\n",
       "      <td>1</td>\n",
       "      <td>306.2</td>\n",
       "      <td>6.0</td>\n",
       "      <td>2021-06-26 14:15:24</td>\n",
       "      <td>1</td>\n",
       "      <td>0</td>\n",
       "    </tr>\n",
       "  </tbody>\n",
       "</table>\n",
       "<p>43376 rows × 14 columns</p>\n",
       "</div>"
      ],
      "text/plain": [
       "        TEMP__IN  TEMP_OUT  TEMPHTX1  WHTRSETP  FLOW_GPM  BYPRATIO  FAN__SPD  \\\n",
       "0           46.8     138.2     138.6     140.0       3.6       0.0      5403   \n",
       "1           47.3     137.7     137.8     140.0       3.6       0.0      5403   \n",
       "2           46.9     137.7     138.2     140.0       3.6       0.0      5395   \n",
       "3           47.3     138.6     138.9     140.0       3.6       0.0      5395   \n",
       "4           46.9     137.8     137.7     140.0       3.6       0.0      5403   \n",
       "...          ...       ...       ...       ...       ...       ...       ...   \n",
       "368596      50.4     138.4     138.4     140.0       3.8       0.0      5395   \n",
       "368597      50.4     138.6     138.4     140.0       3.8       0.0      5403   \n",
       "368598      50.4     139.1     139.6     140.0       3.6       1.0      5403   \n",
       "368599      50.5     138.4     138.6     140.0       3.8       0.0      5403   \n",
       "368600      50.4     139.8     140.5     140.0       3.8       1.0      5296   \n",
       "\n",
       "        BURNSTGE  FLM_ROD1  FAN_CURR  IGN_FIGN           date_time  \\\n",
       "0            6.0         1     305.7       3.0 2021-02-11 15:20:20   \n",
       "1            6.0         1     306.7       3.0 2021-02-11 15:20:35   \n",
       "2            6.0         1     305.7       3.0 2021-02-11 15:20:50   \n",
       "3            6.0         1     306.7       3.0 2021-02-11 15:21:05   \n",
       "4            6.0         1     306.7       3.0 2021-02-11 15:21:20   \n",
       "...          ...       ...       ...       ...                 ...   \n",
       "368596       6.0         1     317.1       6.0 2021-06-26 14:14:24   \n",
       "368597       6.0         1     317.1       6.0 2021-06-26 14:14:39   \n",
       "368598       6.0         1     318.2       6.0 2021-06-26 14:14:54   \n",
       "368599       6.0         1     317.1       6.0 2021-06-26 14:15:09   \n",
       "368600       6.0         1     306.2       6.0 2021-06-26 14:15:24   \n",
       "\n",
       "        alarm_t010  alarm_a090  \n",
       "0                1           0  \n",
       "1                1           0  \n",
       "2                1           0  \n",
       "3                1           0  \n",
       "4                1           0  \n",
       "...            ...         ...  \n",
       "368596           1           0  \n",
       "368597           1           0  \n",
       "368598           1           0  \n",
       "368599           1           0  \n",
       "368600           1           0  \n",
       "\n",
       "[43376 rows x 14 columns]"
      ]
     },
     "execution_count": 71,
     "metadata": {},
     "output_type": "execute_result"
    }
   ],
   "source": [
    "df3.loc[df3.alarm_t010==1]"
   ]
  },
  {
   "cell_type": "code",
   "execution_count": 73,
   "id": "2cedbe04",
   "metadata": {},
   "outputs": [
    {
     "data": {
      "text/plain": [
       "179702    4755\n",
       "184480    4749\n",
       "Name: FAN__SPD, dtype: int32"
      ]
     },
     "execution_count": 73,
     "metadata": {},
     "output_type": "execute_result"
    }
   ],
   "source": [
    "df3['FAN__SPD'].loc[df3.alarm_a090==1]"
   ]
  },
  {
   "cell_type": "code",
   "execution_count": 74,
   "id": "a4ee2f32",
   "metadata": {},
   "outputs": [
    {
     "data": {
      "image/png": "[encoded data removed]",
      "text/plain": [
       "<Figure size 432x288 with 1 Axes>"
      ]
     },
     "metadata": {
      "needs_background": "light"
     },
     "output_type": "display_data"
    }
   ],
   "source": [
    "#Scatter plot to see relation between CHE_FIGN and CHE_SIGN\n",
    "df3.plot(kind='scatter', x = 'FAN__SPD', y='alarm_a090');"
   ]
  },
  {
   "cell_type": "code",
   "execution_count": 75,
   "id": "8563e97e",
   "metadata": {},
   "outputs": [
    {
     "data": {
      "image/png": "[encoded data removed]",
      "text/plain": [
       "<Figure size 432x288 with 1 Axes>"
      ]
     },
     "metadata": {
      "needs_background": "light"
     },
     "output_type": "display_data"
    }
   ],
   "source": [
    "#Scatter plot to see relation between CHE_FIGN and FLAMECUR\n",
    "df3.plot(kind='scatter', x = 'FAN__SPD', y='alarm_t010');"
   ]
  },
  {
   "cell_type": "code",
   "execution_count": 76,
   "id": "a342d3c2",
   "metadata": {},
   "outputs": [
    {
     "data": {
      "image/png": "[encoded data removed]",
      "text/plain": [
       "<Figure size 432x288 with 1 Axes>"
      ]
     },
     "metadata": {
      "needs_background": "light"
     },
     "output_type": "display_data"
    }
   ],
   "source": [
    "#Scatter plot to see relation between CHE_FIGN and CHE_SIGN\n",
    "df3.plot(kind='scatter', x = 'FAN_CURR', y='alarm_a090');"
   ]
  },
  {
   "cell_type": "code",
   "execution_count": 77,
   "id": "9d9630d0",
   "metadata": {},
   "outputs": [
    {
     "data": {
      "text/plain": [
       "179702    4755\n",
       "184480    4749\n",
       "Name: FAN__SPD, dtype: int32"
      ]
     },
     "execution_count": 77,
     "metadata": {},
     "output_type": "execute_result"
    }
   ],
   "source": [
    "df3.FAN__SPD.loc[df3.alarm_a090==1]"
   ]
  },
  {
   "cell_type": "code",
   "execution_count": 78,
   "id": "1f0362c3",
   "metadata": {},
   "outputs": [
    {
     "data": {
      "text/plain": [
       "179702    244.5\n",
       "184480    240.8\n",
       "Name: FAN_CURR, dtype: float64"
      ]
     },
     "execution_count": 78,
     "metadata": {},
     "output_type": "execute_result"
    }
   ],
   "source": [
    "df3.FAN_CURR.loc[df3.alarm_a090==1]"
   ]
  },
  {
   "cell_type": "code",
   "execution_count": null,
   "id": "fbb7ab2e",
   "metadata": {},
   "outputs": [],
   "source": [
    "#Scatter plot to see relation between CHE_FIGN and T_HEALTH\n",
    "df3.plot(kind='scatter', x = 'FAN_CURR', y='alarm_t010');"
   ]
  },
  {
   "cell_type": "code",
   "execution_count": null,
   "id": "2c2697bd",
   "metadata": {},
   "outputs": [],
   "source": []
  },
  {
   "cell_type": "code",
   "execution_count": null,
   "id": "3790589a",
   "metadata": {},
   "outputs": [],
   "source": []
  },
  {
   "cell_type": "code",
   "execution_count": null,
   "id": "6b1f0db3",
   "metadata": {},
   "outputs": [],
   "source": []
  },
  {
   "cell_type": "code",
   "execution_count": null,
   "id": "b0e6f01f",
   "metadata": {},
   "outputs": [],
   "source": []
  }
 ],
 "metadata": {
  "kernelspec": {
   "display_name": "Python 3",
   "language": "python",
   "name": "python3"
  },
  "language_info": {
   "codemirror_mode": {
    "name": "ipython",
    "version": 3
   },
   "file_extension": ".py",
   "mimetype": "text/x-python",
   "name": "python",
   "nbconvert_exporter": "python",
   "pygments_lexer": "ipython3",
   "version": "3.8.8"
  }
 },
 "nbformat": 4,
 "nbformat_minor": 5
}
