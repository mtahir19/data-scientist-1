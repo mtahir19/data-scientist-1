{
 "cells": [
  {
   "cell_type": "markdown",
   "id": "1efffd64",
   "metadata": {},
   "source": [
    "# UEF Analysis of \"Q3 ICN 10196 RTGH-S11IS1-0907.SM22014\" with raw data and no filling\n",
    "# Uniform energy factor to energy efficiency for listing\n",
    "### Do i need to add any other file here ?\n",
    "### target is what ??\n",
    "### is target categorical or conitunuous variable ?????\n",
    "### what factor affecting target to change\n",
    "### which object column we need to convert to numbers\n",
    "### which column we can drop from experience from object or numbers\n"
   ]
  },
  {
   "cell_type": "code",
   "execution_count": 2,
   "id": "c0e32d42",
   "metadata": {},
   "outputs": [
    {
     "name": "stdout",
     "output_type": "stream",
     "text": [
      "C:\\Users\\muhammad.tahir.ctr\\OneDrive - Rheem Manufacturing Company\\Desktop\\work-progress\\UEF-work\\uef-analysis\\data-tdms-160k\\ST4 ICN 12256 RTG-SR11iS1-8242.SM22014.tdms\n"
     ]
    },
    {
     "ename": "AttributeError",
     "evalue": "'TdmsFile' object has no attribute 'object'",
     "output_type": "error",
     "traceback": [
      "\u001b[1;31m---------------------------------------------------------------------------\u001b[0m",
      "\u001b[1;31mAttributeError\u001b[0m                            Traceback (most recent call last)",
      "\u001b[1;32m<ipython-input-2-3753b03ea1e5>\u001b[0m in \u001b[0;36m<module>\u001b[1;34m\u001b[0m\n\u001b[0;32m     22\u001b[0m \u001b[1;32mfor\u001b[0m \u001b[0mf\u001b[0m \u001b[1;32min\u001b[0m \u001b[0mfiles\u001b[0m\u001b[1;33m:\u001b[0m\u001b[1;33m\u001b[0m\u001b[1;33m\u001b[0m\u001b[0m\n\u001b[0;32m     23\u001b[0m     \u001b[0mprint\u001b[0m\u001b[1;33m(\u001b[0m\u001b[0mf\u001b[0m\u001b[1;33m)\u001b[0m\u001b[1;33m\u001b[0m\u001b[1;33m\u001b[0m\u001b[0m\n\u001b[1;32m---> 24\u001b[1;33m     \u001b[0mtdms_extract\u001b[0m\u001b[1;33m(\u001b[0m\u001b[0mf\u001b[0m\u001b[1;33m)\u001b[0m\u001b[1;33m\u001b[0m\u001b[1;33m\u001b[0m\u001b[0m\n\u001b[0m",
      "\u001b[1;32m<ipython-input-2-3753b03ea1e5>\u001b[0m in \u001b[0;36mtdms_extract\u001b[1;34m(entry)\u001b[0m\n\u001b[0;32m      7\u001b[0m         \u001b[0mtdms_file\u001b[0m \u001b[1;33m=\u001b[0m \u001b[0mTdmsFile\u001b[0m\u001b[1;33m(\u001b[0m\u001b[0mentry\u001b[0m\u001b[1;33m)\u001b[0m\u001b[1;33m\u001b[0m\u001b[1;33m\u001b[0m\u001b[0m\n\u001b[0;32m      8\u001b[0m         \u001b[1;32mfor\u001b[0m \u001b[0mgroup\u001b[0m \u001b[1;32min\u001b[0m \u001b[0mtdms_file\u001b[0m\u001b[1;33m.\u001b[0m\u001b[0mgroups\u001b[0m\u001b[1;33m(\u001b[0m\u001b[1;33m)\u001b[0m\u001b[1;33m:\u001b[0m\u001b[1;33m\u001b[0m\u001b[1;33m\u001b[0m\u001b[0m\n\u001b[1;32m----> 9\u001b[1;33m             \u001b[0mdata\u001b[0m \u001b[1;33m=\u001b[0m \u001b[0mtdms_file\u001b[0m\u001b[1;33m.\u001b[0m\u001b[0mobject\u001b[0m\u001b[1;33m(\u001b[0m\u001b[0mgroup\u001b[0m\u001b[1;33m)\u001b[0m\u001b[1;33m.\u001b[0m\u001b[0mas_dataframe\u001b[0m\u001b[1;33m(\u001b[0m\u001b[1;33m)\u001b[0m\u001b[1;33m\u001b[0m\u001b[1;33m\u001b[0m\u001b[0m\n\u001b[0m\u001b[0;32m     10\u001b[0m             \u001b[1;32mif\u001b[0m \u001b[0mgroup\u001b[0m \u001b[1;33m==\u001b[0m \u001b[1;34m'Events'\u001b[0m\u001b[1;33m:\u001b[0m\u001b[1;33m\u001b[0m\u001b[1;33m\u001b[0m\u001b[0m\n\u001b[0;32m     11\u001b[0m                 \u001b[0mdata\u001b[0m\u001b[1;33m[\u001b[0m\u001b[1;34m\"TimeStamp\"\u001b[0m\u001b[1;33m]\u001b[0m \u001b[1;33m=\u001b[0m \u001b[0mdata\u001b[0m\u001b[1;33m[\u001b[0m\u001b[1;34m\"TimeStamp\"\u001b[0m\u001b[1;33m]\u001b[0m\u001b[1;33m.\u001b[0m\u001b[0mastype\u001b[0m\u001b[1;33m(\u001b[0m\u001b[0mfloat\u001b[0m\u001b[1;33m)\u001b[0m\u001b[1;33m.\u001b[0m\u001b[0mvalues\u001b[0m \u001b[1;33m-\u001b[0m \u001b[0mfloat\u001b[0m\u001b[1;33m(\u001b[0m\u001b[0mdata\u001b[0m\u001b[1;33m[\u001b[0m\u001b[1;34m\"TimeStamp\"\u001b[0m\u001b[1;33m]\u001b[0m\u001b[1;33m.\u001b[0m\u001b[0mvalues\u001b[0m\u001b[1;33m[\u001b[0m\u001b[1;36m0\u001b[0m\u001b[1;33m]\u001b[0m\u001b[1;33m)\u001b[0m\u001b[1;33m\u001b[0m\u001b[1;33m\u001b[0m\u001b[0m\n",
      "\u001b[1;31mAttributeError\u001b[0m: 'TdmsFile' object has no attribute 'object'"
     ]
    }
   ],
   "source": [
    "import pandas as pd \n",
    "import os\n",
    "from nptdms import TdmsFile\n",
    "\n",
    "def tdms_extract(entry):\n",
    "    if(entry.endswith('.tdms')):\n",
    "        tdms_file = TdmsFile(entry)\n",
    "        for group in tdms_file.groups():\n",
    "            data = tdms_file.object(group).as_dataframe()\n",
    "            if group == 'Events':\n",
    "                data[\"TimeStamp\"] = data[\"TimeStamp\"].astype(float).values - float(data[\"TimeStamp\"].values[0])\n",
    "            if group == 'Channels':\n",
    "                data[\"TimeStamp (sec)\"] = data[\"TimeStamp (sec)\"].values - data[\"TimeStamp (sec)\"].values[0]\n",
    "            if not os.path.exists('C:/Niagara/UEF/' + group):\n",
    "                os.makedirs('C:/Niagara/UEF/' + group)\n",
    "            name = entry.split('\\\\')[-1]\n",
    "            data.to_csv('C:/Niagara/UEF/' +group + \"/\" + name[:-5] +\".csv\")\n",
    "\n",
    "data_path = r'C:\\Users\\muhammad.tahir.ctr\\OneDrive - Rheem Manufacturing Company\\Desktop\\work-progress\\UEF-work\\uef-analysis\\data-tdms-160k'\n",
    "files = [f.path for f in os.scandir(data_path) if f.name.endswith('tdms')]\n",
    "\n",
    "for f in files:\n",
    "    print(f)\n",
    "    tdms_extract(f)"
   ]
  },
  {
   "cell_type": "code",
   "execution_count": null,
   "id": "d2af2719",
   "metadata": {},
   "outputs": [],
   "source": [
    "#q_low = df[\"col\"].quantile(0.01)\n",
    "#q_hi  = df[\"col\"].quantile(0.99)\n",
    "\n",
    "#df_filtered = df[(df[\"col\"] < q_hi) & (df[\"col\"] > q_low)]"
   ]
  },
  {
   "cell_type": "code",
   "execution_count": null,
   "id": "7eb3f946",
   "metadata": {},
   "outputs": [],
   "source": [
    "# Required Imports \n",
    "#import pandas as pd\n",
    "#import numpy as np\n",
    "#import os\n",
    "#import matplotlib.pyplot as plt\n",
    "#import seaborn as sns"
   ]
  },
  {
   "cell_type": "code",
   "execution_count": null,
   "id": "3c552371",
   "metadata": {},
   "outputs": [],
   "source": [
    "#filepath = '/home/x/y/file.tdms'\n",
    "#tdms_file = TdmsFile.as_dataframe(filepath,time_index=False, absolute_time=False, scaled_data=True)\n",
    "\n",
    "# C:\\Users\\muhammad.tahir.ctr\\OneDrive - Rheem Manufacturing Company\\Desktop\\work-progress\\UEF-work\\uef-analysis\\data-tdms-160k"
   ]
  },
  {
   "cell_type": "code",
   "execution_count": null,
   "id": "95165620",
   "metadata": {},
   "outputs": [],
   "source": [
    "#creating dataframe df1 of \"Q3 ICN 10196 RTGH-S11IS1-0907.SM22014\"\n",
    "df1 = pd.read_tdms(\"./data-tdms-160k/ST4 ICN 12256 RTG-SR11iS1-8242.SM22014.tdms\")"
   ]
  },
  {
   "cell_type": "code",
   "execution_count": null,
   "id": "e0e46d90",
   "metadata": {},
   "outputs": [],
   "source": [
    "#readong first 5 rows of \"NL I09\"\n",
    "df1.head()"
   ]
  },
  {
   "cell_type": "code",
   "execution_count": null,
   "id": "c6a0bfbc",
   "metadata": {},
   "outputs": [],
   "source": [
    "# looking at null values and data types of each column for \"NL I09\"\n",
    "df1.info()"
   ]
  },
  {
   "cell_type": "code",
   "execution_count": null,
   "id": "e1082700",
   "metadata": {},
   "outputs": [],
   "source": [
    "df1.columns"
   ]
  },
  {
   "cell_type": "code",
   "execution_count": null,
   "id": "8ada730b",
   "metadata": {},
   "outputs": [],
   "source": [
    "df2 = df1.iloc[:, 0:18]\n",
    "df2.info()"
   ]
  },
  {
   "cell_type": "code",
   "execution_count": null,
   "id": "05435744",
   "metadata": {},
   "outputs": [],
   "source": [
    "# can we drop columns 27 to 58 ? yes i can drop all \n",
    "\n",
    "#after 14, no need to keep any field\n",
    "\n",
    "# what is important or what ?\n",
    "\n",
    "# Station           Unit Name          Model  anything important here ?\n",
    "\n",
    "# Purge    Draw    cut ?\n",
    "\n",
    "#what is target variable ?"
   ]
  },
  {
   "cell_type": "code",
   "execution_count": null,
   "id": "6632b6a6",
   "metadata": {},
   "outputs": [],
   "source": [
    "#df1['Date/Time'].head()"
   ]
  },
  {
   "cell_type": "code",
   "execution_count": null,
   "id": "42d0cea2",
   "metadata": {},
   "outputs": [],
   "source": [
    "#df1['Date/Time'] = pd.to_datetime(df1['Date/Time'])"
   ]
  },
  {
   "cell_type": "code",
   "execution_count": null,
   "id": "4b0bb69f",
   "metadata": {},
   "outputs": [],
   "source": [
    "#df1['Date/Time'].head()"
   ]
  },
  {
   "cell_type": "code",
   "execution_count": null,
   "id": "365b44f2",
   "metadata": {},
   "outputs": [],
   "source": [
    "#df1.head()"
   ]
  },
  {
   "cell_type": "code",
   "execution_count": null,
   "id": "5b4bb340",
   "metadata": {},
   "outputs": [],
   "source": [
    "#df1 = df1.drop(['WHTRSETP', \"Station\", \"MODEL_ID\"], axis=1)\n",
    "#df1.info()"
   ]
  },
  {
   "cell_type": "code",
   "execution_count": null,
   "id": "9387a582",
   "metadata": {},
   "outputs": [],
   "source": [
    "df2.shape"
   ]
  },
  {
   "cell_type": "code",
   "execution_count": null,
   "id": "ff5e9d38",
   "metadata": {},
   "outputs": [],
   "source": [
    "#checking null values\n",
    "df2.isnull().sum()"
   ]
  },
  {
   "cell_type": "code",
   "execution_count": null,
   "id": "d6627ff2",
   "metadata": {},
   "outputs": [],
   "source": [
    "#df1.dropna(how='all')"
   ]
  },
  {
   "cell_type": "code",
   "execution_count": null,
   "id": "a6a5f30e",
   "metadata": {},
   "outputs": [],
   "source": [
    "#df1.head()"
   ]
  },
  {
   "cell_type": "code",
   "execution_count": null,
   "id": "a7e9af68",
   "metadata": {},
   "outputs": [],
   "source": [
    "#df1.info()"
   ]
  },
  {
   "cell_type": "code",
   "execution_count": null,
   "id": "3014d546",
   "metadata": {},
   "outputs": [],
   "source": [
    "# bar chart to see missing visual in df_data\n",
    "plt.figure(figsize = (10,10))\n",
    "\n",
    "df2.isnull().sum().plot(kind = 'barh')\n",
    "plt.title('Number of Missing Values by Column', size = 25)\n",
    "plt.xlabel('Count', size = 25);"
   ]
  },
  {
   "cell_type": "code",
   "execution_count": null,
   "id": "0e6aac81",
   "metadata": {},
   "outputs": [],
   "source": [
    "# selecting the most filled fields and droping most empty fieds"
   ]
  },
  {
   "cell_type": "code",
   "execution_count": null,
   "id": "f1d130c7",
   "metadata": {},
   "outputs": [],
   "source": [
    "plt.figure(figsize=(15, 5))\n",
    "df2['Drawn Water (Gallons)'].hist()"
   ]
  },
  {
   "cell_type": "code",
   "execution_count": null,
   "id": "53c25064",
   "metadata": {},
   "outputs": [],
   "source": [
    "#visual of correlation between fields or columns\n",
    "plt.figure(figsize=(12, 12))\n",
    "mask = np.zeros_like(df2.corr())\n",
    "mask[np.triu_indices_from(mask)] = True\n",
    "sns.heatmap(df2.corr(), mask = mask, square = True, cmap = 'viridis', annot = True, vmin=-1, vmax=1);"
   ]
  },
  {
   "cell_type": "code",
   "execution_count": null,
   "id": "0aadb6de",
   "metadata": {
    "scrolled": false
   },
   "outputs": [],
   "source": [
    "#visual of correlation between fields or columns\n",
    "plt.figure(figsize=(10,8))\n",
    "\n",
    "sns.heatmap(df2.corr()[['Drawn Water (Gallons)']].sort_values('Drawn Water (Gallons)', ascending=False), annot=True, cmap='viridis');"
   ]
  },
  {
   "cell_type": "code",
   "execution_count": null,
   "id": "775435a1",
   "metadata": {},
   "outputs": [],
   "source": [
    "#I need to check for  CP is (Tin+Tout)/2 average temperature\n",
    "\n",
    "# and then correlation of this field with all other????"
   ]
  },
  {
   "cell_type": "code",
   "execution_count": null,
   "id": "e3d24c81",
   "metadata": {},
   "outputs": [],
   "source": [
    "df2 ['T_avg'] = (df2['Tin'] + df2['Tout'])/2\n",
    "df3 = df2\n",
    "df3.info()"
   ]
  },
  {
   "cell_type": "code",
   "execution_count": null,
   "id": "7bf76bca",
   "metadata": {},
   "outputs": [],
   "source": [
    "#visual of correlation between fields or columns\n",
    "plt.figure(figsize=(10,8))\n",
    "\n",
    "sns.heatmap(df3.corr()[['T_avg']].sort_values('T_avg', ascending=False), annot=True, cmap='viridis');"
   ]
  },
  {
   "cell_type": "code",
   "execution_count": null,
   "id": "d7f7b1b1",
   "metadata": {},
   "outputs": [],
   "source": [
    "#'Gas TC'\n",
    "#visual of correlation between fields or columns\n",
    "plt.figure(figsize=(10,8))\n",
    "\n",
    "sns.heatmap(df3.corr()[['Gas TC']].sort_values('Gas TC', ascending=False), annot=True, cmap='viridis');"
   ]
  },
  {
   "cell_type": "code",
   "execution_count": null,
   "id": "cc931bbe",
   "metadata": {},
   "outputs": [],
   "source": [
    "#Scatter plot to see relation between CHE_FIGN and FLAMECUR\n",
    "df1.plot(kind='scatter', x = 'CHE_FIGN', y='FLAMECUR');"
   ]
  },
  {
   "cell_type": "code",
   "execution_count": null,
   "id": "8563e97e",
   "metadata": {},
   "outputs": [],
   "source": [
    "#Scatter plot to see relation between CHE_FIGN and FLAMECUR\n",
    "df1.plot(kind='scatter', x = 'CHE_FIGN', y='AND2CURR');"
   ]
  },
  {
   "cell_type": "code",
   "execution_count": null,
   "id": "fd5ccd02",
   "metadata": {},
   "outputs": [],
   "source": [
    "#Scatter plot to see relation between CHE_FIGN and FLAMECUR\n",
    "#df1.plot(kind='scatter', x = 'CHE_FIGN', y='WHTRSETP');"
   ]
  },
  {
   "cell_type": "code",
   "execution_count": null,
   "id": "36d4aa31",
   "metadata": {},
   "outputs": [],
   "source": [
    "#Scatter plot to see relation between CHE_FIGN and FLAMECUR\n",
    "df1.plot(kind='scatter', x = 'CHE_FIGN', y='Date/Time');"
   ]
  },
  {
   "cell_type": "code",
   "execution_count": null,
   "id": "a342d3c2",
   "metadata": {},
   "outputs": [],
   "source": [
    "#Scatter plot to see relation between CHE_FIGN and CHE_SIGN\n",
    "df1.plot(kind='scatter', x = 'CHE_FIGN', y='CHE_SIGN');"
   ]
  },
  {
   "cell_type": "code",
   "execution_count": null,
   "id": "fbb7ab2e",
   "metadata": {},
   "outputs": [],
   "source": [
    "#Scatter plot to see relation between CHE_FIGN and T_HEALTH\n",
    "df1.plot(kind='scatter', x = 'CHE_FIGN', y='T_HEALTH');"
   ]
  },
  {
   "cell_type": "code",
   "execution_count": null,
   "id": "76c993ac",
   "metadata": {},
   "outputs": [],
   "source": [
    "df1['T_HEALTH'].hist()"
   ]
  },
  {
   "cell_type": "code",
   "execution_count": null,
   "id": "a0c9ec7b",
   "metadata": {},
   "outputs": [],
   "source": [
    "#Scatter plot to see relation between CHE_FIGN and C_HEALTH\n",
    "df1.plot(kind='scatter', x = 'CHE_FIGN', y='C_HEALTH');"
   ]
  },
  {
   "cell_type": "code",
   "execution_count": null,
   "id": "87db6ba3",
   "metadata": {},
   "outputs": [],
   "source": [
    "df1['C_HEALTH'].hist()"
   ]
  },
  {
   "cell_type": "code",
   "execution_count": null,
   "id": "1e6cd7bb",
   "metadata": {},
   "outputs": [],
   "source": [
    "#Scatter plot to see relation between CHE_FIGN and CHE_BMIN\n",
    "df1.plot(kind='scatter', x = 'CHE_FIGN', y='CHE_BMIN');"
   ]
  },
  {
   "cell_type": "code",
   "execution_count": null,
   "id": "97711100",
   "metadata": {},
   "outputs": [],
   "source": [
    "#Scatter plot to see relation between CHE_FIGN and CHE_BMIN\n",
    "df1.plot(kind='scatter', x = 'CHE_FIGN', y='AND2CURR');"
   ]
  },
  {
   "cell_type": "code",
   "execution_count": null,
   "id": "e12b5116",
   "metadata": {},
   "outputs": [],
   "source": [
    "#selct and drop any columns\n",
    "# features = ['column1', 'column2']\n",
    "#df1_columns = df1[features]\n",
    "#df1_final = df_final['CHE_FIGN']\n",
    "#df1_final = df_final.drop(columns=['CHE_FIGN', 'CHE_FIGN'])"
   ]
  },
  {
   "cell_type": "code",
   "execution_count": null,
   "id": "50109b5e",
   "metadata": {},
   "outputs": [],
   "source": [
    "#creating dataframe df2 of \"NL I10\"\n",
    "df2 = pd.read_csv(\"./clean-anes/NL I10.csv\")"
   ]
  },
  {
   "cell_type": "code",
   "execution_count": null,
   "id": "d901ec0a",
   "metadata": {},
   "outputs": [],
   "source": [
    "#readong first 5 rows of \"NL I10\"\n",
    "df2.head()"
   ]
  },
  {
   "cell_type": "code",
   "execution_count": null,
   "id": "5b97b548",
   "metadata": {},
   "outputs": [],
   "source": [
    "# looking at null values and data types of each column for \"NL I09\"\n",
    "df2.info()"
   ]
  },
  {
   "cell_type": "code",
   "execution_count": null,
   "id": "2c2697bd",
   "metadata": {},
   "outputs": [],
   "source": []
  }
 ],
 "metadata": {
  "kernelspec": {
   "display_name": "Python 3",
   "language": "python",
   "name": "python3"
  },
  "language_info": {
   "codemirror_mode": {
    "name": "ipython",
    "version": 3
   },
   "file_extension": ".py",
   "mimetype": "text/x-python",
   "name": "python",
   "nbconvert_exporter": "python",
   "pygments_lexer": "ipython3",
   "version": "3.8.8"
  }
 },
 "nbformat": 4,
 "nbformat_minor": 5
}
